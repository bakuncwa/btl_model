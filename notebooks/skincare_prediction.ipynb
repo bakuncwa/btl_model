{
 "cells": [
  {
   "cell_type": "code",
   "execution_count": 26,
   "metadata": {},
   "outputs": [
    {
     "name": "stdout",
     "output_type": "stream",
     "text": [
      "3.5.4\n"
     ]
    }
   ],
   "source": [
    "import findspark\n",
    "findspark.init()\n",
    "from pyspark.sql import SparkSession\n",
    "\n",
    "spark = SparkSession.builder \\\n",
    "        .master('local[*]') \\\n",
    "        .appName('Basics') \\\n",
    "        .getOrCreate()\n",
    "\n",
    "print(spark.version)"
   ]
  },
  {
   "cell_type": "code",
   "execution_count": 27,
   "metadata": {},
   "outputs": [],
   "source": [
    "import numpy as np\n",
    "import pandas as pd\n",
    "import matplotlib.pyplot as plt\n",
    "import seaborn as sns\n",
    "from sklearn.model_selection import train_test_split\n",
    "from sklearn.preprocessing import MinMaxScaler, StandardScaler, OneHotEncoder\n",
    "from sklearn.linear_model import LogisticRegression\n",
    "from sklearn.metrics import accuracy_score, precision_score, recall_score, confusion_matrix, ConfusionMatrixDisplay, classification_report\n",
    "from sklearn.compose import ColumnTransformer\n",
    "from sklearn.pipeline import Pipeline\n",
    "from catboost import CatBoostClassifier, CatBoostRegressor\n",
    "\n",
    "pd.set_option('display.max_columns', None)\n",
    "pd.set_option('display.max_rows', None)\n",
    "\n",
    "# Assign home directory\n",
    "home_dir = 'C:/Users/gyalm/OneDrive/Desktop/btl_model'"
   ]
  },
  {
   "cell_type": "code",
   "execution_count": 28,
   "metadata": {},
   "outputs": [
    {
     "name": "stdout",
     "output_type": "stream",
     "text": [
      "Functions ready!\n"
     ]
    }
   ],
   "source": [
    "# Define functions\n",
    "# Import additional packages\n",
    "import datetime\n",
    "import csv\n",
    "import yaml\n",
    "import io\n",
    "import dill as pickle\n",
    "import os\n",
    "\n",
    "def get_datetime():\n",
    "    \"\"\"Returns datetime for filename use.\n",
    "\n",
    "    :return: datetime\n",
    "    :rtype: string\n",
    "    \"\"\"\n",
    "    stamp = datetime.datetime.now()\n",
    "    datetime_name = f\"{stamp.year:04}{stamp.month:02}{stamp.day:02}_{stamp.hour:02}{stamp.minute:02}\"\n",
    "    print(datetime_name)\n",
    "    return datetime_name\n",
    "\n",
    "print('Functions ready!')"
   ]
  },
  {
   "cell_type": "code",
   "execution_count": 32,
   "metadata": {},
   "outputs": [
    {
     "name": "stdout",
     "output_type": "stream",
     "text": [
      "+-------+---+------+--------+------+--------------+----------------+------------+-----------+-------------+-----------+--------+----------+--------------------+-------------+\n",
      "|user_id|age| price|quantity|rating|transaction_id|transaction_date|product_code|category_id|category_name|temperature|humidity|wind_speed|        weather_list|realfeel_list|\n",
      "+-------+---+------+--------+------+--------------+----------------+------------+-----------+-------------+-----------+--------+----------+--------------------+-------------+\n",
      "|   4515| 63|185.22|       3|   4.0|        728380|      2023-07-03|      SK2800|          1|    CLEANSERS|       24.7|    48.6|       2.6|Mostly cloudy wit...|         22.7|\n",
      "|   2897| 60|149.97|       1|   3.7|        914925|      2024-12-25|      SK6868|          8|   SUNSCREENS|       31.4|    79.7|       7.7|        Partly sunny|         30.3|\n",
      "|   4473| 32|121.42|       4|   3.3|        869743|      2023-04-04|      SK4406|          8|   SUNSCREENS|       35.4|    36.9|       3.0|             Showers|         32.5|\n",
      "|   4660| 37|  45.4|       1|   4.8|        351301|      2023-03-24|      SK8092|          2|       TONERS|       27.1|    40.0|       1.6|        Partly sunny|         28.8|\n",
      "|   1711| 36|  54.6|       3|   1.4|        606273|      2024-04-16|      SK4514|          5|       SERUMS|       -1.1|    30.5|      14.9|       Partly cloudy|          1.8|\n",
      "|   3208| 53|  50.1|       1|   3.0|        325870|      2024-03-21|      SK5728|          1|    CLEANSERS|       31.9|    83.2|      26.8|               Sunny|         31.0|\n",
      "|   2716| 20|130.49|       2|   1.2|        490754|      2023-07-02|      SK7914|          5|       SERUMS|        3.5|    33.4|      26.4|Mostly cloudy wit...|          1.4|\n",
      "|   4377| 27|  5.59|       2|   4.0|        828983|      2024-06-01|      SK1644|          8|   SUNSCREENS|        9.3|    84.6|      14.4|Mostly cloudy w s...|          7.4|\n",
      "|   2110| 48| 170.6|       3|   4.2|        853033|      2023-03-01|      SK5627|          1|    CLEANSERS|       35.5|    73.5|      27.0|        Mostly sunny|         35.8|\n",
      "|   1742| 53| 94.53|       1|   2.1|        880788|      2024-04-02|      SK6971|          7|        MASKS|       -2.6|    77.3|      25.2|               Sunny|         -1.5|\n",
      "+-------+---+------+--------+------+--------------+----------------+------------+-----------+-------------+-----------+--------+----------+--------------------+-------------+\n",
      "only showing top 10 rows\n",
      "\n"
     ]
    }
   ],
   "source": [
    "# Read CSV\n",
    "df = spark.read.csv(f\"{home_dir}/data/skincare_transactions.csv\", inferSchema=True, header=True)\n",
    "df.show(10)\n",
    "df.createOrReplaceTempView(\"df_view\")"
   ]
  },
  {
   "cell_type": "code",
   "execution_count": 33,
   "metadata": {},
   "outputs": [
    {
     "name": "stdout",
     "output_type": "stream",
     "text": [
      "+---------------------+---------------------+\n",
      "|min(transaction_date)|max(transaction_date)|\n",
      "+---------------------+---------------------+\n",
      "|           2023-01-01|           2024-12-31|\n",
      "+---------------------+---------------------+\n",
      "\n"
     ]
    }
   ],
   "source": [
    "# Check partition dates\n",
    "spark.sql('''\n",
    "SELECT\n",
    "   MIN(transaction_date)\n",
    "  ,MAX(transaction_date)\n",
    "FROM\n",
    "  df_view\n",
    "''').show()"
   ]
  },
  {
   "cell_type": "code",
   "execution_count": 7,
   "metadata": {},
   "outputs": [
    {
     "name": "stdout",
     "output_type": "stream",
     "text": [
      "+-------------+-------------+\n",
      "|category_name|product_count|\n",
      "+-------------+-------------+\n",
      "|       TONERS|         2289|\n",
      "|      EYECARE|         2239|\n",
      "|    ANTIAGING|         2237|\n",
      "|   SUNSCREENS|         2236|\n",
      "|       SERUMS|         2236|\n",
      "|    CLEANSERS|         2216|\n",
      "|   EXFOLIANTS|         2195|\n",
      "|        MASKS|         2183|\n",
      "| MOISTURIZERS|         2169|\n",
      "+-------------+-------------+\n",
      "\n"
     ]
    }
   ],
   "source": [
    "# Count no. of product types under each skincare category\n",
    "spark.sql('''\n",
    "SELECT \n",
    "  category_name, \n",
    "  COUNT(product_code) AS product_count\n",
    "FROM \n",
    "  df_view\n",
    "GROUP BY \n",
    "  category_name\n",
    "ORDER BY \n",
    "  product_count DESC\n",
    "''').show()"
   ]
  },
  {
   "cell_type": "code",
   "execution_count": 69,
   "metadata": {},
   "outputs": [
    {
     "name": "stdout",
     "output_type": "stream",
     "text": [
      "+-------------+-------------+-------------+\n",
      "|category_name|product_count|total_revenue|\n",
      "+-------------+-------------+-------------+\n",
      "|       TONERS|         2289|     721806.5|\n",
      "|       SERUMS|         2236|    690544.72|\n",
      "|   EXFOLIANTS|         2195|    684883.76|\n",
      "| MOISTURIZERS|         2169|    683489.89|\n",
      "|   SUNSCREENS|         2236|    676396.53|\n",
      "|        MASKS|         2183|    673321.62|\n",
      "|    ANTIAGING|         2237|    670187.22|\n",
      "|      EYECARE|         2239|    666658.57|\n",
      "|    CLEANSERS|         2216|    663146.35|\n",
      "+-------------+-------------+-------------+\n",
      "\n"
     ]
    }
   ],
   "source": [
    "# Calculate total revenue of each skincare category to find low performing category\n",
    "spark.sql('''\n",
    "SELECT \n",
    "  category_name, \n",
    "  COUNT(product_code) AS product_count,\n",
    "  ROUND(SUM(price * quantity), 2) AS total_revenue\n",
    "FROM \n",
    "  df_view\n",
    "GROUP BY \n",
    "  category_name\n",
    "ORDER BY \n",
    "  total_revenue DESC\n",
    "''').show()"
   ]
  },
  {
   "cell_type": "code",
   "execution_count": 70,
   "metadata": {},
   "outputs": [
    {
     "name": "stdout",
     "output_type": "stream",
     "text": [
      "+-------------+----------------------+\n",
      "|category_name|distinct_product_count|\n",
      "+-------------+----------------------+\n",
      "|       SERUMS|                    30|\n",
      "+-------------+----------------------+\n",
      "\n"
     ]
    }
   ],
   "source": [
    "# Count distinct low-performing product in middle skincare category (SERUMS)\n",
    "spark.sql('''\n",
    "SELECT \n",
    "  category_name, \n",
    "  COUNT(DISTINCT product_code) AS distinct_product_count\n",
    "FROM \n",
    "  df_view\n",
    "WHERE \n",
    "  category_name = 'SERUMS'\n",
    "GROUP BY \n",
    "  category_name\n",
    "''').show()"
   ]
  },
  {
   "cell_type": "code",
   "execution_count": 71,
   "metadata": {},
   "outputs": [
    {
     "name": "stdout",
     "output_type": "stream",
     "text": [
      "+------------+-------------+-------------+\n",
      "|product_code|category_name|total_revenue|\n",
      "+------------+-------------+-------------+\n",
      "|      SK9029|       SERUMS|     28241.36|\n",
      "|      SK9803|       SERUMS|     26786.49|\n",
      "|      SK7465|       SERUMS|     26651.46|\n",
      "|      SK6490|       SERUMS|      25956.7|\n",
      "|      SK4507|       SERUMS|     25157.49|\n",
      "|      SK2615|       SERUMS|     24619.95|\n",
      "|      SK7914|       SERUMS|     24524.39|\n",
      "|      SK1041|       SERUMS|     24180.52|\n",
      "|      SK2495|       SERUMS|     23668.68|\n",
      "|      SK4514|       SERUMS|      23569.6|\n",
      "|      SK3736|       SERUMS|     23429.81|\n",
      "|      SK4128|       SERUMS|     23231.75|\n",
      "|      SK6203|       SERUMS|     23202.02|\n",
      "|      SK4131|       SERUMS|     22943.27|\n",
      "|      SK9642|       SERUMS|     22818.09|\n",
      "|      SK4382|       SERUMS|     22672.66|\n",
      "|      SK6584|       SERUMS|     22448.19|\n",
      "|      SK6551|       SERUMS|     22411.56|\n",
      "|      SK2400|       SERUMS|     22286.16|\n",
      "|      SK6121|       SERUMS|     22117.12|\n",
      "+------------+-------------+-------------+\n",
      "only showing top 20 rows\n",
      "\n"
     ]
    }
   ],
   "source": [
    "# Calculate and rank sales revenue of products from low-performing SERUMS category\n",
    "spark.sql('''\n",
    "SELECT \n",
    "  product_code,\n",
    "  category_name,\n",
    "  ROUND(SUM(price * quantity), 2) AS total_revenue\n",
    "FROM \n",
    "  df_view\n",
    "WHERE \n",
    "  category_name = 'SERUMS'\n",
    "GROUP BY \n",
    "  product_code, category_name\n",
    "ORDER BY \n",
    "  total_revenue DESC\n",
    "''').show()"
   ]
  },
  {
   "cell_type": "code",
   "execution_count": 72,
   "metadata": {},
   "outputs": [
    {
     "name": "stdout",
     "output_type": "stream",
     "text": [
      "+------------+---------------------+--------------------+----------+\n",
      "|product_code|total_product_revenue|median_serum_revenue|difference|\n",
      "+------------+---------------------+--------------------+----------+\n",
      "|      SK4382|   22672.660000000007|  22672.660000000007|       0.0|\n",
      "+------------+---------------------+--------------------+----------+\n",
      "\n"
     ]
    }
   ],
   "source": [
    "# Identify which product_code revenue is closest to median revenue\n",
    "spark.sql('''\n",
    "WITH serum_revenue AS (\n",
    "  SELECT \n",
    "    product_code,\n",
    "    SUM(price * quantity) AS total_product_revenue\n",
    "  FROM \n",
    "    df_view\n",
    "  WHERE \n",
    "    category_name = 'SERUMS'\n",
    "  GROUP BY \n",
    "    product_code\n",
    "),\n",
    "median_value AS (\n",
    "  SELECT \n",
    "    PERCENTILE_APPROX(total_product_revenue, 0.5) AS median_serum_revenue\n",
    "  FROM \n",
    "    serum_revenue\n",
    ")\n",
    "SELECT \n",
    "  s.product_code,\n",
    "  s.total_product_revenue,\n",
    "  m.median_serum_revenue,\n",
    "  ABS(s.total_product_revenue - m.median_serum_revenue) AS difference\n",
    "FROM \n",
    "  serum_revenue s\n",
    "CROSS JOIN \n",
    "  median_value m\n",
    "ORDER BY \n",
    "  difference ASC\n",
    "LIMIT 1\n",
    "''').show()"
   ]
  },
  {
   "cell_type": "code",
   "execution_count": 82,
   "metadata": {},
   "outputs": [
    {
     "data": {
      "image/png": "[encoded data removed]",
      "text/plain": [
       "<Figure size 1200x600 with 1 Axes>"
      ]
     },
     "metadata": {},
     "output_type": "display_data"
    }
   ],
   "source": [
    "# Monthly Revenue Comparison: Product SK4382 vs. Total SERUMS (2023)\n",
    "\n",
    "df = spark.sql('''\n",
    "WITH serum_monthly_revenue AS (\n",
    "  SELECT \n",
    "    DATE_FORMAT(transaction_date, 'yyyy-MM') AS sale_date,\n",
    "    SUM(price * quantity) AS total_serums_revenue\n",
    "  FROM \n",
    "    df_view\n",
    "  WHERE \n",
    "    category_name = 'SERUMS' \n",
    "    AND transaction_date BETWEEN '2023-01-01' AND '2024-12-31'\n",
    "  GROUP BY \n",
    "    DATE_FORMAT(transaction_date, 'yyyy-MM')\n",
    "),\n",
    "product_monthly_revenue AS (\n",
    "  SELECT \n",
    "    DATE_FORMAT(transaction_date, 'yyyy-MM') AS sale_date,\n",
    "    SUM(price * quantity) AS product_revenue\n",
    "  FROM \n",
    "    df_view\n",
    "  WHERE \n",
    "    category_name = 'SERUMS' \n",
    "    AND product_code = 'SK4382'\n",
    "    AND transaction_date BETWEEN '2023-01-01' AND '2024-12-31'\n",
    "  GROUP BY \n",
    "    DATE_FORMAT(transaction_date, 'yyyy-MM')\n",
    ")\n",
    "SELECT \n",
    "  p.sale_date,\n",
    "  p.product_revenue,\n",
    "  s.total_serums_revenue\n",
    "FROM \n",
    "  product_monthly_revenue p\n",
    "JOIN \n",
    "  serum_monthly_revenue s\n",
    "ON \n",
    "  p.sale_date = s.sale_date\n",
    "ORDER BY \n",
    "  p.sale_date\n",
    "''')\n",
    "\n",
    "df_pandas = df.toPandas()\n",
    "\n",
    "plt.figure(figsize=(12, 6))\n",
    "\n",
    "sns.barplot(\n",
    "    x='sale_date', y='product_revenue', data=df_pandas, \n",
    "    color='blue', label='SK4382 Revenue'\n",
    ")\n",
    "\n",
    "sns.lineplot(\n",
    "    x='sale_date', y='product_revenue', data=df_pandas, \n",
    "    color='blue', marker='o', label='SK4382 Revenue'\n",
    ")\n",
    "\n",
    "sns.lineplot(\n",
    "    x='sale_date', y='total_serums_revenue', data=df_pandas, \n",
    "    color='red', marker='o', label='Total SERUMS Revenue'\n",
    ")\n",
    "\n",
    "plt.xticks(rotation=45)\n",
    "plt.xlabel(\"Month (2023-2024)\")\n",
    "plt.ylabel(\"Revenue (PHP)\")\n",
    "plt.title(\"Monthly Revenue Comparison: SK4382 vs. Total SERUMS (2023-2024)\")\n",
    "plt.legend()\n",
    "plt.show()"
   ]
  },
  {
   "cell_type": "code",
   "execution_count": 87,
   "metadata": {},
   "outputs": [
    {
     "data": {
      "image/png": "[encoded data removed]",
      "text/plain": [
       "<Figure size 1200x600 with 1 Axes>"
      ]
     },
     "metadata": {},
     "output_type": "display_data"
    }
   ],
   "source": [
    "# Focus on product SK4382 sales distribution\n",
    "df = spark.sql('''\n",
    "WITH low_product_sales AS (\n",
    "    SELECT \n",
    "        transaction_date AS sale_date,\n",
    "        SUM(quantity) AS total_quantity\n",
    "    FROM df_view\n",
    "    WHERE \n",
    "        transaction_date BETWEEN '2023-01-01' AND '2024-12-31'\n",
    "        AND product_code = 'SK4382'\n",
    "    GROUP BY sale_date\n",
    ")\n",
    "SELECT \n",
    "    sale_date, \n",
    "    total_quantity\n",
    "FROM low_product_sales\n",
    "ORDER BY sale_date;\n",
    "''')\n",
    "\n",
    "df_pandas = df.toPandas()\n",
    "\n",
    "df_pandas['sale_date'] = pd.to_datetime(df_pandas['sale_date'])\n",
    "\n",
    "plt.figure(figsize=(12, 6))\n",
    "sns.histplot(df_pandas, x='sale_date', weights='total_quantity', bins=30, kde=True, color='blue')\n",
    "\n",
    "plt.xlabel(\"Date\")\n",
    "plt.ylabel(\"Quantity Sold\")\n",
    "plt.title(\"Product SK4382 Sales Distribution (2023-2024)\")\n",
    "plt.xticks(rotation=45)\n",
    "\n",
    "plt.show()"
   ]
  },
  {
   "cell_type": "code",
   "execution_count": 94,
   "metadata": {},
   "outputs": [
    {
     "data": {
      "image/png": "[encoded data removed]",
      "text/plain": [
       "<Figure size 1400x700 with 2 Axes>"
      ]
     },
     "metadata": {},
     "output_type": "display_data"
    }
   ],
   "source": [
    "# Weather Patterns & Temperature Trends for Product SK4382 (2023-2024)\n",
    "df = spark.sql('''\n",
    "WITH monthly_sales AS (\n",
    "    SELECT \n",
    "        DATE_TRUNC('month', transaction_date) AS sale_date,\n",
    "        weather_list,\n",
    "        CAST(temperature AS FLOAT) AS temperature,  -- FIXED COLUMN NAME\n",
    "        CAST(realfeel_list AS FLOAT) AS realfeel_list\n",
    "    FROM df_view\n",
    "    WHERE product_code = 'SK4382'\n",
    "        AND transaction_date BETWEEN '2023-01-01' AND '2024-12-31'\n",
    "),\n",
    "\n",
    "weather_count_per_month AS (\n",
    "    SELECT \n",
    "        sale_date,\n",
    "        weather_list,\n",
    "        COUNT(*) AS weather_count\n",
    "    FROM monthly_sales\n",
    "    GROUP BY sale_date, weather_list\n",
    "),\n",
    "\n",
    "monthly_averages AS (\n",
    "    SELECT \n",
    "        sale_date,\n",
    "        ROUND(AVG(temperature), 2) AS avg_temperature,\n",
    "        ROUND(AVG(realfeel_list), 2) AS avg_realfeel\n",
    "    FROM monthly_sales\n",
    "    GROUP BY sale_date\n",
    ")\n",
    "\n",
    "SELECT \n",
    "    wc.sale_date,\n",
    "    wc.weather_list,\n",
    "    wc.weather_count,\n",
    "    ma.avg_temperature,\n",
    "    ma.avg_realfeel\n",
    "FROM weather_count_per_month wc\n",
    "LEFT JOIN monthly_averages ma \n",
    "    ON wc.sale_date = ma.sale_date\n",
    "ORDER BY wc.sale_date ASC\n",
    "''')\n",
    "\n",
    "df_pandas = df.toPandas()\n",
    "\n",
    "df_pandas[\"sale_date\"] = pd.to_datetime(df_pandas[\"sale_date\"]).dt.strftime('%Y-%m')\n",
    "\n",
    "weather_pivot = df_pandas.pivot(index=\"sale_date\", columns=\"weather_list\", values=\"weather_count\").fillna(0)\n",
    "\n",
    "fig, ax1 = plt.subplots(figsize=(14, 7))\n",
    "\n",
    "weather_pivot.plot(kind=\"bar\", stacked=True, colormap=\"tab10\", ax=ax1, alpha=0.75)\n",
    "\n",
    "ax2 = ax1.twinx()\n",
    "ax2.plot(df_pandas[\"sale_date\"], df_pandas[\"avg_temperature\"], color=\"orange\", marker=\"o\", linestyle=\"-\", linewidth=2, label=\"Avg Temperature (°C)\")\n",
    "ax2.plot(df_pandas[\"sale_date\"], df_pandas[\"avg_realfeel\"], color=\"green\", marker=\"s\", linestyle=\"--\", linewidth=2, label=\"Avg RealFeel (°C)\")\n",
    "\n",
    "ax1.set_xlabel(\"Sale Date (2023-2024)\")\n",
    "ax1.set_ylabel(\"Weather Type Count\")\n",
    "ax2.set_ylabel(\"Temperature (°C)\")\n",
    "plt.title(\"Weather Patterns & Temperature Trends for Product SK4382 (2023-2024)\")\n",
    "\n",
    "plt.xticks(rotation=45)\n",
    "\n",
    "ax1.legend(loc=\"upper left\", title=\"Weather Conditions\")\n",
    "ax2.legend(loc=\"upper right\")\n",
    "\n",
    "plt.show()"
   ]
  },
  {
   "cell_type": "code",
   "execution_count": null,
   "metadata": {},
   "outputs": [
    {
     "data": {
      "image/png": "[encoded data removed]",
      "text/plain": [
       "<Figure size 600x500 with 2 Axes>"
      ]
     },
     "metadata": {},
     "output_type": "display_data"
    }
   ],
   "source": [
    "# Compute correlation matrix for avg_temperature & total_product_revenue SK4382 \n",
    "df = spark.sql(\"\"\"\n",
    "    WITH weather_sales AS (\n",
    "        SELECT \n",
    "            weather_list,\n",
    "            ROUND(AVG(temperature), 2) AS avg_temperature,\n",
    "            ROUND(AVG(realfeel_list), 2) AS avg_realfeel,\n",
    "            SUM(quantity * price) AS total_product_revenue\n",
    "        FROM df_view\n",
    "        WHERE product_code = 'SK4382'\n",
    "            AND transaction_date BETWEEN '2023-01-01' AND '2024-12-31'\n",
    "        GROUP BY weather_list\n",
    "    )\n",
    "    SELECT * FROM weather_sales\n",
    "\"\"\").toPandas()\n",
    "\n",
    "df = df.round(2)\n",
    "\n",
    "correlation_matrix = df[['avg_temperature', 'total_product_revenue']].corr()\n",
    "\n",
    "plt.figure(figsize=(6, 5))\n",
    "sns.heatmap(correlation_matrix, annot=True, fmt=\".2f\", cmap=\"coolwarm\", linewidths=0.5, vmin=-1, vmax=1)\n",
    "\n",
    "plt.title(\"Correlation Heatmap: Avg Temperature vs. Product SK4382 Revenue (2023-2024)\")\n",
    "plt.show()"
   ]
  },
  {
   "cell_type": "code",
   "execution_count": 97,
   "metadata": {},
   "outputs": [
    {
     "data": {
      "image/png": "[encoded data removed]",
      "text/plain": [
       "<Figure size 600x500 with 2 Axes>"
      ]
     },
     "metadata": {},
     "output_type": "display_data"
    }
   ],
   "source": [
    "# Compute correlation matrix for avg_windspeed & total_product_revenue SK4382\n",
    "\n",
    "df_weather = spark.sql(\"\"\"\n",
    "    WITH weather_sales AS (\n",
    "        SELECT \n",
    "            weather_list,\n",
    "            ROUND(AVG(wind_speed), 2) AS avg_windspeed,\n",
    "            SUM(quantity * price) AS total_product_revenue\n",
    "        FROM df_view\n",
    "        WHERE product_code = 'SK4382'\n",
    "            AND transaction_date BETWEEN '2023-01-01' AND '2024-12-31'\n",
    "        GROUP BY weather_list\n",
    "    )\n",
    "    SELECT * FROM weather_sales\n",
    "\"\"\").toPandas()\n",
    "\n",
    "df_weather = df_weather.round(2)\n",
    "\n",
    "correlation_matrix = df_weather[['avg_windspeed', 'total_product_revenue']].corr()\n",
    "\n",
    "plt.figure(figsize=(6, 5))\n",
    "sns.heatmap(correlation_matrix, annot=True, fmt=\".2f\", cmap=\"coolwarm\", linewidths=0.5, vmin=-1, vmax=1)\n",
    "\n",
    "plt.title(\"Correlation Heatmap: Avg Wind Speed vs. Product SK4382 Revenue (2023-2024)\")\n",
    "plt.show()\n"
   ]
  },
  {
   "cell_type": "code",
   "execution_count": 98,
   "metadata": {},
   "outputs": [
    {
     "data": {
      "image/png": "[encoded data removed]",
      "text/plain": [
       "<Figure size 600x500 with 2 Axes>"
      ]
     },
     "metadata": {},
     "output_type": "display_data"
    }
   ],
   "source": [
    "# Compute correlation matrix for avg_humidity & total_product_revenue SK4382\n",
    "\n",
    "df_weather = spark.sql(\"\"\"\n",
    "    WITH weather_sales AS (\n",
    "        SELECT \n",
    "            weather_list,\n",
    "            ROUND(AVG(humidity), 2) AS avg_humidity,\n",
    "            SUM(quantity * price) AS total_product_revenue\n",
    "        FROM df_view\n",
    "        WHERE product_code = 'SK4382'\n",
    "            AND transaction_date BETWEEN '2023-01-01' AND '2024-12-31'\n",
    "        GROUP BY weather_list\n",
    "    )\n",
    "    SELECT * FROM weather_sales\n",
    "\"\"\").toPandas()\n",
    "\n",
    "df_weather = df_weather.round(2)\n",
    "\n",
    "correlation_matrix = df_weather[['avg_humidity', 'total_product_revenue']].corr()\n",
    "\n",
    "plt.figure(figsize=(6, 5))\n",
    "sns.heatmap(correlation_matrix, annot=True, fmt=\".2f\", cmap=\"coolwarm\", linewidths=0.5, vmin=-1, vmax=1)\n",
    "\n",
    "plt.title(\"Correlation Heatmap: Avg Humidity vs. Product SK4382 Revenue (2023-2024)\")\n",
    "plt.show()"
   ]
  },
  {
   "cell_type": "markdown",
   "metadata": {},
   "source": [
    "**Comparison of Heatmaps:**\n",
    "\n",
    "1. _Avg Humidity vs. Product SK4382 Revenue_\n",
    "    - Correlation Coefficient: -0.31\n",
    "    - Interpretation: A moderate negative correlation, suggesting that as humidity increases, product revenue tends to decrease.\n",
    "\n",
    "2. _Avg Wind Speed vs. Product SK4382 Revenue_\n",
    "    - Correlation Coefficient: -0.10\n",
    "    - Interpretation: A weak negative correlation, indicating that wind speed has a minimal inverse impact on revenue.\n",
    "\n",
    "3. _Avg Temperature vs. Product SK4382 Revenue_\n",
    "    - Correlation Coefficient: -0.19\n",
    "    - Interpretation: A weak to moderate negative correlation, implying that higher temperatures slightly reduce product revenue.\n",
    "\n",
    "**Observations:**\n",
    "\n",
    "Humidity affects serum stability, absorption, packaging, and sales. High humidity can cause microbial growth and oxidation, while low humidity leads to evaporation and dehydration. It alters skin absorption, making hydrating serums sticky in moisture-rich environments and drying in arid conditions. These changes impact product effectiveness and customer retention, requiring brands to adjust formulations and storage guidelines.\n",
    "\n",
    "**References:**\n",
    "\n",
    "1. Ishida, M., Takeuchi, H., Endo, H., & Yamaguchi, J. (2015). Impact of humidity on in vitro human skin permeation Experiments for predicting in vivo permeability. Journal of Pharmaceutical Sciences, 104(12), 4223–4231. https://doi.org/10.1002/jps.24656\n",
    "\n",
    "2. Medeiros, D. M., & Ribeiro, A. P. B. (2022). Influence of temperature and relative humidity on the stability of bioactive compounds in pharmaceutical formulations. Journal of Pharmaceutical Sciences, 120(4), 456–472. https://doi.org/10.1016/j.jphs.2022.04.006"
   ]
  },
  {
   "cell_type": "code",
   "execution_count": 103,
   "metadata": {},
   "outputs": [
    {
     "name": "stdout",
     "output_type": "stream",
     "text": [
      "+-------------+-------------+\n",
      "|category_name|product_count|\n",
      "+-------------+-------------+\n",
      "|       SERUMS|           26|\n",
      "|    ANTIAGING|           26|\n",
      "|       TONERS|           25|\n",
      "|        MASKS|           24|\n",
      "|   SUNSCREENS|           23|\n",
      "|      EYECARE|           22|\n",
      "|   EXFOLIANTS|           22|\n",
      "| MOISTURIZERS|           21|\n",
      "|    CLEANSERS|           18|\n",
      "+-------------+-------------+\n",
      "\n"
     ]
    }
   ],
   "source": [
    "# Complementary category bought alongside product SK4382\n",
    "spark.sql('''\n",
    "WITH low_products_customers AS (\n",
    "    SELECT DISTINCT user_id\n",
    "    FROM df_view\n",
    "    WHERE product_code = 'SK4382'\n",
    ")\n",
    "\n",
    "SELECT \n",
    "    df.category_name,\n",
    "    COUNT(DISTINCT df.product_code) AS product_count\n",
    "FROM df_view df\n",
    "JOIN low_products_customers lp\n",
    "    ON df.user_id = lp.user_id\n",
    "WHERE df.product_code <> 'SK4382'\n",
    "GROUP BY df.category_name\n",
    "ORDER BY product_count DESC\n",
    "''').show()"
   ]
  },
  {
   "cell_type": "markdown",
   "metadata": {},
   "source": [
    "**Observations**: \n",
    "\n",
    "26 buyers who have bought product SK4382 have also bought complementary products from SERUMS and ANTIAGING.\n"
   ]
  },
  {
   "cell_type": "code",
   "execution_count": 110,
   "metadata": {},
   "outputs": [
    {
     "name": "stdout",
     "output_type": "stream",
     "text": [
      "+-----------------------+\n",
      "|overall_median_humidity|\n",
      "+-----------------------+\n",
      "|                   50.9|\n",
      "+-----------------------+\n",
      "\n"
     ]
    }
   ],
   "source": [
    "# Overall median humidity for when SERUMS products were bought from 2023-2024\n",
    "\n",
    "df = spark.sql(\"\"\"\n",
    "    SELECT \n",
    "        approx_percentile(humidity, 0.5) AS overall_median_humidity\n",
    "    FROM df_view\n",
    "    WHERE category_name = 'SERUMS' \n",
    "        AND humidity IS NOT NULL\n",
    "        AND transaction_date BETWEEN '2023-01-01' AND '2024-12-31'\n",
    "\"\"\")\n",
    "\n",
    "df.show()"
   ]
  },
  {
   "cell_type": "code",
   "execution_count": 55,
   "metadata": {},
   "outputs": [
    {
     "data": {
      "application/vnd.microsoft.datawrangler.viewer.v0+json": {
       "columns": [
        {
         "name": "index",
         "rawType": "int64",
         "type": "integer"
        },
        {
         "name": "user_id",
         "rawType": "int32",
         "type": "integer"
        },
        {
         "name": "age",
         "rawType": "int32",
         "type": "integer"
        },
        {
         "name": "product_code",
         "rawType": "object",
         "type": "string"
        },
        {
         "name": "category_name",
         "rawType": "object",
         "type": "string"
        },
        {
         "name": "sum_complementary_revenue",
         "rawType": "float64",
         "type": "float"
        },
        {
         "name": "sale_date",
         "rawType": "object",
         "type": "string"
        },
        {
         "name": "humidity",
         "rawType": "float64",
         "type": "float"
        },
        {
         "name": "weather_list",
         "rawType": "object",
         "type": "string"
        },
        {
         "name": "temperature",
         "rawType": "float64",
         "type": "float"
        },
        {
         "name": "realfeel_list",
         "rawType": "float64",
         "type": "float"
        },
        {
         "name": "wind_speed",
         "rawType": "float64",
         "type": "float"
        },
        {
         "name": "target",
         "rawType": "int32",
         "type": "integer"
        }
       ],
       "conversionMethod": "pd.DataFrame",
       "ref": "65bc101a-dc14-47fc-a662-3598a72853e1",
       "rows": [
        [
         "0",
         "1009",
         "35",
         "SK6718",
         "ANTIAGING",
         "346.96",
         "2023-01",
         "12.3",
         "Mostly sunny",
         "33.9",
         "36.5",
         "20.0",
         "0"
        ],
        [
         "1",
         "4616",
         "51",
         "SK7254",
         "ANTIAGING",
         "962.2",
         "2023-01",
         "32.3",
         "Partly cloudy",
         "20.7",
         "21.1",
         "0.9",
         "0"
        ],
        [
         "2",
         "3188",
         "61",
         "SK1610",
         "ANTIAGING",
         "107.8",
         "2023-01",
         "28.5",
         "Mostly clear",
         "33.4",
         "35.6",
         "0.2",
         "0"
        ],
        [
         "3",
         "3129",
         "62",
         "SK4131",
         "SERUMS",
         "17.66",
         "2023-01",
         "88.4",
         "Rain",
         "-6.7",
         "-7.5",
         "5.3",
         "1"
        ],
        [
         "4",
         "4188",
         "30",
         "SK4051",
         "SERUMS",
         "564.35",
         "2023-01",
         "15.7",
         "Cloudy",
         "3.8",
         "6.7",
         "10.3",
         "0"
        ]
       ],
       "shape": {
        "columns": 12,
        "rows": 5
       }
      },
      "text/html": [
       "<div>\n",
       "<style scoped>\n",
       "    .dataframe tbody tr th:only-of-type {\n",
       "        vertical-align: middle;\n",
       "    }\n",
       "\n",
       "    .dataframe tbody tr th {\n",
       "        vertical-align: top;\n",
       "    }\n",
       "\n",
       "    .dataframe thead th {\n",
       "        text-align: right;\n",
       "    }\n",
       "</style>\n",
       "<table border=\"1\" class=\"dataframe\">\n",
       "  <thead>\n",
       "    <tr style=\"text-align: right;\">\n",
       "      <th></th>\n",
       "      <th>user_id</th>\n",
       "      <th>age</th>\n",
       "      <th>product_code</th>\n",
       "      <th>category_name</th>\n",
       "      <th>sum_complementary_revenue</th>\n",
       "      <th>sale_date</th>\n",
       "      <th>humidity</th>\n",
       "      <th>weather_list</th>\n",
       "      <th>temperature</th>\n",
       "      <th>realfeel_list</th>\n",
       "      <th>wind_speed</th>\n",
       "      <th>target</th>\n",
       "    </tr>\n",
       "  </thead>\n",
       "  <tbody>\n",
       "    <tr>\n",
       "      <th>0</th>\n",
       "      <td>1009</td>\n",
       "      <td>35</td>\n",
       "      <td>SK6718</td>\n",
       "      <td>ANTIAGING</td>\n",
       "      <td>346.96</td>\n",
       "      <td>2023-01</td>\n",
       "      <td>12.3</td>\n",
       "      <td>Mostly sunny</td>\n",
       "      <td>33.9</td>\n",
       "      <td>36.5</td>\n",
       "      <td>20.0</td>\n",
       "      <td>0</td>\n",
       "    </tr>\n",
       "    <tr>\n",
       "      <th>1</th>\n",
       "      <td>4616</td>\n",
       "      <td>51</td>\n",
       "      <td>SK7254</td>\n",
       "      <td>ANTIAGING</td>\n",
       "      <td>962.20</td>\n",
       "      <td>2023-01</td>\n",
       "      <td>32.3</td>\n",
       "      <td>Partly cloudy</td>\n",
       "      <td>20.7</td>\n",
       "      <td>21.1</td>\n",
       "      <td>0.9</td>\n",
       "      <td>0</td>\n",
       "    </tr>\n",
       "    <tr>\n",
       "      <th>2</th>\n",
       "      <td>3188</td>\n",
       "      <td>61</td>\n",
       "      <td>SK1610</td>\n",
       "      <td>ANTIAGING</td>\n",
       "      <td>107.80</td>\n",
       "      <td>2023-01</td>\n",
       "      <td>28.5</td>\n",
       "      <td>Mostly clear</td>\n",
       "      <td>33.4</td>\n",
       "      <td>35.6</td>\n",
       "      <td>0.2</td>\n",
       "      <td>0</td>\n",
       "    </tr>\n",
       "    <tr>\n",
       "      <th>3</th>\n",
       "      <td>3129</td>\n",
       "      <td>62</td>\n",
       "      <td>SK4131</td>\n",
       "      <td>SERUMS</td>\n",
       "      <td>17.66</td>\n",
       "      <td>2023-01</td>\n",
       "      <td>88.4</td>\n",
       "      <td>Rain</td>\n",
       "      <td>-6.7</td>\n",
       "      <td>-7.5</td>\n",
       "      <td>5.3</td>\n",
       "      <td>1</td>\n",
       "    </tr>\n",
       "    <tr>\n",
       "      <th>4</th>\n",
       "      <td>4188</td>\n",
       "      <td>30</td>\n",
       "      <td>SK4051</td>\n",
       "      <td>SERUMS</td>\n",
       "      <td>564.35</td>\n",
       "      <td>2023-01</td>\n",
       "      <td>15.7</td>\n",
       "      <td>Cloudy</td>\n",
       "      <td>3.8</td>\n",
       "      <td>6.7</td>\n",
       "      <td>10.3</td>\n",
       "      <td>0</td>\n",
       "    </tr>\n",
       "  </tbody>\n",
       "</table>\n",
       "</div>"
      ],
      "text/plain": [
       "   user_id  age product_code category_name  sum_complementary_revenue  \\\n",
       "0     1009   35       SK6718     ANTIAGING                     346.96   \n",
       "1     4616   51       SK7254     ANTIAGING                     962.20   \n",
       "2     3188   61       SK1610     ANTIAGING                     107.80   \n",
       "3     3129   62       SK4131        SERUMS                      17.66   \n",
       "4     4188   30       SK4051        SERUMS                     564.35   \n",
       "\n",
       "  sale_date  humidity   weather_list  temperature  realfeel_list  wind_speed  \\\n",
       "0   2023-01      12.3   Mostly sunny         33.9           36.5        20.0   \n",
       "1   2023-01      32.3  Partly cloudy         20.7           21.1         0.9   \n",
       "2   2023-01      28.5   Mostly clear         33.4           35.6         0.2   \n",
       "3   2023-01      88.4           Rain         -6.7           -7.5         5.3   \n",
       "4   2023-01      15.7         Cloudy          3.8            6.7        10.3   \n",
       "\n",
       "   target  \n",
       "0       0  \n",
       "1       0  \n",
       "2       0  \n",
       "3       1  \n",
       "4       0  "
      ]
     },
     "execution_count": 55,
     "metadata": {},
     "output_type": "execute_result"
    }
   ],
   "source": [
    "# Target definition of buyers purchasing product SK4382 or SERUMS or ANTIAGING products at low (humidity <= 50.9) or high humidity (humidity > 50.9)\n",
    "df = spark.sql('''\n",
    "SELECT \n",
    "    user_id,\n",
    "    age,\n",
    "    product_code,\n",
    "    category_name,\n",
    "    SUM(CASE \n",
    "            WHEN category_name IN ('SERUMS', 'ANTIAGING') THEN price * quantity \n",
    "            ELSE 0 \n",
    "        END) AS sum_complementary_revenue,\n",
    "    DATE_FORMAT(transaction_date, 'yyyy-MM') AS sale_date,\n",
    "    humidity,\n",
    "    weather_list,\n",
    "    temperature,\n",
    "    realfeel_list,\n",
    "    wind_speed,\n",
    "    \n",
    "    CASE \n",
    "        WHEN humidity > 50.9 THEN 1\n",
    "        ELSE 0 \n",
    "    END AS target\n",
    "FROM df_view\n",
    "WHERE (category_name IN ('SERUMS', 'ANTIAGING') OR product_code = 'SK4382')\n",
    "    AND transaction_date BETWEEN '2023-01-01' AND '2024-12-31'\n",
    "GROUP BY \n",
    "    user_id,\n",
    "    age,\n",
    "    product_code,\n",
    "    category_name,\n",
    "    sale_date,\n",
    "    humidity,\n",
    "    weather_list,\n",
    "    temperature,\n",
    "    realfeel_list,\n",
    "    wind_speed\n",
    "ORDER BY sale_date ASC;\n",
    "''')\n",
    "\n",
    "pdf_sabt = df.toPandas()\n",
    "pdf_sabt.head()\n"
   ]
  },
  {
   "cell_type": "code",
   "execution_count": 56,
   "metadata": {},
   "outputs": [
    {
     "data": {
      "text/plain": [
       "Index(['user_id', 'age', 'product_code', 'category_name',\n",
       "       'sum_complementary_revenue', 'sale_date', 'humidity', 'weather_list',\n",
       "       'temperature', 'realfeel_list', 'wind_speed', 'target'],\n",
       "      dtype='object')"
      ]
     },
     "execution_count": 56,
     "metadata": {},
     "output_type": "execute_result"
    }
   ],
   "source": [
    "# Check column names in data\n",
    "pdf_sabt.columns"
   ]
  },
  {
   "cell_type": "code",
   "execution_count": 57,
   "metadata": {},
   "outputs": [
    {
     "data": {
      "application/vnd.microsoft.datawrangler.viewer.v0+json": {
       "columns": [
        {
         "name": "index",
         "rawType": "object",
         "type": "string"
        },
        {
         "name": "count",
         "rawType": "float64",
         "type": "float"
        },
        {
         "name": "mean",
         "rawType": "float64",
         "type": "float"
        },
        {
         "name": "std",
         "rawType": "float64",
         "type": "float"
        },
        {
         "name": "min",
         "rawType": "float64",
         "type": "float"
        },
        {
         "name": "25%",
         "rawType": "float64",
         "type": "float"
        },
        {
         "name": "50%",
         "rawType": "float64",
         "type": "float"
        },
        {
         "name": "75%",
         "rawType": "float64",
         "type": "float"
        },
        {
         "name": "max",
         "rawType": "float64",
         "type": "float"
        }
       ],
       "conversionMethod": "pd.DataFrame",
       "ref": "98212780-0b1d-42ce-8c72-151ae3348815",
       "rows": [
        [
         "user_id",
         "4473.0",
         "3017.0496311200536",
         "1153.4436837639337",
         "1000.0",
         "2016.0",
         "3024.0",
         "4017.0",
         "5000.0"
        ],
        [
         "age",
         "4473.0",
         "41.436619718309856",
         "13.856537836244543",
         "18.0",
         "30.0",
         "41.0",
         "53.0",
         "65.0"
        ],
        [
         "sum_complementary_revenue",
         "4473.0",
         "304.2101363737983",
         "232.6777390107947",
         "5.15",
         "117.26",
         "244.32",
         "445.08000000000004",
         "996.7"
        ],
        [
         "humidity",
         "4473.0",
         "49.87945450480662",
         "23.21770768892757",
         "10.0",
         "29.8",
         "49.8",
         "70.2",
         "90.0"
        ],
        [
         "temperature",
         "4473.0",
         "14.827297116029511",
         "14.37184761282906",
         "-10.0",
         "2.6",
         "14.6",
         "27.3",
         "40.0"
        ],
        [
         "realfeel_list",
         "4473.0",
         "14.869684775318579",
         "14.503152526146707",
         "-12.2",
         "2.5",
         "14.8",
         "27.1",
         "42.5"
        ],
        [
         "wind_speed",
         "4473.0",
         "14.96208361278784",
         "8.68499221382426",
         "0.0",
         "7.4",
         "14.9",
         "22.4",
         "30.0"
        ],
        [
         "target",
         "4473.0",
         "0.48401520232506146",
         "0.49980029262283154",
         "0.0",
         "0.0",
         "0.0",
         "1.0",
         "1.0"
        ]
       ],
       "shape": {
        "columns": 8,
        "rows": 8
       }
      },
      "text/html": [
       "<div>\n",
       "<style scoped>\n",
       "    .dataframe tbody tr th:only-of-type {\n",
       "        vertical-align: middle;\n",
       "    }\n",
       "\n",
       "    .dataframe tbody tr th {\n",
       "        vertical-align: top;\n",
       "    }\n",
       "\n",
       "    .dataframe thead th {\n",
       "        text-align: right;\n",
       "    }\n",
       "</style>\n",
       "<table border=\"1\" class=\"dataframe\">\n",
       "  <thead>\n",
       "    <tr style=\"text-align: right;\">\n",
       "      <th></th>\n",
       "      <th>count</th>\n",
       "      <th>mean</th>\n",
       "      <th>std</th>\n",
       "      <th>min</th>\n",
       "      <th>25%</th>\n",
       "      <th>50%</th>\n",
       "      <th>75%</th>\n",
       "      <th>max</th>\n",
       "    </tr>\n",
       "  </thead>\n",
       "  <tbody>\n",
       "    <tr>\n",
       "      <th>user_id</th>\n",
       "      <td>4473.0</td>\n",
       "      <td>3017.049631</td>\n",
       "      <td>1153.443684</td>\n",
       "      <td>1000.00</td>\n",
       "      <td>2016.00</td>\n",
       "      <td>3024.00</td>\n",
       "      <td>4017.00</td>\n",
       "      <td>5000.0</td>\n",
       "    </tr>\n",
       "    <tr>\n",
       "      <th>age</th>\n",
       "      <td>4473.0</td>\n",
       "      <td>41.436620</td>\n",
       "      <td>13.856538</td>\n",
       "      <td>18.00</td>\n",
       "      <td>30.00</td>\n",
       "      <td>41.00</td>\n",
       "      <td>53.00</td>\n",
       "      <td>65.0</td>\n",
       "    </tr>\n",
       "    <tr>\n",
       "      <th>sum_complementary_revenue</th>\n",
       "      <td>4473.0</td>\n",
       "      <td>304.210136</td>\n",
       "      <td>232.677739</td>\n",
       "      <td>5.15</td>\n",
       "      <td>117.26</td>\n",
       "      <td>244.32</td>\n",
       "      <td>445.08</td>\n",
       "      <td>996.7</td>\n",
       "    </tr>\n",
       "    <tr>\n",
       "      <th>humidity</th>\n",
       "      <td>4473.0</td>\n",
       "      <td>49.879455</td>\n",
       "      <td>23.217708</td>\n",
       "      <td>10.00</td>\n",
       "      <td>29.80</td>\n",
       "      <td>49.80</td>\n",
       "      <td>70.20</td>\n",
       "      <td>90.0</td>\n",
       "    </tr>\n",
       "    <tr>\n",
       "      <th>temperature</th>\n",
       "      <td>4473.0</td>\n",
       "      <td>14.827297</td>\n",
       "      <td>14.371848</td>\n",
       "      <td>-10.00</td>\n",
       "      <td>2.60</td>\n",
       "      <td>14.60</td>\n",
       "      <td>27.30</td>\n",
       "      <td>40.0</td>\n",
       "    </tr>\n",
       "    <tr>\n",
       "      <th>realfeel_list</th>\n",
       "      <td>4473.0</td>\n",
       "      <td>14.869685</td>\n",
       "      <td>14.503153</td>\n",
       "      <td>-12.20</td>\n",
       "      <td>2.50</td>\n",
       "      <td>14.80</td>\n",
       "      <td>27.10</td>\n",
       "      <td>42.5</td>\n",
       "    </tr>\n",
       "    <tr>\n",
       "      <th>wind_speed</th>\n",
       "      <td>4473.0</td>\n",
       "      <td>14.962084</td>\n",
       "      <td>8.684992</td>\n",
       "      <td>0.00</td>\n",
       "      <td>7.40</td>\n",
       "      <td>14.90</td>\n",
       "      <td>22.40</td>\n",
       "      <td>30.0</td>\n",
       "    </tr>\n",
       "    <tr>\n",
       "      <th>target</th>\n",
       "      <td>4473.0</td>\n",
       "      <td>0.484015</td>\n",
       "      <td>0.499800</td>\n",
       "      <td>0.00</td>\n",
       "      <td>0.00</td>\n",
       "      <td>0.00</td>\n",
       "      <td>1.00</td>\n",
       "      <td>1.0</td>\n",
       "    </tr>\n",
       "  </tbody>\n",
       "</table>\n",
       "</div>"
      ],
      "text/plain": [
       "                            count         mean          std      min      25%  \\\n",
       "user_id                    4473.0  3017.049631  1153.443684  1000.00  2016.00   \n",
       "age                        4473.0    41.436620    13.856538    18.00    30.00   \n",
       "sum_complementary_revenue  4473.0   304.210136   232.677739     5.15   117.26   \n",
       "humidity                   4473.0    49.879455    23.217708    10.00    29.80   \n",
       "temperature                4473.0    14.827297    14.371848   -10.00     2.60   \n",
       "realfeel_list              4473.0    14.869685    14.503153   -12.20     2.50   \n",
       "wind_speed                 4473.0    14.962084     8.684992     0.00     7.40   \n",
       "target                     4473.0     0.484015     0.499800     0.00     0.00   \n",
       "\n",
       "                               50%      75%     max  \n",
       "user_id                    3024.00  4017.00  5000.0  \n",
       "age                          41.00    53.00    65.0  \n",
       "sum_complementary_revenue   244.32   445.08   996.7  \n",
       "humidity                     49.80    70.20    90.0  \n",
       "temperature                  14.60    27.30    40.0  \n",
       "realfeel_list                14.80    27.10    42.5  \n",
       "wind_speed                   14.90    22.40    30.0  \n",
       "target                        0.00     1.00     1.0  "
      ]
     },
     "execution_count": 57,
     "metadata": {},
     "output_type": "execute_result"
    }
   ],
   "source": [
    "# Check summary statistics\n",
    "pdf_sabt[['user_id', 'age', 'product_code', 'category_name',\n",
    "       'sum_complementary_revenue', 'sale_date', 'humidity', 'weather_list',\n",
    "       'temperature', 'realfeel_list', 'wind_speed', 'target']].describe().T"
   ]
  },
  {
   "cell_type": "code",
   "execution_count": 59,
   "metadata": {},
   "outputs": [
    {
     "data": {
      "application/vnd.microsoft.datawrangler.viewer.v0+json": {
       "columns": [
        {
         "name": "(None, None)",
         "rawType": "object",
         "type": "unknown"
        },
        {
         "name": "0",
         "rawType": "float64",
         "type": "float"
        },
        {
         "name": "1",
         "rawType": "float64",
         "type": "float"
        }
       ],
       "conversionMethod": "pd.DataFrame",
       "ref": "dcb568c9-9fbc-438c-8ce7-9babcc88bd9c",
       "rows": [
        [
         "('age', 'count')",
         "2308.0",
         "2165.0"
        ],
        [
         "('age', 'mean')",
         "41.4792027729636",
         "41.391224018475754"
        ],
        [
         "('age', 'std')",
         "13.80927742234265",
         "13.90979045317286"
        ],
        [
         "('age', 'min')",
         "18.0",
         "18.0"
        ],
        [
         "('age', '25%')",
         "29.0",
         "30.0"
        ],
        [
         "('age', '50%')",
         "42.0",
         "41.0"
        ],
        [
         "('age', '75%')",
         "53.0",
         "54.0"
        ],
        [
         "('age', 'max')",
         "65.0",
         "65.0"
        ],
        [
         "('temperature', 'count')",
         "2308.0",
         "2165.0"
        ],
        [
         "('temperature', 'mean')",
         "14.890554592720967",
         "14.75986143187067"
        ],
        [
         "('temperature', 'std')",
         "14.289115989327197",
         "14.462520270930467"
        ],
        [
         "('temperature', 'min')",
         "-9.9",
         "-10.0"
        ],
        [
         "('temperature', '25%')",
         "2.9",
         "2.3"
        ],
        [
         "('temperature', '50%')",
         "14.7",
         "14.6"
        ],
        [
         "('temperature', '75%')",
         "27.2",
         "27.6"
        ],
        [
         "('temperature', 'max')",
         "40.0",
         "40.0"
        ],
        [
         "('sum_complementary_revenue', 'count')",
         "2308.0",
         "2165.0"
        ],
        [
         "('sum_complementary_revenue', 'mean')",
         "302.9012868284228",
         "305.60543648960737"
        ],
        [
         "('sum_complementary_revenue', 'std')",
         "231.5388783156845",
         "233.93115907562643"
        ],
        [
         "('sum_complementary_revenue', 'min')",
         "5.15",
         "5.9"
        ],
        [
         "('sum_complementary_revenue', '25%')",
         "118.1875",
         "116.36"
        ],
        [
         "('sum_complementary_revenue', '50%')",
         "241.555",
         "245.44"
        ],
        [
         "('sum_complementary_revenue', '75%')",
         "447.095",
         "443.54999999999995"
        ],
        [
         "('sum_complementary_revenue', 'max')",
         "996.7",
         "994.75"
        ],
        [
         "('humidity', 'count')",
         "2308.0",
         "2165.0"
        ],
        [
         "('humidity', 'mean')",
         "30.431802426343157",
         "70.61163972286374"
        ],
        [
         "('humidity', 'std')",
         "11.804602735001808",
         "11.490743012977372"
        ],
        [
         "('humidity', 'min')",
         "10.0",
         "51.0"
        ],
        [
         "('humidity', '25%')",
         "20.075000000000003",
         "60.7"
        ],
        [
         "('humidity', '50%')",
         "30.5",
         "70.8"
        ],
        [
         "('humidity', '75%')",
         "40.5",
         "80.8"
        ],
        [
         "('humidity', 'max')",
         "50.9",
         "90.0"
        ],
        [
         "('temperature', 'count')",
         "2308.0",
         "2165.0"
        ],
        [
         "('temperature', 'mean')",
         "14.890554592720967",
         "14.75986143187067"
        ],
        [
         "('temperature', 'std')",
         "14.289115989327197",
         "14.462520270930467"
        ],
        [
         "('temperature', 'min')",
         "-9.9",
         "-10.0"
        ],
        [
         "('temperature', '25%')",
         "2.9",
         "2.3"
        ],
        [
         "('temperature', '50%')",
         "14.7",
         "14.6"
        ],
        [
         "('temperature', '75%')",
         "27.2",
         "27.6"
        ],
        [
         "('temperature', 'max')",
         "40.0",
         "40.0"
        ],
        [
         "('realfeel_list', 'count')",
         "2308.0",
         "2165.0"
        ],
        [
         "('realfeel_list', 'mean')",
         "14.92426343154246",
         "14.811501154734412"
        ],
        [
         "('realfeel_list', 'std')",
         "14.397171392463141",
         "14.618391102312511"
        ],
        [
         "('realfeel_list', 'min')",
         "-12.2",
         "-12.1"
        ],
        [
         "('realfeel_list', '25%')",
         "2.8",
         "2.1"
        ],
        [
         "('realfeel_list', '50%')",
         "14.850000000000001",
         "14.7"
        ],
        [
         "('realfeel_list', '75%')",
         "26.9",
         "27.3"
        ],
        [
         "('realfeel_list', 'max')",
         "42.2",
         "42.5"
        ],
        [
         "('wind_speed', 'count')",
         "2308.0",
         "2165.0"
        ],
        [
         "('wind_speed', 'mean')",
         "14.6132582322357",
         "15.333949191685912"
        ]
       ],
       "shape": {
        "columns": 2,
        "rows": 56
       }
      },
      "text/html": [
       "<div>\n",
       "<style scoped>\n",
       "    .dataframe tbody tr th:only-of-type {\n",
       "        vertical-align: middle;\n",
       "    }\n",
       "\n",
       "    .dataframe tbody tr th {\n",
       "        vertical-align: top;\n",
       "    }\n",
       "\n",
       "    .dataframe thead th {\n",
       "        text-align: right;\n",
       "    }\n",
       "</style>\n",
       "<table border=\"1\" class=\"dataframe\">\n",
       "  <thead>\n",
       "    <tr style=\"text-align: right;\">\n",
       "      <th></th>\n",
       "      <th>target</th>\n",
       "      <th>0</th>\n",
       "      <th>1</th>\n",
       "    </tr>\n",
       "  </thead>\n",
       "  <tbody>\n",
       "    <tr>\n",
       "      <th rowspan=\"8\" valign=\"top\">age</th>\n",
       "      <th>count</th>\n",
       "      <td>2308.000000</td>\n",
       "      <td>2165.000000</td>\n",
       "    </tr>\n",
       "    <tr>\n",
       "      <th>mean</th>\n",
       "      <td>41.479203</td>\n",
       "      <td>41.391224</td>\n",
       "    </tr>\n",
       "    <tr>\n",
       "      <th>std</th>\n",
       "      <td>13.809277</td>\n",
       "      <td>13.909790</td>\n",
       "    </tr>\n",
       "    <tr>\n",
       "      <th>min</th>\n",
       "      <td>18.000000</td>\n",
       "      <td>18.000000</td>\n",
       "    </tr>\n",
       "    <tr>\n",
       "      <th>25%</th>\n",
       "      <td>29.000000</td>\n",
       "      <td>30.000000</td>\n",
       "    </tr>\n",
       "    <tr>\n",
       "      <th>50%</th>\n",
       "      <td>42.000000</td>\n",
       "      <td>41.000000</td>\n",
       "    </tr>\n",
       "    <tr>\n",
       "      <th>75%</th>\n",
       "      <td>53.000000</td>\n",
       "      <td>54.000000</td>\n",
       "    </tr>\n",
       "    <tr>\n",
       "      <th>max</th>\n",
       "      <td>65.000000</td>\n",
       "      <td>65.000000</td>\n",
       "    </tr>\n",
       "    <tr>\n",
       "      <th rowspan=\"8\" valign=\"top\">temperature</th>\n",
       "      <th>count</th>\n",
       "      <td>2308.000000</td>\n",
       "      <td>2165.000000</td>\n",
       "    </tr>\n",
       "    <tr>\n",
       "      <th>mean</th>\n",
       "      <td>14.890555</td>\n",
       "      <td>14.759861</td>\n",
       "    </tr>\n",
       "    <tr>\n",
       "      <th>std</th>\n",
       "      <td>14.289116</td>\n",
       "      <td>14.462520</td>\n",
       "    </tr>\n",
       "    <tr>\n",
       "      <th>min</th>\n",
       "      <td>-9.900000</td>\n",
       "      <td>-10.000000</td>\n",
       "    </tr>\n",
       "    <tr>\n",
       "      <th>25%</th>\n",
       "      <td>2.900000</td>\n",
       "      <td>2.300000</td>\n",
       "    </tr>\n",
       "    <tr>\n",
       "      <th>50%</th>\n",
       "      <td>14.700000</td>\n",
       "      <td>14.600000</td>\n",
       "    </tr>\n",
       "    <tr>\n",
       "      <th>75%</th>\n",
       "      <td>27.200000</td>\n",
       "      <td>27.600000</td>\n",
       "    </tr>\n",
       "    <tr>\n",
       "      <th>max</th>\n",
       "      <td>40.000000</td>\n",
       "      <td>40.000000</td>\n",
       "    </tr>\n",
       "    <tr>\n",
       "      <th rowspan=\"8\" valign=\"top\">sum_complementary_revenue</th>\n",
       "      <th>count</th>\n",
       "      <td>2308.000000</td>\n",
       "      <td>2165.000000</td>\n",
       "    </tr>\n",
       "    <tr>\n",
       "      <th>mean</th>\n",
       "      <td>302.901287</td>\n",
       "      <td>305.605436</td>\n",
       "    </tr>\n",
       "    <tr>\n",
       "      <th>std</th>\n",
       "      <td>231.538878</td>\n",
       "      <td>233.931159</td>\n",
       "    </tr>\n",
       "    <tr>\n",
       "      <th>min</th>\n",
       "      <td>5.150000</td>\n",
       "      <td>5.900000</td>\n",
       "    </tr>\n",
       "    <tr>\n",
       "      <th>25%</th>\n",
       "      <td>118.187500</td>\n",
       "      <td>116.360000</td>\n",
       "    </tr>\n",
       "    <tr>\n",
       "      <th>50%</th>\n",
       "      <td>241.555000</td>\n",
       "      <td>245.440000</td>\n",
       "    </tr>\n",
       "    <tr>\n",
       "      <th>75%</th>\n",
       "      <td>447.095000</td>\n",
       "      <td>443.550000</td>\n",
       "    </tr>\n",
       "    <tr>\n",
       "      <th>max</th>\n",
       "      <td>996.700000</td>\n",
       "      <td>994.750000</td>\n",
       "    </tr>\n",
       "    <tr>\n",
       "      <th rowspan=\"8\" valign=\"top\">humidity</th>\n",
       "      <th>count</th>\n",
       "      <td>2308.000000</td>\n",
       "      <td>2165.000000</td>\n",
       "    </tr>\n",
       "    <tr>\n",
       "      <th>mean</th>\n",
       "      <td>30.431802</td>\n",
       "      <td>70.611640</td>\n",
       "    </tr>\n",
       "    <tr>\n",
       "      <th>std</th>\n",
       "      <td>11.804603</td>\n",
       "      <td>11.490743</td>\n",
       "    </tr>\n",
       "    <tr>\n",
       "      <th>min</th>\n",
       "      <td>10.000000</td>\n",
       "      <td>51.000000</td>\n",
       "    </tr>\n",
       "    <tr>\n",
       "      <th>25%</th>\n",
       "      <td>20.075000</td>\n",
       "      <td>60.700000</td>\n",
       "    </tr>\n",
       "    <tr>\n",
       "      <th>50%</th>\n",
       "      <td>30.500000</td>\n",
       "      <td>70.800000</td>\n",
       "    </tr>\n",
       "    <tr>\n",
       "      <th>75%</th>\n",
       "      <td>40.500000</td>\n",
       "      <td>80.800000</td>\n",
       "    </tr>\n",
       "    <tr>\n",
       "      <th>max</th>\n",
       "      <td>50.900000</td>\n",
       "      <td>90.000000</td>\n",
       "    </tr>\n",
       "    <tr>\n",
       "      <th rowspan=\"8\" valign=\"top\">temperature</th>\n",
       "      <th>count</th>\n",
       "      <td>2308.000000</td>\n",
       "      <td>2165.000000</td>\n",
       "    </tr>\n",
       "    <tr>\n",
       "      <th>mean</th>\n",
       "      <td>14.890555</td>\n",
       "      <td>14.759861</td>\n",
       "    </tr>\n",
       "    <tr>\n",
       "      <th>std</th>\n",
       "      <td>14.289116</td>\n",
       "      <td>14.462520</td>\n",
       "    </tr>\n",
       "    <tr>\n",
       "      <th>min</th>\n",
       "      <td>-9.900000</td>\n",
       "      <td>-10.000000</td>\n",
       "    </tr>\n",
       "    <tr>\n",
       "      <th>25%</th>\n",
       "      <td>2.900000</td>\n",
       "      <td>2.300000</td>\n",
       "    </tr>\n",
       "    <tr>\n",
       "      <th>50%</th>\n",
       "      <td>14.700000</td>\n",
       "      <td>14.600000</td>\n",
       "    </tr>\n",
       "    <tr>\n",
       "      <th>75%</th>\n",
       "      <td>27.200000</td>\n",
       "      <td>27.600000</td>\n",
       "    </tr>\n",
       "    <tr>\n",
       "      <th>max</th>\n",
       "      <td>40.000000</td>\n",
       "      <td>40.000000</td>\n",
       "    </tr>\n",
       "    <tr>\n",
       "      <th rowspan=\"8\" valign=\"top\">realfeel_list</th>\n",
       "      <th>count</th>\n",
       "      <td>2308.000000</td>\n",
       "      <td>2165.000000</td>\n",
       "    </tr>\n",
       "    <tr>\n",
       "      <th>mean</th>\n",
       "      <td>14.924263</td>\n",
       "      <td>14.811501</td>\n",
       "    </tr>\n",
       "    <tr>\n",
       "      <th>std</th>\n",
       "      <td>14.397171</td>\n",
       "      <td>14.618391</td>\n",
       "    </tr>\n",
       "    <tr>\n",
       "      <th>min</th>\n",
       "      <td>-12.200000</td>\n",
       "      <td>-12.100000</td>\n",
       "    </tr>\n",
       "    <tr>\n",
       "      <th>25%</th>\n",
       "      <td>2.800000</td>\n",
       "      <td>2.100000</td>\n",
       "    </tr>\n",
       "    <tr>\n",
       "      <th>50%</th>\n",
       "      <td>14.850000</td>\n",
       "      <td>14.700000</td>\n",
       "    </tr>\n",
       "    <tr>\n",
       "      <th>75%</th>\n",
       "      <td>26.900000</td>\n",
       "      <td>27.300000</td>\n",
       "    </tr>\n",
       "    <tr>\n",
       "      <th>max</th>\n",
       "      <td>42.200000</td>\n",
       "      <td>42.500000</td>\n",
       "    </tr>\n",
       "    <tr>\n",
       "      <th rowspan=\"8\" valign=\"top\">wind_speed</th>\n",
       "      <th>count</th>\n",
       "      <td>2308.000000</td>\n",
       "      <td>2165.000000</td>\n",
       "    </tr>\n",
       "    <tr>\n",
       "      <th>mean</th>\n",
       "      <td>14.613258</td>\n",
       "      <td>15.333949</td>\n",
       "    </tr>\n",
       "    <tr>\n",
       "      <th>std</th>\n",
       "      <td>8.702459</td>\n",
       "      <td>8.652864</td>\n",
       "    </tr>\n",
       "    <tr>\n",
       "      <th>min</th>\n",
       "      <td>0.000000</td>\n",
       "      <td>0.000000</td>\n",
       "    </tr>\n",
       "    <tr>\n",
       "      <th>25%</th>\n",
       "      <td>6.900000</td>\n",
       "      <td>7.900000</td>\n",
       "    </tr>\n",
       "    <tr>\n",
       "      <th>50%</th>\n",
       "      <td>14.500000</td>\n",
       "      <td>15.300000</td>\n",
       "    </tr>\n",
       "    <tr>\n",
       "      <th>75%</th>\n",
       "      <td>22.000000</td>\n",
       "      <td>22.900000</td>\n",
       "    </tr>\n",
       "    <tr>\n",
       "      <th>max</th>\n",
       "      <td>30.000000</td>\n",
       "      <td>30.000000</td>\n",
       "    </tr>\n",
       "  </tbody>\n",
       "</table>\n",
       "</div>"
      ],
      "text/plain": [
       "target                                     0            1\n",
       "age                       count  2308.000000  2165.000000\n",
       "                          mean     41.479203    41.391224\n",
       "                          std      13.809277    13.909790\n",
       "                          min      18.000000    18.000000\n",
       "                          25%      29.000000    30.000000\n",
       "                          50%      42.000000    41.000000\n",
       "                          75%      53.000000    54.000000\n",
       "                          max      65.000000    65.000000\n",
       "temperature               count  2308.000000  2165.000000\n",
       "                          mean     14.890555    14.759861\n",
       "                          std      14.289116    14.462520\n",
       "                          min      -9.900000   -10.000000\n",
       "                          25%       2.900000     2.300000\n",
       "                          50%      14.700000    14.600000\n",
       "                          75%      27.200000    27.600000\n",
       "                          max      40.000000    40.000000\n",
       "sum_complementary_revenue count  2308.000000  2165.000000\n",
       "                          mean    302.901287   305.605436\n",
       "                          std     231.538878   233.931159\n",
       "                          min       5.150000     5.900000\n",
       "                          25%     118.187500   116.360000\n",
       "                          50%     241.555000   245.440000\n",
       "                          75%     447.095000   443.550000\n",
       "                          max     996.700000   994.750000\n",
       "humidity                  count  2308.000000  2165.000000\n",
       "                          mean     30.431802    70.611640\n",
       "                          std      11.804603    11.490743\n",
       "                          min      10.000000    51.000000\n",
       "                          25%      20.075000    60.700000\n",
       "                          50%      30.500000    70.800000\n",
       "                          75%      40.500000    80.800000\n",
       "                          max      50.900000    90.000000\n",
       "temperature               count  2308.000000  2165.000000\n",
       "                          mean     14.890555    14.759861\n",
       "                          std      14.289116    14.462520\n",
       "                          min      -9.900000   -10.000000\n",
       "                          25%       2.900000     2.300000\n",
       "                          50%      14.700000    14.600000\n",
       "                          75%      27.200000    27.600000\n",
       "                          max      40.000000    40.000000\n",
       "realfeel_list             count  2308.000000  2165.000000\n",
       "                          mean     14.924263    14.811501\n",
       "                          std      14.397171    14.618391\n",
       "                          min     -12.200000   -12.100000\n",
       "                          25%       2.800000     2.100000\n",
       "                          50%      14.850000    14.700000\n",
       "                          75%      26.900000    27.300000\n",
       "                          max      42.200000    42.500000\n",
       "wind_speed                count  2308.000000  2165.000000\n",
       "                          mean     14.613258    15.333949\n",
       "                          std       8.702459     8.652864\n",
       "                          min       0.000000     0.000000\n",
       "                          25%       6.900000     7.900000\n",
       "                          50%      14.500000    15.300000\n",
       "                          75%      22.000000    22.900000\n",
       "                          max      30.000000    30.000000"
      ]
     },
     "execution_count": 59,
     "metadata": {},
     "output_type": "execute_result"
    }
   ],
   "source": [
    "pdf_sabt.groupby(['target'])[['age','temperature', 'sum_complementary_revenue', 'humidity',\n",
    "       'temperature', 'realfeel_list', 'wind_speed']].describe().T"
   ]
  },
  {
   "cell_type": "code",
   "execution_count": 60,
   "metadata": {},
   "outputs": [],
   "source": [
    "data = pdf_sabt[['user_id', 'age', 'product_code', 'category_name',\n",
    "       'sum_complementary_revenue', 'sale_date', 'humidity', 'weather_list',\n",
    "       'temperature', 'realfeel_list', 'wind_speed', 'target']].copy()"
   ]
  },
  {
   "cell_type": "code",
   "execution_count": 61,
   "metadata": {},
   "outputs": [
    {
     "name": "stdout",
     "output_type": "stream",
     "text": [
      "Training set size: 3578 samples\n",
      "Testing set size: 895 samples\n"
     ]
    }
   ],
   "source": [
    "# Separate target variable and features\n",
    "from sklearn.model_selection import train_test_split\n",
    "\n",
    "target_col = 'target'\n",
    "\n",
    "X = data.loc[:, data.columns != target_col]\n",
    "y = data.loc[:, target_col]\n",
    "\n",
    "X_train, X_test, y_train, y_test = train_test_split(X, y, test_size=0.2, random_state=42)\n",
    "\n",
    "print(f'Training set size: {X_train.shape[0]} samples')\n",
    "print(f'Testing set size: {X_test.shape[0]} samples')"
   ]
  },
  {
   "cell_type": "code",
   "execution_count": 62,
   "metadata": {},
   "outputs": [
    {
     "data": {
      "application/vnd.microsoft.datawrangler.viewer.v0+json": {
       "columns": [
        {
         "name": "index",
         "rawType": "int64",
         "type": "integer"
        },
        {
         "name": "user_id",
         "rawType": "int32",
         "type": "integer"
        },
        {
         "name": "age",
         "rawType": "int32",
         "type": "integer"
        },
        {
         "name": "product_code",
         "rawType": "object",
         "type": "string"
        },
        {
         "name": "category_name",
         "rawType": "object",
         "type": "string"
        },
        {
         "name": "sum_complementary_revenue",
         "rawType": "float64",
         "type": "float"
        },
        {
         "name": "sale_date",
         "rawType": "object",
         "type": "string"
        },
        {
         "name": "humidity",
         "rawType": "float64",
         "type": "float"
        },
        {
         "name": "weather_list",
         "rawType": "object",
         "type": "string"
        },
        {
         "name": "temperature",
         "rawType": "float64",
         "type": "float"
        },
        {
         "name": "realfeel_list",
         "rawType": "float64",
         "type": "float"
        },
        {
         "name": "wind_speed",
         "rawType": "float64",
         "type": "float"
        }
       ],
       "conversionMethod": "pd.DataFrame",
       "ref": "9ae58a52-b388-483d-a3c6-5b8799393905",
       "rows": [
        [
         "217",
         "3106",
         "51",
         "SK6396",
         "ANTIAGING",
         "224.06",
         "2023-02",
         "83.9",
         "Mostly cloudy w showers",
         "22.3",
         "24.9",
         "12.3"
        ],
        [
         "2784",
         "2732",
         "32",
         "SK7465",
         "SERUMS",
         "134.68",
         "2024-04",
         "55.5",
         "Clear",
         "-1.0",
         "-2.6",
         "10.6"
        ],
        [
         "1822",
         "2436",
         "54",
         "SK7914",
         "SERUMS",
         "79.45",
         "2023-10",
         "26.3",
         "Mostly sunny",
         "-2.3",
         "-5.2",
         "4.6"
        ],
        [
         "1775",
         "3904",
         "19",
         "SK6086",
         "ANTIAGING",
         "302.25",
         "2023-10",
         "73.9",
         "Clear",
         "18.8",
         "21.7",
         "9.8"
        ],
        [
         "1189",
         "1084",
         "49",
         "SK6357",
         "ANTIAGING",
         "86.94",
         "2023-07",
         "73.0",
         "Showers",
         "40.0",
         "38.5",
         "11.4"
        ]
       ],
       "shape": {
        "columns": 11,
        "rows": 5
       }
      },
      "text/html": [
       "<div>\n",
       "<style scoped>\n",
       "    .dataframe tbody tr th:only-of-type {\n",
       "        vertical-align: middle;\n",
       "    }\n",
       "\n",
       "    .dataframe tbody tr th {\n",
       "        vertical-align: top;\n",
       "    }\n",
       "\n",
       "    .dataframe thead th {\n",
       "        text-align: right;\n",
       "    }\n",
       "</style>\n",
       "<table border=\"1\" class=\"dataframe\">\n",
       "  <thead>\n",
       "    <tr style=\"text-align: right;\">\n",
       "      <th></th>\n",
       "      <th>user_id</th>\n",
       "      <th>age</th>\n",
       "      <th>product_code</th>\n",
       "      <th>category_name</th>\n",
       "      <th>sum_complementary_revenue</th>\n",
       "      <th>sale_date</th>\n",
       "      <th>humidity</th>\n",
       "      <th>weather_list</th>\n",
       "      <th>temperature</th>\n",
       "      <th>realfeel_list</th>\n",
       "      <th>wind_speed</th>\n",
       "    </tr>\n",
       "  </thead>\n",
       "  <tbody>\n",
       "    <tr>\n",
       "      <th>217</th>\n",
       "      <td>3106</td>\n",
       "      <td>51</td>\n",
       "      <td>SK6396</td>\n",
       "      <td>ANTIAGING</td>\n",
       "      <td>224.06</td>\n",
       "      <td>2023-02</td>\n",
       "      <td>83.9</td>\n",
       "      <td>Mostly cloudy w showers</td>\n",
       "      <td>22.3</td>\n",
       "      <td>24.9</td>\n",
       "      <td>12.3</td>\n",
       "    </tr>\n",
       "    <tr>\n",
       "      <th>2784</th>\n",
       "      <td>2732</td>\n",
       "      <td>32</td>\n",
       "      <td>SK7465</td>\n",
       "      <td>SERUMS</td>\n",
       "      <td>134.68</td>\n",
       "      <td>2024-04</td>\n",
       "      <td>55.5</td>\n",
       "      <td>Clear</td>\n",
       "      <td>-1.0</td>\n",
       "      <td>-2.6</td>\n",
       "      <td>10.6</td>\n",
       "    </tr>\n",
       "    <tr>\n",
       "      <th>1822</th>\n",
       "      <td>2436</td>\n",
       "      <td>54</td>\n",
       "      <td>SK7914</td>\n",
       "      <td>SERUMS</td>\n",
       "      <td>79.45</td>\n",
       "      <td>2023-10</td>\n",
       "      <td>26.3</td>\n",
       "      <td>Mostly sunny</td>\n",
       "      <td>-2.3</td>\n",
       "      <td>-5.2</td>\n",
       "      <td>4.6</td>\n",
       "    </tr>\n",
       "    <tr>\n",
       "      <th>1775</th>\n",
       "      <td>3904</td>\n",
       "      <td>19</td>\n",
       "      <td>SK6086</td>\n",
       "      <td>ANTIAGING</td>\n",
       "      <td>302.25</td>\n",
       "      <td>2023-10</td>\n",
       "      <td>73.9</td>\n",
       "      <td>Clear</td>\n",
       "      <td>18.8</td>\n",
       "      <td>21.7</td>\n",
       "      <td>9.8</td>\n",
       "    </tr>\n",
       "    <tr>\n",
       "      <th>1189</th>\n",
       "      <td>1084</td>\n",
       "      <td>49</td>\n",
       "      <td>SK6357</td>\n",
       "      <td>ANTIAGING</td>\n",
       "      <td>86.94</td>\n",
       "      <td>2023-07</td>\n",
       "      <td>73.0</td>\n",
       "      <td>Showers</td>\n",
       "      <td>40.0</td>\n",
       "      <td>38.5</td>\n",
       "      <td>11.4</td>\n",
       "    </tr>\n",
       "  </tbody>\n",
       "</table>\n",
       "</div>"
      ],
      "text/plain": [
       "      user_id  age product_code category_name  sum_complementary_revenue  \\\n",
       "217      3106   51       SK6396     ANTIAGING                     224.06   \n",
       "2784     2732   32       SK7465        SERUMS                     134.68   \n",
       "1822     2436   54       SK7914        SERUMS                      79.45   \n",
       "1775     3904   19       SK6086     ANTIAGING                     302.25   \n",
       "1189     1084   49       SK6357     ANTIAGING                      86.94   \n",
       "\n",
       "     sale_date  humidity             weather_list  temperature  realfeel_list  \\\n",
       "217    2023-02      83.9  Mostly cloudy w showers         22.3           24.9   \n",
       "2784   2024-04      55.5                    Clear         -1.0           -2.6   \n",
       "1822   2023-10      26.3             Mostly sunny         -2.3           -5.2   \n",
       "1775   2023-10      73.9                    Clear         18.8           21.7   \n",
       "1189   2023-07      73.0                  Showers         40.0           38.5   \n",
       "\n",
       "      wind_speed  \n",
       "217         12.3  \n",
       "2784        10.6  \n",
       "1822         4.6  \n",
       "1775         9.8  \n",
       "1189        11.4  "
      ]
     },
     "execution_count": 62,
     "metadata": {},
     "output_type": "execute_result"
    }
   ],
   "source": [
    "X_train.head()"
   ]
  },
  {
   "cell_type": "code",
   "execution_count": 63,
   "metadata": {},
   "outputs": [
    {
     "data": {
      "text/plain": [
       "217     1\n",
       "2784    1\n",
       "1822    0\n",
       "1775    1\n",
       "1189    1\n",
       "Name: target, dtype: int32"
      ]
     },
     "execution_count": 63,
     "metadata": {},
     "output_type": "execute_result"
    }
   ],
   "source": [
    "y_train.head()"
   ]
  },
  {
   "cell_type": "code",
   "execution_count": 64,
   "metadata": {},
   "outputs": [
    {
     "name": "stdout",
     "output_type": "stream",
     "text": [
      "target\n",
      "0    1830\n",
      "1    1748\n",
      "Name: count, dtype: int64\n",
      "target\n",
      "0    478\n",
      "1    417\n",
      "Name: count, dtype: int64\n"
     ]
    }
   ],
   "source": [
    "print(y_train.value_counts())\n",
    "print(y_test.value_counts())"
   ]
  },
  {
   "cell_type": "code",
   "execution_count": 65,
   "metadata": {},
   "outputs": [
    {
     "data": {
      "application/vnd.jupyter.widget-view+json": {
       "model_id": "5ad21c4dca4a454486604df04fd1c6ed",
       "version_major": 2,
       "version_minor": 0
      },
      "text/plain": [
       "MetricVisualizer(layout=Layout(align_self='stretch', height='500px'))"
      ]
     },
     "metadata": {},
     "output_type": "display_data"
    },
    {
     "name": "stdout",
     "output_type": "stream",
     "text": [
      "0:\tlearn: 0.8892889\ttest: 0.9927536\tbest: 0.9927536 (0)\ttotal: 214ms\tremaining: 1m 46s\n",
      "50:\tlearn: 0.9468713\ttest: 0.9963899\tbest: 0.9963899 (50)\ttotal: 2.74s\tremaining: 24.2s\n",
      "100:\tlearn: 0.9720219\ttest: 0.9988024\tbest: 0.9988024 (94)\ttotal: 5.36s\tremaining: 21.2s\n",
      "150:\tlearn: 0.9830508\ttest: 0.9988024\tbest: 0.9988024 (94)\ttotal: 7.95s\tremaining: 18.4s\n",
      "200:\tlearn: 0.9939811\ttest: 0.9988024\tbest: 0.9988024 (94)\ttotal: 10.5s\tremaining: 15.6s\n",
      "250:\tlearn: 0.9962783\ttest: 0.9988024\tbest: 0.9988024 (94)\ttotal: 13s\tremaining: 12.9s\n",
      "300:\tlearn: 0.9985686\ttest: 0.9988024\tbest: 0.9988024 (94)\ttotal: 15.6s\tremaining: 10.3s\n",
      "350:\tlearn: 0.9988545\ttest: 0.9988024\tbest: 0.9988024 (94)\ttotal: 18.2s\tremaining: 7.71s\n",
      "400:\tlearn: 0.9994276\ttest: 0.9988024\tbest: 0.9988024 (94)\ttotal: 20.9s\tremaining: 5.16s\n",
      "450:\tlearn: 1.0000000\ttest: 0.9988024\tbest: 0.9988024 (94)\ttotal: 23.5s\tremaining: 2.55s\n",
      "499:\tlearn: 1.0000000\ttest: 0.9988024\tbest: 0.9988024 (94)\ttotal: 26s\tremaining: 0us\n",
      "\n",
      "bestTest = 0.9988023952\n",
      "bestIteration = 94\n",
      "\n",
      "Shrink model to first 95 iterations.\n"
     ]
    },
    {
     "data": {
      "text/plain": [
       "<catboost.core.CatBoostClassifier at 0x22b575743b0>"
      ]
     },
     "execution_count": 65,
     "metadata": {},
     "output_type": "execute_result"
    }
   ],
   "source": [
    "from catboost import CatBoostClassifier\n",
    "\n",
    "X_train = X_train.astype(str)\n",
    "X_test = X_test.astype(str)\n",
    "\n",
    "cat_features = X_train.select_dtypes(include=['object']).columns.tolist()\n",
    "\n",
    "model = CatBoostClassifier(iterations=500, depth=6, learning_rate=0.1, verbose=50, eval_metric='F1')\n",
    "\n",
    "model.fit(X_train, y_train, cat_features=cat_features, eval_set=(X_test, y_test), plot=True)"
   ]
  },
  {
   "cell_type": "code",
   "execution_count": 66,
   "metadata": {},
   "outputs": [
    {
     "name": "stdout",
     "output_type": "stream",
     "text": [
      "Predictions: [0 0 0 1 1 0 0 1 1 1 0 0 0 1 1 1 1 0 1 0 0 1 0 1 0 1 0 0 1 1 0 0 0 0 1 0 0\n",
      " 0 0 1 1 1 1 1 0 0 0 0 1 1]\n"
     ]
    }
   ],
   "source": [
    "y_pred = model.predict(X_test)\n",
    "\n",
    "print(f'Predictions: {y_pred[:50]}')"
   ]
  },
  {
   "cell_type": "code",
   "execution_count": 67,
   "metadata": {},
   "outputs": [
    {
     "name": "stdout",
     "output_type": "stream",
     "text": [
      "Accuracy: 0.9989\n",
      "F1: 0.9988\n",
      "Precision: 0.9976\n",
      "Recall: 1.0000\n",
      "\n",
      "Classification Report:\n",
      "              precision    recall  f1-score   support\n",
      "\n",
      "           0       1.00      1.00      1.00       478\n",
      "           1       1.00      1.00      1.00       417\n",
      "\n",
      "    accuracy                           1.00       895\n",
      "   macro avg       1.00      1.00      1.00       895\n",
      "weighted avg       1.00      1.00      1.00       895\n",
      "\n",
      "[[477   1]\n",
      " [  0 417]]\n"
     ]
    },
    {
     "data": {
      "text/plain": [
       "<sklearn.metrics._plot.confusion_matrix.ConfusionMatrixDisplay at 0x22b576762d0>"
      ]
     },
     "execution_count": 67,
     "metadata": {},
     "output_type": "execute_result"
    },
    {
     "data": {
      "image/png": "[encoded data removed]",
      "text/plain": [
       "<Figure size 640x480 with 2 Axes>"
      ]
     },
     "metadata": {},
     "output_type": "display_data"
    }
   ],
   "source": [
    "from sklearn.metrics import accuracy_score, precision_score, recall_score, classification_report, f1_score\n",
    "\n",
    "# Evaluate the model\n",
    "print(f'Accuracy: {accuracy_score(y_test, y_pred):.4f}')\n",
    "print(f'F1: {f1_score(y_test, y_pred):.4f}')\n",
    "print(f'Precision: {precision_score(y_test, y_pred):.4f}')\n",
    "print(f'Recall: {recall_score(y_test, y_pred):.4f}')\n",
    "\n",
    "# Print classification report\n",
    "print(\"\\nClassification Report:\")\n",
    "print(classification_report(y_test, y_pred))\n",
    "\n",
    "cm_train = confusion_matrix(y_test, y_pred)\n",
    "print(cm_train)\n",
    "\n",
    "cmd_train = ConfusionMatrixDisplay(cm_train)\n",
    "cmd_train.plot()"
   ]
  }
 ],
 "metadata": {
  "kernelspec": {
   "display_name": "Python 3",
   "language": "python",
   "name": "python3"
  },
  "language_info": {
   "codemirror_mode": {
    "name": "ipython",
    "version": 3
   },
   "file_extension": ".py",
   "mimetype": "text/x-python",
   "name": "python",
   "nbconvert_exporter": "python",
   "pygments_lexer": "ipython3",
   "version": "3.12.2"
  }
 },
 "nbformat": 4,
 "nbformat_minor": 2
}
