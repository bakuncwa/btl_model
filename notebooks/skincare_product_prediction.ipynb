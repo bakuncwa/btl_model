{
 "cells": [
  {
   "cell_type": "code",
   "execution_count": 1,
   "metadata": {},
   "outputs": [
    {
     "name": "stdout",
     "output_type": "stream",
     "text": [
      "3.5.4\n"
     ]
    }
   ],
   "source": [
    "import findspark\n",
    "findspark.init()\n",
    "from pyspark.sql import SparkSession\n",
    "\n",
    "spark = SparkSession.builder \\\n",
    "        .master('local[*]') \\\n",
    "        .appName('Basics') \\\n",
    "        .getOrCreate()\n",
    "\n",
    "print(spark.version)"
   ]
  },
  {
   "cell_type": "code",
   "execution_count": 2,
   "metadata": {},
   "outputs": [],
   "source": [
    "import numpy as np\n",
    "import pandas as pd\n",
    "import matplotlib.pyplot as plt\n",
    "import seaborn as sns\n",
    "from sklearn.model_selection import train_test_split\n",
    "from sklearn.preprocessing import MinMaxScaler, StandardScaler, OneHotEncoder\n",
    "from sklearn.linear_model import LogisticRegression\n",
    "from sklearn.metrics import accuracy_score, precision_score, recall_score, confusion_matrix, ConfusionMatrixDisplay, classification_report\n",
    "from sklearn.compose import ColumnTransformer\n",
    "from sklearn.pipeline import Pipeline\n",
    "from catboost import CatBoostClassifier, CatBoostRegressor\n",
    "\n",
    "pd.set_option('display.max_columns', None)\n",
    "pd.set_option('display.max_rows', None)\n",
    "\n",
    "# Assign home directory\n",
    "home_dir = 'C:/Users/gyalm/OneDrive/Desktop/btl_model'"
   ]
  },
  {
   "cell_type": "code",
   "execution_count": 159,
   "metadata": {},
   "outputs": [
    {
     "name": "stdout",
     "output_type": "stream",
     "text": [
      "Functions ready!\n"
     ]
    }
   ],
   "source": [
    "# Define functions\n",
    "# Import additional packages\n",
    "import datetime\n",
    "import csv\n",
    "import yaml\n",
    "import io\n",
    "import dill as pickle\n",
    "import os\n",
    "\n",
    "def get_datetime():\n",
    "    \"\"\"Returns datetime for filename use.\n",
    "\n",
    "    :return: datetime\n",
    "    :rtype: string\n",
    "    \"\"\"\n",
    "    stamp = datetime.datetime.now()\n",
    "    datetime_name = f\"{stamp.year:04}{stamp.month:02}{stamp.day:02}_{stamp.hour:02}{stamp.minute:02}\"\n",
    "    print(datetime_name)\n",
    "    return datetime_name\n",
    "\n",
    "print('Functions ready!')"
   ]
  },
  {
   "cell_type": "code",
   "execution_count": 3,
   "metadata": {},
   "outputs": [
    {
     "name": "stdout",
     "output_type": "stream",
     "text": [
      "Path to dataset files: C:\\Users\\gyalm\\.cache\\kagglehub\\datasets\\nadyinky\\sephora-products-and-skincare-reviews\\versions\\2\n"
     ]
    }
   ],
   "source": [
    "import kagglehub\n",
    "\n",
    "# Download latest dataset\n",
    "path = kagglehub.dataset_download(\"nadyinky/sephora-products-and-skincare-reviews\")\n",
    "\n",
    "print(\"Path to dataset files:\", path)"
   ]
  },
  {
   "cell_type": "code",
   "execution_count": 163,
   "metadata": {},
   "outputs": [
    {
     "name": "stdout",
     "output_type": "stream",
     "text": [
      "CSV Files Found:\n",
      "- product_info.csv\n",
      "- reviews_0-250.csv\n",
      "- reviews_1250-end.csv\n",
      "- reviews_250-500.csv\n",
      "- reviews_500-750.csv\n",
      "- reviews_750-1250.csv\n"
     ]
    },
    {
     "name": "stderr",
     "output_type": "stream",
     "text": [
      "C:\\Users\\gyalm\\AppData\\Local\\Temp\\ipykernel_13788\\3607951139.py:16: DtypeWarning: Columns (1) have mixed types. Specify dtype option on import or set low_memory=False.\n",
      "  dfs = {os.path.basename(file): pd.read_csv(file) for file in csv_files}\n",
      "C:\\Users\\gyalm\\AppData\\Local\\Temp\\ipykernel_13788\\3607951139.py:16: DtypeWarning: Columns (1) have mixed types. Specify dtype option on import or set low_memory=False.\n",
      "  dfs = {os.path.basename(file): pd.read_csv(file) for file in csv_files}\n",
      "C:\\Users\\gyalm\\AppData\\Local\\Temp\\ipykernel_13788\\3607951139.py:16: DtypeWarning: Columns (1) have mixed types. Specify dtype option on import or set low_memory=False.\n",
      "  dfs = {os.path.basename(file): pd.read_csv(file) for file in csv_files}\n"
     ]
    }
   ],
   "source": [
    "import glob\n",
    "import zipfile\n",
    "\n",
    "# Define dataset path\n",
    "path = \"C:/Users/gyalm/.cache/kagglehub/datasets/nadyinky/sephora-products-and-skincare-reviews/versions/2\"\n",
    "\n",
    "# Get all CSV files in the directory\n",
    "csv_files = glob.glob(os.path.join(path, \"*.csv\"))\n",
    "\n",
    "# Print all available CSV files\n",
    "print(\"CSV Files Found:\")\n",
    "for file in csv_files:\n",
    "    print(\"-\", os.path.basename(file))\n",
    "\n",
    "# Read each CSV file and store in dictionary\n",
    "dfs = {os.path.basename(file): pd.read_csv(file) for file in csv_files}\n",
    "\n",
    "# Separate CSV files into their own DataFrames\n",
    "product_df = dfs.get(\"product_info.csv\")\n",
    "reviews_1_df = dfs.get(\"reviews_0-250.csv\")\n",
    "reviews_2_df = dfs.get(\"reviews_250-500.csv\")\n",
    "reviews_3_df = dfs.get(\"reviews_500-750.csv\")\n",
    "reviews_4_df = dfs.get(\"reviews_750-1250.csv\")\n",
    "reviews_5_df = dfs.get(\"reviews_1250-end.csv\")\n",
    "\n",
    "# Define output path for product DataFrame\n",
    "product_output_path = f\"{home_dir}/data/product_df.csv\"\n",
    "\n",
    "# Save product DataFrame as a CSV file\n",
    "product_df.to_csv(product_output_path, index=False)\n",
    "\n",
    "# Define output path for reviews compressed file\n",
    "reviews_1_output_path = f\"{home_dir}/data/reviews_1_df.csv\"\n",
    "reviews_2_output_path = f\"{home_dir}/data/reviews_2_df.csv\"\n",
    "reviews_3_output_path = f\"{home_dir}/data/reviews_3_df.csv\"\n",
    "reviews_4_output_path = f\"{home_dir}/data/reviews_4_df.csv\"\n",
    "reviews_5_output_path = f\"{home_dir}/data/reviews_5_df.csv\"\n",
    "\n",
    "# Save the reviews DataFrame as a CSV file\n",
    "reviews_1_df.to_csv(reviews_1_output_path, index=False)\n",
    "reviews_2_df.to_csv(reviews_2_output_path, index=False)\n",
    "reviews_3_df.to_csv(reviews_3_output_path, index=False)\n",
    "reviews_4_df.to_csv(reviews_4_output_path, index=False)\n",
    "reviews_5_df.to_csv(reviews_5_output_path, index=False)"
   ]
  },
  {
   "cell_type": "code",
   "execution_count": 4,
   "metadata": {},
   "outputs": [
    {
     "name": "stdout",
     "output_type": "stream",
     "text": [
      "+----------+--------------------+--------+----------+-----------+------+-------+---------------+--------------------+--------------------+--------------+--------------------+---------+---------------+--------------+---------------+---+-----------+------------+-----------------+--------------------+----------------+------------------+--------------------+-----------+---------------+---------------+\n",
      "|product_id|        product_name|brand_id|brand_name|loves_count|rating|reviews|           size|      variation_type|     variation_value|variation_desc|         ingredients|price_usd|value_price_usd|sale_price_usd|limited_edition|new|online_only|out_of_stock|sephora_exclusive|          highlights|primary_category|secondary_category|   tertiary_category|child_count|child_max_price|child_min_price|\n",
      "+----------+--------------------+--------+----------+-----------+------+-------+---------------+--------------------+--------------------+--------------+--------------------+---------+---------------+--------------+---------------+---+-----------+------------+-----------------+--------------------+----------------+------------------+--------------------+-----------+---------------+---------------+\n",
      "|   P473671|Fragrance Discove...|    6342|     19-69|       6320|3.6364|   11.0|           NULL|                NULL|                NULL|          NULL|['Capri Eau de Pa...|     35.0|           NULL|          NULL|              0|  0|          1|           0|                0|['Unisex/ Genderl...|       Fragrance| Value & Gift Sets|   Perfume Gift Sets|          0|           NULL|           NULL|\n",
      "|   P473668|La Habana Eau de ...|    6342|     19-69|       3827|4.1538|   13.0| 3.4 oz/ 100 mL|Size + Concentrat...|      3.4 oz/ 100 mL|          NULL|['Alcohol Denat. ...|    195.0|           NULL|          NULL|              0|  0|          1|           0|                0|['Unisex/ Genderl...|       Fragrance|             Women|             Perfume|          2|           85.0|           30.0|\n",
      "|   P473662|Rainbow Bar Eau d...|    6342|     19-69|       3253|  4.25|   16.0| 3.4 oz/ 100 mL|Size + Concentrat...|      3.4 oz/ 100 mL|          NULL|['Alcohol Denat. ...|    195.0|           NULL|          NULL|              0|  0|          1|           0|                0|['Unisex/ Genderl...|       Fragrance|             Women|             Perfume|          2|           75.0|           30.0|\n",
      "|   P473660|Kasbah Eau de Parfum|    6342|     19-69|       3018|4.4762|   21.0| 3.4 oz/ 100 mL|Size + Concentrat...|      3.4 oz/ 100 mL|          NULL|['Alcohol Denat. ...|    195.0|           NULL|          NULL|              0|  0|          1|           0|                0|['Unisex/ Genderl...|       Fragrance|             Women|             Perfume|          2|           75.0|           30.0|\n",
      "|   P473658|Purple Haze Eau d...|    6342|     19-69|       2691|3.2308|   13.0| 3.4 oz/ 100 mL|Size + Concentrat...|      3.4 oz/ 100 mL|          NULL|['Alcohol Denat. ...|    195.0|           NULL|          NULL|              0|  0|          1|           0|                0|['Unisex/ Genderl...|       Fragrance|             Women|             Perfume|          2|           75.0|           30.0|\n",
      "|   P473661|Kasbah Eau de Par...|    6342|     19-69|       2448|4.4762|   21.0|0.25 oz/ 7.5 mL|Size + Concentrat...|0.25 oz/ 7.5 mL E...|          NULL|['Alcohol Denat. ...|     30.0|           NULL|          NULL|              0|  0|          1|           0|                0|['Warm &Spicy Sce...|       Fragrance|             Women|Rollerballs & Tra...|          0|           NULL|           NULL|\n",
      "|   P473659|Purple Haze Eau d...|    6342|     19-69|       1619|3.2308|   13.0|0.25 oz/ 7.5 mL|Size + Concentrat...|     0.25 oz/ 7.5 mL|          NULL|['Alcohol Denat. ...|     30.0|           NULL|          NULL|              0|  0|          1|           0|                0|['Unisex/ Genderl...|       Fragrance|             Women|Rollerballs & Tra...|          0|           NULL|           NULL|\n",
      "|   P473666|Invisible Post Ea...|    6342|     19-69|       1542| 3.625|    8.0| 3.4 oz/ 100 mL|Size + Concentrat...|      3.4 oz/ 100 mL|          NULL|['Alcohol Denat. ...|    195.0|           NULL|          NULL|              0|  0|          1|           0|                0|['Unisex/ Genderl...|       Fragrance|             Women|             Perfume|          2|           75.0|           30.0|\n",
      "|   P472300| Capri Eau de Parfum|    6342|     19-69|       1542|3.5714|    7.0| 3.4 oz/ 100 mL|Size + Concentrat...|3.4 oz/ 100 mL Ea...|          NULL|['Alcohol Denat. ...|    195.0|           NULL|          NULL|              0|  0|          1|           0|                0|['Fresh Scent', '...|       Fragrance|             Women|             Perfume|          2|           75.0|           30.0|\n",
      "|   P473667|Invisible Post Ea...|    6342|     19-69|       1377| 3.625|    8.0|0.25 oz/ 7.5 mL|Size + Concentrat...|     0.25 oz/ 7.5 mL|          NULL|['Alcohol Denat. ...|     30.0|           NULL|          NULL|              0|  0|          1|           0|                0|['Unisex/ Genderl...|       Fragrance|             Women|Rollerballs & Tra...|          0|           NULL|           NULL|\n",
      "+----------+--------------------+--------+----------+-----------+------+-------+---------------+--------------------+--------------------+--------------+--------------------+---------+---------------+--------------+---------------+---+-----------+------------+-----------------+--------------------+----------------+------------------+--------------------+-----------+---------------+---------------+\n",
      "only showing top 10 rows\n",
      "\n"
     ]
    }
   ],
   "source": [
    "product_df = spark.read.csv(f\"{home_dir}/data/product_df.csv\", inferSchema=True, header=True)\n",
    "product_df.show(10)\n",
    "product_df.createOrReplaceTempView(\"product_df\")"
   ]
  },
  {
   "cell_type": "code",
   "execution_count": 5,
   "metadata": {},
   "outputs": [
    {
     "name": "stdout",
     "output_type": "stream",
     "text": [
      "+----------+-----------+------+--------------+-----------+--------------------+------------------------+------------------------+---------------+--------------------+--------------------+-----------+---------+-----------+----------+----------+--------------------+----------+---------+\n",
      "|Unnamed: 0|  author_id|rating|is_recommended|helpfulness|total_feedback_count|total_neg_feedback_count|total_pos_feedback_count|submission_time|         review_text|        review_title|  skin_tone|eye_color|  skin_type|hair_color|product_id|        product_name|brand_name|price_usd|\n",
      "+----------+-----------+------+--------------+-----------+--------------------+------------------------+------------------------+---------------+--------------------+--------------------+-----------+---------+-----------+----------+----------+--------------------+----------+---------+\n",
      "|         0| 1741593524|     5|           1.0|        1.0|                   2|                       0|                       2|     2023-02-01|I use this with t...|Taught me how to ...|       NULL|    brown|        dry|     black|   P504322|Gentle Hydra-Gel ...|  NUDESTIX|     19.0|\n",
      "|         1|31423088263|     1|           0.0|       NULL|                   0|                       0|                       0|     2023-03-21|I bought this lip...|        Disappointed|       NULL|     NULL|       NULL|      NULL|   P420652|Lip Sleeping Mask...|   LANEIGE|     24.0|\n",
      "|         2| 5061282401|     5|           1.0|       NULL|                   0|                       0|                       0|     2023-03-21|My review title s...|New Favorite Routine|      light|    brown|        dry|    blonde|   P420652|Lip Sleeping Mask...|   LANEIGE|     24.0|\n",
      "|         3| 6083038851|     5|           1.0|       NULL|                   0|                       0|                       0|     2023-03-20|I’ve always loved...|Can't go wrong wi...|       NULL|    brown|combination|     black|   P420652|Lip Sleeping Mask...|   LANEIGE|     24.0|\n",
      "|         4|47056667835|     5|           1.0|       NULL|                   0|                       0|                       0|     2023-03-20|If you have dry c...|     A must have !!!|      light|    hazel|combination|      NULL|   P420652|Lip Sleeping Mask...|   LANEIGE|     24.0|\n",
      "|         5|42802569154|     4|           1.0|        1.0|                   1|                       0|                       1|     2023-03-19|The scent isn’t m...|              Great!|lightMedium|    brown|     normal|     brown|   P420652|Lip Sleeping Mask...|   LANEIGE|     24.0|\n",
      "|         6| 6941883808|     2|           0.0|       0.25|                   8|                       6|                       2|     2023-03-19|I’ll give this 2 ...|Dried my lips out...|      light|     blue|combination|     brown|   P420652|Lip Sleeping Mask...|   LANEIGE|     24.0|\n",
      "|         7|27926227988|     5|           1.0|       NULL|                   0|                       0|                       0|     2023-03-19|I use this at nig...|         Works great|  fairLight|    brown|combination|     brown|   P420652|Lip Sleeping Mask...|   LANEIGE|     24.0|\n",
      "|         8| 7656791726|     5|           1.0|        1.0|                   1|                       0|                       1|     2023-03-18|I love this stuff...|          Must have.|      light|     blue|     normal|    blonde|   P420652|Lip Sleeping Mask...|   LANEIGE|     24.0|\n",
      "|         9|38727834382|     5|           1.0|        1.0|                   2|                       0|                       2|     2023-03-18|I purchased the S...|     RUN TO PURCHASE|      light|    brown|     normal|     brown|   P420652|Lip Sleeping Mask...|   LANEIGE|     24.0|\n",
      "+----------+-----------+------+--------------+-----------+--------------------+------------------------+------------------------+---------------+--------------------+--------------------+-----------+---------+-----------+----------+----------+--------------------+----------+---------+\n",
      "only showing top 10 rows\n",
      "\n",
      "+----------+-----------+------+--------------+------------------+--------------------+------------------------+------------------------+---------------+--------------------+--------------------+-----------+---------+-----------+----------+----------+--------------------+--------------+---------+\n",
      "|Unnamed: 0|  author_id|rating|is_recommended|       helpfulness|total_feedback_count|total_neg_feedback_count|total_pos_feedback_count|submission_time|         review_text|        review_title|  skin_tone|eye_color|  skin_type|hair_color|product_id|        product_name|    brand_name|price_usd|\n",
      "+----------+-----------+------+--------------+------------------+--------------------+------------------------+------------------------+---------------+--------------------+--------------------+-----------+---------+-----------+----------+----------+--------------------+--------------+---------+\n",
      "|         0| 2190293206|     2|           0.0|              NULL|                   0|                       0|                       0|     2023-03-19|Used to swear by ...|                NULL|lightMedium|    brown|combination|     brown|   P443842|Retinol Anti-Agin...|The INKEY List|    12.99|\n",
      "|         1| 9113341005|     5|           1.0|              NULL|                   0|                       0|                       0|     2023-03-18|I’ve only been us...|More tolerable th...|       deep|    brown|     normal|     black|   P443842|Retinol Anti-Agin...|The INKEY List|    12.99|\n",
      "|         2|23866342710|     1|           0.0|               1.0|                  13|                       0|                      13|     2023-03-12|Why, why, why wou...|New formula is aw...|  fairLight|     blue|combination|    blonde|   P443842|Retinol Anti-Agin...|The INKEY List|    12.99|\n",
      "|         3| 1328806527|     1|           0.0|0.9411759972572328|                  17|                       1|                      16|     2023-03-12|I have used this ...|Recently reformul...|      light|    brown|combination|      gray|   P443842|Retinol Anti-Agin...|The INKEY List|    12.99|\n",
      "|         4|31262847082|     5|           1.0|               1.0|                   1|                       0|                       1|     2023-03-09|Great product for...|Must have product...|lightMedium|    hazel|combination|     brown|   P443842|Retinol Anti-Agin...|The INKEY List|    12.99|\n",
      "|         5|38092205147|     4|           1.0|               1.0|                   5|                       0|                       5|     2023-03-06|I’ve been using t...|                NULL|       NULL|     NULL|       NULL|      NULL|   P443842|Retinol Anti-Agin...|The INKEY List|    12.99|\n",
      "|         6| 5090375964|     4|           1.0|               1.0|                   1|                       0|                       1|     2023-03-05|Decent serum ; it...|          Great size|       NULL|    brown|combination|     black|   P443842|Retinol Anti-Agin...|The INKEY List|    12.99|\n",
      "|         7|42425576020|     5|           1.0|               1.0|                   2|                       0|                       2|     2023-03-05|I recently bought...|    No smell for me!|  fairLight|     gray|combination|    blonde|   P443842|Retinol Anti-Agin...|The INKEY List|    12.99|\n",
      "|         8| 6768361454|     1|           0.0|0.9090909957885742|                  11|                       1|                      10|     2023-03-03|Been using this p...|                NULL|      light|    hazel|combination|     brown|   P443842|Retinol Anti-Agin...|The INKEY List|    12.99|\n",
      "|         9| 6860968769|     1|           0.0| 0.800000011920929|                  15|                       3|                      12|     2023-03-01|I used to swear b...|Threw up in my mo...|lightMedium|     blue|        dry|     brown|   P443842|Retinol Anti-Agin...|The INKEY List|    12.99|\n",
      "+----------+-----------+------+--------------+------------------+--------------------+------------------------+------------------------+---------------+--------------------+--------------------+-----------+---------+-----------+----------+----------+--------------------+--------------+---------+\n",
      "only showing top 10 rows\n",
      "\n",
      "+----------+-----------+------+--------------+-----------+--------------------+------------------------+------------------------+---------------+--------------------+--------------------+---------+---------+-----------+----------+----------+--------------------+----------+---------+\n",
      "|Unnamed: 0|  author_id|rating|is_recommended|helpfulness|total_feedback_count|total_neg_feedback_count|total_pos_feedback_count|submission_time|         review_text|        review_title|skin_tone|eye_color|  skin_type|hair_color|product_id|        product_name|brand_name|price_usd|\n",
      "+----------+-----------+------+--------------+-----------+--------------------+------------------------+------------------------+---------------+--------------------+--------------------+---------+---------+-----------+----------+----------+--------------------+----------+---------+\n",
      "|         0| 2079014373|     5|           1.0|       NULL|                   0|                       0|                       0|     2023-03-14|These are the onl...| Best Pimple Patches|   medium|     blue|     normal|      NULL|   P442857|Focuspot Micro Ti...| Dr. Jart+|     20.0|\n",
      "|         1|12631885517|     4|           1.0|       NULL|                   0|                       0|                       0|     2023-02-08|One of my ingrown...|           It works!|mediumTan|    brown|combination|     black|   P442857|Focuspot Micro Ti...| Dr. Jart+|     20.0|\n",
      "|         2| 2321761961|     5|           1.0|        1.0|                   1|                       0|                       1|     2023-02-05|I have tried 10 d...|Good for a large ...|     NULL|    hazel|combination|    blonde|   P442857|Focuspot Micro Ti...| Dr. Jart+|     20.0|\n",
      "|         3| 1380382883|     4|           1.0|       NULL|                   0|                       0|                       0|     2023-01-24|Love these for my...|Micro tips are a ...|    light|    brown|combination|     black|   P442857|Focuspot Micro Ti...| Dr. Jart+|     20.0|\n",
      "|         4| 8871759068|     4|           1.0|        1.0|                   1|                       0|                       1|     2023-01-15|Best so far - tho...|                NULL|     NULL|     NULL|       NULL|      NULL|   P442857|Focuspot Micro Ti...| Dr. Jart+|     20.0|\n",
      "|         5| 1329183381|     1|           0.0|        1.0|                   3|                       0|                       3|     2022-12-19|Not worth it. The...|                NULL|     fair|     blue|     normal|    blonde|   P442857|Focuspot Micro Ti...| Dr. Jart+|     20.0|\n",
      "|         6| 5552475859|     5|           1.0|        1.0|                   4|                       0|                       4|     2022-11-03|I purchased these...|Worth the money c...|    light|    green|       oily|    blonde|   P442857|Focuspot Micro Ti...| Dr. Jart+|     20.0|\n",
      "|         7| 6152128389|     5|           1.0|        1.0|                   6|                       0|                       6|     2022-08-31|I will be the fir...|Not your momma's ...|    light|    brown|combination|     brown|   P442857|Focuspot Micro Ti...| Dr. Jart+|     20.0|\n",
      "|         8| 1298593082|     5|           1.0|        1.0|                   3|                       0|                       3|     2022-08-20|Both my husband (...|Surprisingly effe...|    light|     blue|     normal|     brown|   P442857|Focuspot Micro Ti...| Dr. Jart+|     20.0|\n",
      "|         9| 8664488720|     2|           0.0|        1.0|                   2|                       0|                       2|     2022-08-18|I wish I had read...|      Waste of Money|     fair|    brown|        dry|    blonde|   P442857|Focuspot Micro Ti...| Dr. Jart+|     20.0|\n",
      "+----------+-----------+------+--------------+-----------+--------------------+------------------------+------------------------+---------------+--------------------+--------------------+---------+---------+-----------+----------+----------+--------------------+----------+---------+\n",
      "only showing top 10 rows\n",
      "\n",
      "+----------+-----------+------+--------------+------------------+--------------------+------------------------+------------------------+---------------+--------------------+--------------------+---------+---------+-----------+----------+----------+--------------------+----------+---------+\n",
      "|Unnamed: 0|  author_id|rating|is_recommended|       helpfulness|total_feedback_count|total_neg_feedback_count|total_pos_feedback_count|submission_time|         review_text|        review_title|skin_tone|eye_color|  skin_type|hair_color|product_id|        product_name|brand_name|price_usd|\n",
      "+----------+-----------+------+--------------+------------------+--------------------+------------------------+------------------------+---------------+--------------------+--------------------+---------+---------+-----------+----------+----------+--------------------+----------+---------+\n",
      "|         0| 8554483509|     2|           0.0|              NULL|                   0|                       0|                       0|     2023-03-21|This was gifted b...|Nice packaging bu...|    light|    brown|combination|      NULL|   P467976|(Re)setting 100% ...|Supergoop!|     35.0|\n",
      "|         1|24710523057|     2|           0.0|               1.0|                   2|                       0|                       2|     2023-03-07|I didn’t like it;...|Packaging is not ...|     NULL|    brown|combination|      NULL|   P467976|(Re)setting 100% ...|Supergoop!|     35.0|\n",
      "|         2| 8429283179|     5|           1.0|0.9411759972572328|                  34|                       2|                      32|     2023-03-01|Y’all….I’m beggin...|   PLS READ THIS LOL|    light|    green|     normal|     brown|   P467976|(Re)setting 100% ...|Supergoop!|     35.0|\n",
      "|         3| 8105185455|     1|           0.0|               0.0|                   5|                       5|                       0|     2023-02-27|I have not figure...|           At a loss|      tan|    brown|combination|     black|   P467976|(Re)setting 100% ...|Supergoop!|     35.0|\n",
      "|         4| 1515931062|     1|           0.0|               0.0|                   7|                       7|                       0|     2023-02-27|I’m at a loss as ...|        NOT for me!!|     fair|     blue|combination|    blonde|   P467976|(Re)setting 100% ...|Supergoop!|     35.0|\n",
      "|         5| 1477145203|     5|           1.0|               1.0|                   4|                       0|                       4|     2023-02-22|I love the conven...|Convenient and ma...|     fair|    green|combination|     black|   P467976|(Re)setting 100% ...|Supergoop!|     35.0|\n",
      "|         6|42900077123|     5|           1.0|               1.0|                   4|                       0|                       4|     2023-02-21|I love this!! I w...|Amazing for touch...|     fair|    green|       oily|     brown|   P467976|(Re)setting 100% ...|Supergoop!|     35.0|\n",
      "|         7| 2205673874|     1|           0.0|               0.0|                   2|                       2|                       0|     2023-02-17|Trash. Super diff...|              Trash.|    light|    brown|combination|     brown|   P467976|(Re)setting 100% ...|Supergoop!|     35.0|\n",
      "|         8| 1576670382|     5|           1.0|               0.5|                   2|                       1|                       1|     2023-02-17|I have been using...|      Great product!|    light|     blue|     normal|    blonde|   P467976|(Re)setting 100% ...|Supergoop!|     35.0|\n",
      "|         9| 2260142001|     5|           1.0|               1.0|                   2|                       0|                       2|     2023-02-11|I used this as a ...| Great for touch ups|    light|    hazel|       oily|    blonde|   P467976|(Re)setting 100% ...|Supergoop!|     35.0|\n",
      "+----------+-----------+------+--------------+------------------+--------------------+------------------------+------------------------+---------------+--------------------+--------------------+---------+---------+-----------+----------+----------+--------------------+----------+---------+\n",
      "only showing top 10 rows\n",
      "\n",
      "+----------+-----------+------+--------------+------------------+--------------------+------------------------+------------------------+---------------+--------------------+--------------------+-----------+---------+-----------+----------+----------+--------------------+----------+---------+\n",
      "|Unnamed: 0|  author_id|rating|is_recommended|       helpfulness|total_feedback_count|total_neg_feedback_count|total_pos_feedback_count|submission_time|         review_text|        review_title|  skin_tone|eye_color|  skin_type|hair_color|product_id|        product_name|brand_name|price_usd|\n",
      "+----------+-----------+------+--------------+------------------+--------------------+------------------------+------------------------+---------------+--------------------+--------------------+-----------+---------+-----------+----------+----------+--------------------+----------+---------+\n",
      "|         0| 1945004256|     5|           1.0|               0.0|                   2|                       2|                       0|     2022-12-10|I absolutely L-O-...|        A must have!|lightMedium|    green|combination|      NULL|   P379064|Lotus Balancing &...|   Clarins|     65.0|\n",
      "|         1| 5478482359|     3|           1.0|0.3333329856395721|                   3|                       2|                       1|     2021-12-17|I gave this 3 sta...|it keeps oily ski...|  mediumTan|    brown|       oily|     black|   P379064|Lotus Balancing &...|   Clarins|     65.0|\n",
      "|         2|29002209922|     5|           1.0|               1.0|                   2|                       0|                       2|     2021-06-07|Works well as soo...|    Worth the money!|lightMedium|    brown|        dry|     black|   P379064|Lotus Balancing &...|   Clarins|     65.0|\n",
      "|         3| 7391078463|     5|           1.0|               1.0|                   2|                       0|                       2|     2021-05-21|this oil helped w...|       best face oil|lightMedium|    brown|combination|    blonde|   P379064|Lotus Balancing &...|   Clarins|     65.0|\n",
      "|         4| 1766313888|     5|           1.0|               1.0|                  13|                       0|                      13|     2021-03-29|This is my first ...|      Maskne miracle|  mediumTan|    brown|combination|     black|   P379064|Lotus Balancing &...|   Clarins|     65.0|\n",
      "|         5| 1532951999|     5|           1.0|               1.0|                   5|                       0|                       5|     2020-09-20|I have  been usin...|            Best Oil|lightMedium|    brown|     normal|     brown|   P379064|Lotus Balancing &...|   Clarins|     65.0|\n",
      "|         6| 2168991896|     5|           1.0|0.8999999761581421|                  10|                       1|                       9|     2020-08-20|I first used the ...|Shame on me for w...|lightMedium|    brown|combination|     black|   P379064|Lotus Balancing &...|   Clarins|     65.0|\n",
      "|         7| 5240639417|     5|           1.0|0.9333329796791076|                  15|                       1|                      14|     2020-08-01|Super short back ...|My favorite for m...|       fair|     blue|combination|    blonde|   P379064|Lotus Balancing &...|   Clarins|     65.0|\n",
      "|         8| 1599604155|     5|           1.0|               1.0|                   4|                       0|                       4|     2020-06-07|first oil that I’...|                NULL|      light|    hazel|combination|     brown|   P379064|Lotus Balancing &...|   Clarins|     65.0|\n",
      "|         9|11792701494|     5|           1.0|0.9166669845581056|                  12|                       1|                      11|     2020-04-03|This is the best ...|  Best treatment oil|lightMedium|    brown|combination|     brown|   P379064|Lotus Balancing &...|   Clarins|     65.0|\n",
      "+----------+-----------+------+--------------+------------------+--------------------+------------------------+------------------------+---------------+--------------------+--------------------+-----------+---------+-----------+----------+----------+--------------------+----------+---------+\n",
      "only showing top 10 rows\n",
      "\n"
     ]
    }
   ],
   "source": [
    "reviews_1_df = spark.read.csv(f\"{home_dir}/data/reviews_1_df.csv\", inferSchema=True, header=True)\n",
    "reviews_1_df.show(10)\n",
    "reviews_1_df.createOrReplaceTempView(\"reviews_1_df\")\n",
    "\n",
    "reviews_2_df = spark.read.csv(f\"{home_dir}/data/reviews_2_df.csv\", inferSchema=True, header=True)\n",
    "reviews_2_df.show(10)\n",
    "reviews_2_df.createOrReplaceTempView(\"reviews_2_df\")\n",
    "\n",
    "reviews_3_df = spark.read.csv(f\"{home_dir}/data/reviews_3_df.csv\", inferSchema=True, header=True)\n",
    "reviews_3_df.show(10)\n",
    "reviews_3_df.createOrReplaceTempView(\"reviews_3_df\")\n",
    "\n",
    "reviews_4_df = spark.read.csv(f\"{home_dir}/data/reviews_4_df.csv\", inferSchema=True, header=True)\n",
    "reviews_4_df.show(10)\n",
    "reviews_4_df.createOrReplaceTempView(\"reviews_4_df\")\n",
    "\n",
    "reviews_5_df = spark.read.csv(f\"{home_dir}/data/reviews_5_df.csv\", inferSchema=True, header=True)\n",
    "reviews_5_df.show(10)\n",
    "reviews_5_df.createOrReplaceTempView(\"reviews_5_df\")"
   ]
  },
  {
   "cell_type": "code",
   "execution_count": 6,
   "metadata": {},
   "outputs": [
    {
     "name": "stdout",
     "output_type": "stream",
     "text": [
      "+----------+-----------+------+--------------+-----------+--------------------+------------------------+------------------------+---------------+--------------------+--------------------+-----------+---------+-----------+----------+----------+--------------------+----------+---------+\n",
      "|Unnamed: 0|  author_id|rating|is_recommended|helpfulness|total_feedback_count|total_neg_feedback_count|total_pos_feedback_count|submission_time|         review_text|        review_title|  skin_tone|eye_color|  skin_type|hair_color|product_id|        product_name|brand_name|price_usd|\n",
      "+----------+-----------+------+--------------+-----------+--------------------+------------------------+------------------------+---------------+--------------------+--------------------+-----------+---------+-----------+----------+----------+--------------------+----------+---------+\n",
      "|         0| 1741593524|     5|           1.0|        1.0|                   2|                       0|                       2|     2023-02-01|I use this with t...|Taught me how to ...|       NULL|    brown|        dry|     black|   P504322|Gentle Hydra-Gel ...|  NUDESTIX|     19.0|\n",
      "|         1|31423088263|     1|           0.0|       NULL|                   0|                       0|                       0|     2023-03-21|I bought this lip...|        Disappointed|       NULL|     NULL|       NULL|      NULL|   P420652|Lip Sleeping Mask...|   LANEIGE|     24.0|\n",
      "|         2| 5061282401|     5|           1.0|       NULL|                   0|                       0|                       0|     2023-03-21|My review title s...|New Favorite Routine|      light|    brown|        dry|    blonde|   P420652|Lip Sleeping Mask...|   LANEIGE|     24.0|\n",
      "|         3| 6083038851|     5|           1.0|       NULL|                   0|                       0|                       0|     2023-03-20|I’ve always loved...|Can't go wrong wi...|       NULL|    brown|combination|     black|   P420652|Lip Sleeping Mask...|   LANEIGE|     24.0|\n",
      "|         4|47056667835|     5|           1.0|       NULL|                   0|                       0|                       0|     2023-03-20|If you have dry c...|     A must have !!!|      light|    hazel|combination|      NULL|   P420652|Lip Sleeping Mask...|   LANEIGE|     24.0|\n",
      "|         5|42802569154|     4|           1.0|        1.0|                   1|                       0|                       1|     2023-03-19|The scent isn’t m...|              Great!|lightMedium|    brown|     normal|     brown|   P420652|Lip Sleeping Mask...|   LANEIGE|     24.0|\n",
      "|         6| 6941883808|     2|           0.0|       0.25|                   8|                       6|                       2|     2023-03-19|I’ll give this 2 ...|Dried my lips out...|      light|     blue|combination|     brown|   P420652|Lip Sleeping Mask...|   LANEIGE|     24.0|\n",
      "|         7|27926227988|     5|           1.0|       NULL|                   0|                       0|                       0|     2023-03-19|I use this at nig...|         Works great|  fairLight|    brown|combination|     brown|   P420652|Lip Sleeping Mask...|   LANEIGE|     24.0|\n",
      "|         8| 7656791726|     5|           1.0|        1.0|                   1|                       0|                       1|     2023-03-18|I love this stuff...|          Must have.|      light|     blue|     normal|    blonde|   P420652|Lip Sleeping Mask...|   LANEIGE|     24.0|\n",
      "|         9|38727834382|     5|           1.0|        1.0|                   2|                       0|                       2|     2023-03-18|I purchased the S...|     RUN TO PURCHASE|      light|    brown|     normal|     brown|   P420652|Lip Sleeping Mask...|   LANEIGE|     24.0|\n",
      "+----------+-----------+------+--------------+-----------+--------------------+------------------------+------------------------+---------------+--------------------+--------------------+-----------+---------+-----------+----------+----------+--------------------+----------+---------+\n",
      "only showing top 10 rows\n",
      "\n"
     ]
    }
   ],
   "source": [
    "# UNION ALL review tables into total_reviews_df\n",
    "total_reviews_df = spark.sql(\"\"\"\n",
    "    SELECT * FROM reviews_1_df\n",
    "    UNION ALL\n",
    "    SELECT * FROM reviews_2_df\n",
    "    UNION ALL\n",
    "    SELECT * FROM reviews_3_df\n",
    "    UNION ALL\n",
    "    SELECT * FROM reviews_4_df\n",
    "    UNION ALL\n",
    "    SELECT * FROM reviews_5_df\n",
    "\"\"\")\n",
    "total_reviews_df.show(10)\n",
    "total_reviews_df.createOrReplaceTempView(\"total_reviews_df\")"
   ]
  },
  {
   "cell_type": "code",
   "execution_count": 7,
   "metadata": {},
   "outputs": [
    {
     "name": "stdout",
     "output_type": "stream",
     "text": [
      "+----------+--------------------+--------------------+-------------+\n",
      "|product_id|        product_name|          brand_name|total_revenue|\n",
      "+----------+--------------------+--------------------+-------------+\n",
      "|   P375849|Facial Treatment ...|               SK-II|     482405.0|\n",
      "|   P461933|Advanced Night Re...|        Estée Lauder|     470340.0|\n",
      "|   P433520|Magic Cream Moist...|   Charlotte Tilbury|     282000.0|\n",
      "|   P416341|Crème de la Mer M...|              La Mer|     281960.0|\n",
      "|   P423688|Daily Microfolian...|         Dermalogica|     278525.0|\n",
      "|   P461159|Estee Lauder Adva...|        Estée Lauder|     277380.0|\n",
      "|   P479839|Revitalizing Supr...|        Estée Lauder|     272734.0|\n",
      "|   P309308|Good Genes All-In...|        Sunday Riley|     267546.0|\n",
      "|   P456213|GOOPGLOW Microder...|                goop|     266000.0|\n",
      "|   P447212|    Hyaluronic Serum|   Dr. Barbara Sturm|     252160.0|\n",
      "|   P460779|Skinlongevity Lon...|        bareMinerals|     242190.0|\n",
      "|   P461949|The Concentrate S...|              La Mer|     239275.0|\n",
      "|   P269122|Alpha Beta Extra ...|Dr. Dennis Gross ...|     219788.0|\n",
      "|   P421235|Double Serum Firm...|             Clarins|     196740.0|\n",
      "|   P426183|Mini Facial Treat...|               SK-II|     194733.0|\n",
      "|   P420652|Lip Sleeping Mask...|             LANEIGE|     188064.0|\n",
      "|   P447781|          Face Cream|   Dr. Barbara Sturm|     181125.0|\n",
      "|   P474953|Abeille Royale Ad...|            GUERLAIN|     179075.0|\n",
      "|   P427421|Protini Polypepti...|      Drunk Elephant|     178908.0|\n",
      "|   P450271|Green Clean Makeu...|             Farmacy|     178740.0|\n",
      "+----------+--------------------+--------------------+-------------+\n",
      "only showing top 20 rows\n",
      "\n"
     ]
    }
   ],
   "source": [
    "# Calculate product_id sales revenue in 2022-2023\n",
    "sales_revenue = spark.sql(\"\"\"\n",
    "SELECT \n",
    "    product_id,\n",
    "    product_name,\n",
    "    brand_name,\n",
    "    SUM(price_usd) AS total_revenue\n",
    "FROM total_reviews_df\n",
    "WHERE YEAR(submission_time) BETWEEN 2020 AND 2023\n",
    "GROUP BY product_id, product_name, brand_name\n",
    "ORDER BY total_revenue DESC;\n",
    "\"\"\")\n",
    "\n",
    "sales_revenue.show()"
   ]
  },
  {
   "cell_type": "code",
   "execution_count": 8,
   "metadata": {},
   "outputs": [
    {
     "name": "stdout",
     "output_type": "stream",
     "text": [
      "+----------+--------------------+------------------+-------------+-------------------+---------------------+\n",
      "|product_id|        product_name|        brand_name|total_revenue|brand_total_revenue|percentage_difference|\n",
      "+----------+--------------------+------------------+-------------+-------------------+---------------------+\n",
      "|   P442990|Clean Screen Mine...|REN Clean Skincare|        880.0|            75966.0|                 1.15|\n",
      "|   P442713|FAB Skin Lab Reti...|  First Aid Beauty|        880.0|            71344.0|                 1.22|\n",
      "|   P501323|Overnight Recover...|            Tatcha|        880.0|           255951.0|                 0.34|\n",
      "|   P453929|Retinol Youth Ren...|             Murad|        880.0|           205419.0|                 0.43|\n",
      "|   P467123|That Big Screen M...|        JLo Beauty|        880.0|            50974.0|                  1.7|\n",
      "+----------+--------------------+------------------+-------------+-------------------+---------------------+\n",
      "\n"
     ]
    }
   ],
   "source": [
    "# Calculate product_id median sales revenue from 2022-2023 and compare to overall brand_name revenue\n",
    "\n",
    "median_products = spark.sql(\"\"\"\n",
    "    WITH sales_revenue AS (\n",
    "        SELECT \n",
    "            product_id,\n",
    "            product_name,\n",
    "            brand_name,\n",
    "            SUM(review_count * price_usd) AS total_revenue\n",
    "        FROM (\n",
    "            SELECT \n",
    "                product_id,\n",
    "                product_name, \n",
    "                brand_name,\n",
    "                author_id, \n",
    "                COUNT(*) AS review_count, \n",
    "                price_usd\n",
    "            FROM total_reviews_df\n",
    "            WHERE YEAR(submission_time) BETWEEN 2022 AND 2023\n",
    "            GROUP BY product_id, product_name, brand_name, author_id, price_usd\n",
    "        ) subquery\n",
    "        GROUP BY product_id, product_name, brand_name\n",
    "    ),\n",
    "\n",
    "    brand_revenue AS (\n",
    "        SELECT \n",
    "            brand_name,\n",
    "            SUM(total_revenue) AS brand_total_revenue\n",
    "        FROM sales_revenue\n",
    "        GROUP BY brand_name\n",
    "    ),\n",
    "\n",
    "    median_sales AS (\n",
    "        SELECT percentile_approx(total_revenue, 0.5) AS median_revenue FROM sales_revenue\n",
    "    )\n",
    "\n",
    "    SELECT \n",
    "        sr.product_id, \n",
    "        sr.product_name, \n",
    "        sr.brand_name, \n",
    "        sr.total_revenue,\n",
    "        (br.brand_total_revenue - sr.total_revenue) AS brand_total_revenue,\n",
    "        ROUND((sr.total_revenue / br.brand_total_revenue) * 100, 2) AS percentage_difference\n",
    "    FROM sales_revenue sr\n",
    "    JOIN brand_revenue br ON sr.brand_name = br.brand_name\n",
    "    JOIN median_sales ms ON sr.total_revenue = ms.median_revenue\n",
    "\"\"\")\n",
    "\n",
    "median_products.show()"
   ]
  },
  {
   "cell_type": "code",
   "execution_count": 9,
   "metadata": {},
   "outputs": [
    {
     "data": {
      "image/png": "[encoded data removed]",
      "text/plain": [
       "<Figure size 1200x600 with 2 Axes>"
      ]
     },
     "metadata": {},
     "output_type": "display_data"
    }
   ],
   "source": [
    "# Monthly Revenue Comparison: Product P442990 vs. REN Clean Skincare (2020-2023)\n",
    "\n",
    "monthly_revenue_comparison = spark.sql(\"\"\"\n",
    "    WITH sales_revenue AS (\n",
    "        SELECT  \n",
    "            DATE_FORMAT(submission_time, 'yyyy-MM') AS month, \n",
    "            SUM(price_usd) AS total_revenue_product\n",
    "        FROM total_reviews_df\n",
    "        WHERE YEAR(submission_time) BETWEEN 2020 AND 2023\n",
    "            AND product_id = 'P442990'\n",
    "        GROUP BY DATE_FORMAT(submission_time, 'yyyy-MM')\n",
    "    ),\n",
    "\n",
    "    brand_revenue AS (\n",
    "        SELECT \n",
    "            DATE_FORMAT(submission_time, 'yyyy-MM') AS month,\n",
    "            SUM(review_count * price_usd) AS total_revenue_brand\n",
    "        FROM (\n",
    "            SELECT \n",
    "                brand_name,\n",
    "                submission_time,\n",
    "                COUNT(*) AS review_count, \n",
    "                price_usd\n",
    "            FROM total_reviews_df\n",
    "            WHERE YEAR(submission_time) BETWEEN 2020 AND 2023\n",
    "                AND brand_name = 'REN Clean Skincare'\n",
    "            GROUP BY brand_name, submission_time, price_usd\n",
    "        ) subquery\n",
    "        GROUP BY DATE_FORMAT(submission_time, 'yyyy-MM')\n",
    "    )\n",
    "\n",
    "    SELECT \n",
    "        COALESCE(sr.month, br.month) AS month,\n",
    "        COALESCE(sr.total_revenue_product, 0) AS total_revenue_product,\n",
    "        COALESCE(br.total_revenue_brand, 0) AS total_revenue_brand\n",
    "    FROM sales_revenue sr\n",
    "    FULL OUTER JOIN brand_revenue br ON sr.month = br.month\n",
    "    ORDER BY month;\n",
    "\"\"\").toPandas()\n",
    "\n",
    "monthly_revenue_comparison[\"month\"] = pd.to_datetime(monthly_revenue_comparison[\"month\"])\n",
    "\n",
    "fig, ax1 = plt.subplots(figsize=(12, 6))\n",
    "\n",
    "ax1.bar(monthly_revenue_comparison[\"month\"], monthly_revenue_comparison[\"total_revenue_product\"], \n",
    "        width=20, alpha=0.6, label=\"Product P442990 (Bar)\", color=\"darkblue\")\n",
    "ax1.bar(monthly_revenue_comparison[\"month\"], monthly_revenue_comparison[\"total_revenue_brand\"], \n",
    "        width=20, alpha=0.4, label=\"REN Clean Skincare (Bar)\", color=\"darkred\")\n",
    "\n",
    "ax2 = ax1.twinx()\n",
    "ax2.plot(monthly_revenue_comparison[\"month\"], monthly_revenue_comparison[\"total_revenue_product\"], \n",
    "         marker=\"o\", linestyle=\"-\", label=\"Product P442990 (Line)\", color=\"darkblue\")\n",
    "ax2.plot(monthly_revenue_comparison[\"month\"], monthly_revenue_comparison[\"total_revenue_brand\"], \n",
    "         marker=\"s\", linestyle=\"--\", label=\"REN Clean Skincare (Line)\", color=\"darkred\")\n",
    "\n",
    "ax1.set_xlabel(\"Month\")\n",
    "ax1.set_ylabel(\"Total Revenue (USD) - Bar Chart\", color=\"black\")\n",
    "ax2.set_ylabel(\"Total Revenue (USD) - Line Chart\", color=\"black\")\n",
    "\n",
    "ax1.set_title(\"Monthly Revenue Comparison: Product P442990 vs. REN Clean Skincare (2020-2023)\")\n",
    "ax1.set_xticks(monthly_revenue_comparison[\"month\"])\n",
    "ax1.set_xticklabels(monthly_revenue_comparison[\"month\"].dt.strftime('%b-%Y'), rotation=45)\n",
    "\n",
    "ax1.legend(loc=\"upper left\")\n",
    "ax2.legend(loc=\"upper right\")\n",
    "\n",
    "plt.show()"
   ]
  },
  {
   "cell_type": "code",
   "execution_count": 79,
   "metadata": {},
   "outputs": [
    {
     "name": "stdout",
     "output_type": "stream",
     "text": [
      "+----------+--------------------+-------------------+--------------+\n",
      "|product_id|        product_name|         brand_name|purchase_count|\n",
      "+----------+--------------------+-------------------+--------------+\n",
      "|   P420652|Lip Sleeping Mask...|            LANEIGE|            23|\n",
      "|   P417238|Green Clean Makeu...|            Farmacy|            16|\n",
      "|   P450271|Green Clean Makeu...|            Farmacy|            16|\n",
      "|   P470255|Mini Unseen Sunsc...|         Supergoop!|            13|\n",
      "|   P454380|Unseen Sunscreen ...|         Supergoop!|            13|\n",
      "|   P427417|Niacinamide 10% +...|       The Ordinary|            13|\n",
      "|   P427421|Protini Polypepti...|     Drunk Elephant|            12|\n",
      "|   P428095|Ready Steady Glow...| REN Clean Skincare|            12|\n",
      "|   P465368|Mini Ready Steady...| REN Clean Skincare|            12|\n",
      "|   P419221|Umbra Tinte Physi...|     Drunk Elephant|            12|\n",
      "|   P456398|Ultimate Sun Prot...|           Shiseido|            11|\n",
      "|   P394639|The True Cream Aq...|              belif|            11|\n",
      "|   P427419|Hyaluronic Acid 2...|       The Ordinary|            11|\n",
      "|   P429952|        Jet Lag Mask|     Summer Fridays|            11|\n",
      "|   P480630|   Mini Jet Lag Mask|     Summer Fridays|            11|\n",
      "|   P411387|Superfood Antioxi...|Youth To The People|            10|\n",
      "|   P441644|Mini Superfood An...|Youth To The People|            10|\n",
      "|   P442563|AHA 30% + BHA 2% ...|       The Ordinary|            10|\n",
      "|   P418218|The Water Cream O...|             Tatcha|             9|\n",
      "|   P454794|Mini The Water Cream|             Tatcha|             9|\n",
      "+----------+--------------------+-------------------+--------------+\n",
      "only showing top 20 rows\n",
      "\n"
     ]
    }
   ],
   "source": [
    "# Complementary product_id and brand_name bought by same author_id that bought Product P442990\n",
    "\n",
    "complementary_products = spark.sql(\"\"\"\n",
    "WITH target_customers AS (\n",
    "    SELECT DISTINCT author_id\n",
    "    FROM total_reviews_df\n",
    "    WHERE product_id = 'P442990'\n",
    "),\n",
    "complementary_purchases AS (\n",
    "    SELECT DISTINCT tr.author_id, tr.product_id, tr.product_name, tr.brand_name\n",
    "    FROM total_reviews_df tr\n",
    "    JOIN target_customers tc ON tr.author_id = tc.author_id\n",
    "    WHERE tr.product_id != 'P442990'\n",
    ")\n",
    "SELECT \n",
    "    product_id, \n",
    "    product_name,\n",
    "    brand_name, \n",
    "    COUNT(*) AS purchase_count\n",
    "FROM complementary_purchases\n",
    "GROUP BY product_id, product_name, brand_name\n",
    "ORDER BY purchase_count DESC;\n",
    "\"\"\")\n",
    "\n",
    "complementary_products.createOrReplaceTempView(\"complementary_products\")\n",
    "complementary_products.show()"
   ]
  },
  {
   "cell_type": "code",
   "execution_count": 12,
   "metadata": {},
   "outputs": [
    {
     "name": "stdout",
     "output_type": "stream",
     "text": [
      "+---------------------------------------------------------------------------------------------------------------------------------------------------------------------------------------------------------------------------------------------------------------------------------------------------------------------------------------------------------------------------------------------------------------------------------------------------------------------------------------------------------------------------------------------------------------------------------------------------------------------------------------------------------------------------------------------------------------------------------------------------------------------------------------------------------------------------------------------------------------------------------------------------------------------------------------------------------------------------------------------------------------------------------+\n",
      "|ingredients                                                                                                                                                                                                                                                                                                                                                                                                                                                                                                                                                                                                                                                                                                                                                                                                                                                                                                                                                                                                                      |\n",
      "+---------------------------------------------------------------------------------------------------------------------------------------------------------------------------------------------------------------------------------------------------------------------------------------------------------------------------------------------------------------------------------------------------------------------------------------------------------------------------------------------------------------------------------------------------------------------------------------------------------------------------------------------------------------------------------------------------------------------------------------------------------------------------------------------------------------------------------------------------------------------------------------------------------------------------------------------------------------------------------------------------------------------------------+\n",
      "|['Aqua (Water), Zinc Oxide, Caprylic/Capric Triglyceride, Aloe Barbadensis Leaf Juice, Glycerin, Caprylyl Caprylate/Caprate, Propanediol, Arachidyl Alcohol, Cetearyl Alcohol, Coco-Glucoside, Oryza Sativa Starch, Pongamia Glabra Seed Oil, Microcrystalline Cellulose, Behenyl Alcohol, Phenoxyethanol, Arachidyl Glucoside, Isostearic Acid, Lecithin, Polyglyceryl-3 Polyricinoleate, Polyhydroxystearic Acid, Passiflora Edulis Fruit Extract, Ethylhexylglycerin, Glyceryl Oleate, Vaccinium Macrocarpon (Cranberry) Seed Oil, Xanthan Gum, Cellulose Gum, Sodium Chloride, Hippophae Rhamnoides Oil, Citrus Nobilis (Mandarin Orange) Peel Oil, Anthemis Nobilis Flower Oil, Cinnamomum Camphora Linalloliferum (Ho Wood) Leaf Oil, Pelargonium Graveolens Flower Oil, Glucose, Parfum* (Fragrance), Helianthus Annuus (Sunflower) Seed Oil, Tocopherol, Rosmarinus Officinalis (Rosmary) Leaf Extract, Hydrogenated Palm Glycerides Citrate, Citric Acid, Sodium Hydroxide, Citronellol, Geraniol, Limonene, Linalool.']|\n",
      "+---------------------------------------------------------------------------------------------------------------------------------------------------------------------------------------------------------------------------------------------------------------------------------------------------------------------------------------------------------------------------------------------------------------------------------------------------------------------------------------------------------------------------------------------------------------------------------------------------------------------------------------------------------------------------------------------------------------------------------------------------------------------------------------------------------------------------------------------------------------------------------------------------------------------------------------------------------------------------------------------------------------------------------+\n",
      "\n"
     ]
    }
   ],
   "source": [
    "# List ingredients from Product P442990\n",
    "\n",
    "ingredients = spark.sql(\"\"\"\n",
    "SELECT \n",
    "    ingredients\n",
    "FROM product_df\n",
    "WHERE product_id = 'P442990';\n",
    "\"\"\")\n",
    "\n",
    "ingredients.show(truncate=False)"
   ]
  },
  {
   "cell_type": "markdown",
   "metadata": {},
   "source": [
    "### **Product P442990 Key Ingredients and Their Effects in Cold Months (January-April)**  \n",
    "\n",
    "1. **Aqua (Water)** – The primary solvent in the formulation, providing a base for other ingredients to dissolve and ensuring hydration.  \n",
    "\n",
    "2. **Zinc Oxide** – A mineral UV filter with anti-inflammatory properties, helping to protect and soothe winter-stressed skin while offering sun protection against winter sun exposure.  \n",
    "\n",
    "3. **Caprylic/Capric Triglyceride** – Derived from coconut oil, this lightweight emollient forms a protective layer on the skin, preventing moisture loss in cold and dry weather.  \n",
    "\n",
    "4. **Aloe Barbadensis (Aloe Vera) Leaf Juice** – A natural hydrator that soothes irritation, reduces redness, and provides deep moisture, beneficial for winter-induced dryness.  \n",
    "\n",
    "5. **Glycerin** – A powerful humectant that pulls moisture into the skin, helping to prevent dehydration caused by cold air and indoor heating.  \n",
    "\n",
    "6. **Caprylyl Caprylate/Caprate** – A skin-conditioning agent that improves moisture retention and smoothens the skin’s surface.  \n",
    "\n",
    "7. **Propanediol** – A humectant that enhances hydration and increases the penetration of other beneficial ingredients.  \n",
    "\n",
    "8. **Arachidyl Alcohol** – A fatty alcohol that acts as an emollient, providing a rich and creamy texture to formulations and helping maintain skin hydration.  \n",
    "\n",
    "9. **Cetearyl Alcohol** – A non-drying fatty alcohol that stabilizes emulsions and provides skin-softening benefits, essential in combating winter roughness.  \n",
    "\n",
    "10. **Coco-Glucoside** – A mild surfactant derived from coconut, offering gentle cleansing without stripping the skin’s natural moisture.  \n",
    "\n",
    "11. **Oryza Sativa (Rice) Starch** – Absorbs excess oil while providing a soft, velvety texture to the skin, ensuring comfort in winter formulations.  \n",
    "\n",
    "12. **Pongamia Glabra (Karanja) Seed Oil** – Known for its UV-protective and antibacterial properties, it helps defend the skin against environmental stressors in cold months.  \n",
    "\n",
    "13. **Microcrystalline Cellulose** – Acts as a texture enhancer, providing a smooth feel while absorbing excess oil.  \n",
    "\n",
    "14. **Behenyl Alcohol** – A fatty alcohol that adds conditioning properties, keeping the skin soft and hydrated in cold weather.  \n",
    "\n",
    "15. **Phenoxyethanol** – A preservative that prevents microbial growth, ensuring the product’s stability across different temperatures.  \n",
    "\n",
    "16. **Arachidyl Glucoside** – Works as an emulsifier to maintain product consistency and stability during seasonal changes.  \n",
    "\n",
    "17. **Isostearic Acid** – Helps emulsify and stabilize formulations while enhancing the spreadability of products.  \n",
    "\n",
    "18. **Lecithin** – A phospholipid that supports moisture retention, reinforcing the skin barrier against winter dryness.  \n",
    "\n",
    "19. **Polyglyceryl-3 Polyricinoleate** – A plant-derived emulsifier that enhances the stability of water and oil components.  \n",
    "\n",
    "20. **Polyhydroxystearic Acid** – Works as a dispersing agent for mineral ingredients like Zinc Oxide, ensuring even application and protection against winter sun damage.  \n",
    "\n",
    "21. **Passiflora Edulis (Passionfruit) Fruit Extract** – Rich in antioxidants, it helps protect against free radicals while providing nourishment for winter-exposed skin.  \n",
    "\n",
    "22. **Ethylhexylglycerin** – A skin-conditioning agent that enhances hydration while boosting the effectiveness of preservatives.  \n",
    "\n",
    "23. **Glyceryl Oleate** – An emulsifier that helps restore the skin’s natural lipids, preventing winter dryness.  \n",
    "\n",
    "24. **Vaccinium Macrocarpon (Cranberry) Seed Oil** – High in antioxidants and omega fatty acids, it strengthens the skin’s barrier and protects against harsh winter elements.  \n",
    "\n",
    "25. **Xanthan Gum** – A thickening agent that improves product texture and moisture retention.  \n",
    "\n",
    "26. **Cellulose Gum** – Provides texture enhancement and hydration benefits.  \n",
    "\n",
    "27. **Sodium Chloride** – Acts as a stabilizer, maintaining the product’s consistency across different temperatures.  \n",
    "\n",
    "28. **Hippophae Rhamnoides (Sea Buckthorn) Oil** – Rich in essential fatty acids and vitamins, it supports skin regeneration and combats winter-induced irritation.  \n",
    "\n",
    "29. **Citrus Nobilis (Mandarin Orange) Peel Oil** – Offers antioxidant benefits while providing a refreshing natural fragrance.  \n",
    "\n",
    "30. **Anthemis Nobilis (Chamomile) Flower Oil** – Known for its anti-inflammatory and soothing effects, it helps calm winter skin sensitivity.  \n",
    "\n",
    "31. **Cinnamomum Camphora Linalloliferum (Ho Wood) Leaf Oil** – Provides antibacterial properties while maintaining hydration.  \n",
    "\n",
    "32. **Pelargonium Graveolens (Geranium) Flower Oil** – A balancing essential oil that soothes irritation and promotes hydration.  \n",
    "\n",
    "33. **Glucose** – A humectant that enhances skin hydration by attracting moisture, ideal for combating winter dryness.  \n",
    "\n",
    "34. **Parfum (Fragrance)** – Adds a pleasant scent, though some components may cause sensitivity in dry winter conditions.  \n",
    "\n",
    "35. **Helianthus Annuus (Sunflower) Seed Oil** – A rich source of linoleic acid that reinforces the skin barrier, helping prevent moisture loss in cold weather.  \n",
    "\n",
    "36. **Tocopherol (Vitamin E)** – A powerful antioxidant that protects against free radicals while nourishing and repairing dry, winter-stressed skin.  \n",
    "\n",
    "37. **Rosmarinus Officinalis (Rosemary) Leaf Extract** – Has natural antioxidant and antimicrobial properties, promoting skin protection.  \n",
    "\n",
    "38. **Hydrogenated Palm Glycerides Citrate** – A conditioning agent that enhances skin softness and moisture retention.  \n",
    "\n",
    "39. **Citric Acid** – Helps balance pH levels and provides mild exfoliation, promoting a healthy skin barrier.  \n",
    "\n",
    "40. **Sodium Hydroxide** – A pH adjuster that ensures the product remains gentle on the skin.  \n",
    "\n",
    "41. **Citronellol, Geraniol, Limonene, Linalool** – Naturally occurring fragrance components with antioxidant properties but may cause sensitivity in dry winter skin.  \n",
    "\n",
    "### **Effects in Cold Months**  \n",
    "- **Hydration & Moisture Retention**: Ingredients like Glycerin, Aloe Vera, Caprylic/Capric Triglyceride, and Sunflower Seed Oil help maintain hydration.  \n",
    "- **Barrier Protection & Repair**: Cranberry Seed Oil, Sea Buckthorn Oil, and Vitamin E support the skin barrier against winter-induced irritation.  \n",
    "- **Anti-Inflammatory & Soothing Properties**: Chamomile Oil, Geranium Oil, and Aloe Vera reduce redness and irritation caused by cold weather.  \n",
    "- **Antioxidant Defense**: Zinc Oxide, Passionfruit Extract, and Rosemary Leaf Extract help protect against environmental stressors.  \n",
    "- **Potential Sensitivity**: Fragrance compounds like Citronellol, Limonene, and Geraniol may cause irritation in very dry or sensitive skin.  \n",
    "\n",
    "### **Best Uses for Cold Months**  \n",
    "- **Hydrating Creams & Moisturizers**: To maintain moisture levels and prevent dryness.  \n",
    "- **Barrier-Repairing Oils & Serums**: Cranberry Seed Oil, Sea Buckthorn Oil, and Vitamin E help strengthen the skin.  \n",
    "- **Soothing Treatments & Masks**: Aloe Vera, Chamomile, and Geranium Oil calm winter-related redness and irritation.  \n",
    "- **Avoiding Harsh Exfoliation**: The skin is more vulnerable in cold months, so gentle care is necessary.  "
   ]
  },
  {
   "cell_type": "markdown",
   "metadata": {},
   "source": [
    "### **Estimated Standard Concentrations**\n",
    "\n",
    "#### **Base of the Formula**  \n",
    "- **Aqua (Water)** – 50-80%  \n",
    "\n",
    "#### **Active Ingredients**  \n",
    "- **Zinc Oxide** – 5-25% (Used in sunscreens)  \n",
    "\n",
    "#### **Emollients & Moisturizers**  \n",
    "- **Caprylic/Capric Triglyceride** – 2-10%  \n",
    "- **Caprylyl Caprylate/Caprate** – 1-3%  \n",
    "- **Cetearyl Alcohol** – 2-5%  \n",
    "- **Behenyl Alcohol** – 1-5%  \n",
    "- **Glyceryl Oleate** – 0.5-2%  \n",
    "- **Helianthus Annuus (Sunflower) Seed Oil** – 0.5-2%  \n",
    "- **Hydrogenated Palm Glycerides Citrate** – 0.1-1%  \n",
    "\n",
    "#### **Soothing & Hydrating Agents**  \n",
    "- **Aloe Barbadensis Leaf Juice** – 1-5%  \n",
    "- **Glycerin** – 2-10%  \n",
    "- **Anthemis Nobilis (Chamomile) Flower Oil** – 0.1-1%  \n",
    "\n",
    "#### **Emulsifiers & Stabilizers**  \n",
    "- **Arachidyl Alcohol** – 0.5-3%  \n",
    "- **Arachidyl Glucoside** – 0.5-2%  \n",
    "- **Isostearic Acid** – 0.5-3%  \n",
    "- **Lecithin** – 0.1-2%  \n",
    "- **Polyglyceryl-3 Polyricinoleate** – 0.5-2%  \n",
    "- **Polyhydroxystearic Acid** – 0.5-3%  \n",
    "\n",
    "#### **Surfactants & Texture Enhancers**  \n",
    "- **Coco-Glucoside** – 0.5-2%  \n",
    "- **Microcrystalline Cellulose** – 0.5-3%  \n",
    "- **Oryza Sativa Starch (Rice Starch)** – 0.5-2%  \n",
    "\n",
    "#### **Antioxidants & UV Protection**  \n",
    "- **Pongamia Glabra Seed Oil** – 1-3%  \n",
    "- **Passiflora Edulis Fruit Extract** – 0.1-2%  \n",
    "- **Vaccinium Macrocarpon (Cranberry) Seed Oil** – 0.1-1%  \n",
    "- **Hippophae Rhamnoides (Sea Buckthorn) Oil** – 0.1-1%  \n",
    "- **Tocopherol (Vitamin E)** – 0.1-1%  \n",
    "- **Rosmarinus Officinalis (Rosemary) Leaf Extract** – 0.1-1%  \n",
    "\n",
    "#### **Humectants & Solvents**  \n",
    "- **Propanediol** – 1-5%  \n",
    "- **Glucose** – 0.1-1%  \n",
    "\n",
    "#### **Thickeners & Viscosity Adjusters**  \n",
    "- **Xanthan Gum** – 0.1-1%  \n",
    "- **Cellulose Gum** – 0.1-1%  \n",
    "- **Sodium Chloride** – 0.1-2%  \n",
    "\n",
    "#### **pH Adjusters**  \n",
    "- **Citric Acid** – 0.1-1%  \n",
    "- **Sodium Hydroxide** – 0.1-1%  \n",
    "\n",
    "#### **Preservatives & Preservative Boosters**  \n",
    "- **Phenoxyethanol** – 0.5-1%  \n",
    "- **Ethylhexylglycerin** – 0.3-1%  \n",
    "\n",
    "#### **Fragrances & Essential Oils**  \n",
    "- **Citrus Nobilis (Mandarin Orange) Peel Oil** – 0.1-1%  \n",
    "- **Cinnamomum Camphora Linalloliferum (Ho Wood) Leaf Oil** – 0.1-1%  \n",
    "- **Pelargonium Graveolens Flower Oil** – 0.1-1%  \n",
    "- **Parfum (Fragrance)** – 0.1-1%  \n",
    "- **Citronellol, Geraniol, Limonene, Linalool** – 0.01-0.5% (Fragrance components)  "
   ]
  },
  {
   "cell_type": "code",
   "execution_count": 77,
   "metadata": {},
   "outputs": [
    {
     "name": "stdout",
     "output_type": "stream",
     "text": [
      "+----------+--------------------------------------------------------+----------+-----------------------------------+--------+--------+\n",
      "|product_id|product_name                                            |brand_name|size                               |oz_value|mL_value|\n",
      "+----------+--------------------------------------------------------+----------+-----------------------------------+--------+--------+\n",
      "|P473668   |La Habana Eau de Parfum                                 |19-69     |3.4 oz/ 100 mL                     |3.4     |100     |\n",
      "|P473662   |Rainbow Bar Eau de Parfum                               |19-69     |3.4 oz/ 100 mL                     |3.4     |100     |\n",
      "|P473660   |Kasbah Eau de Parfum                                    |19-69     |3.4 oz/ 100 mL                     |3.4     |100     |\n",
      "|P473658   |Purple Haze Eau de Parfum                               |19-69     |3.4 oz/ 100 mL                     |3.4     |100     |\n",
      "|P473661   |Kasbah Eau de Parfum Travel Spray                       |19-69     |0.25 oz/ 7.5 mL                    |0.25    |7.5     |\n",
      "|P473659   |Purple Haze Eau de Parfum Travel Spray                  |19-69     |0.25 oz/ 7.5 mL                    |0.25    |7.5     |\n",
      "|P473666   |Invisible Post Eau de Parfum                            |19-69     |3.4 oz/ 100 mL                     |3.4     |100     |\n",
      "|P472300   |Capri Eau de Parfum                                     |19-69     |3.4 oz/ 100 mL                     |3.4     |100     |\n",
      "|P473667   |Invisible Post Eau de Parfum Travel Spray               |19-69     |0.25 oz/ 7.5 mL                    |0.25    |7.5     |\n",
      "|P473663   |Rainbow Bar Eau de Parfum Travel Spray                  |19-69     |0.25 oz/ 7.5 mL                    |0.25    |7.5     |\n",
      "|P473670   |Capri Eau de Parfum Travel Spray                        |19-69     |0.25 oz/ 7.5 mL                    |0.25    |7.5     |\n",
      "|P473664   |L'air Barbes Eau de Parfum                              |19-69     |3.4 oz/ 100 mL                     |3.4     |100     |\n",
      "|P473665   |L'air Barbes Eau de Parfum Travel Spray                 |19-69     |0.25 oz/ 7.5 mL                    |0.25    |7.5     |\n",
      "|P476416   |AFRICAN Beauty Butter- Intensive Dry Skin Treatment     |54 Thrones|6 oz / 180 mL                      |6       |180     |\n",
      "|P503832   |Mini AFRICAN Beauty Butter- Intensive Dry Skin Treatment|54 Thrones|1 oz / 30 mL                       |1       |30      |\n",
      "|P483139   |The Cape Perfume                                        |ABBOTT    |1.7 oz / 50 mL                     |1.7     |50      |\n",
      "|P483080   |Crescent Beach Perfume Travel Spray                     |ABBOTT    |0.33 oz / 10 mL eau de parfum spray|0.33    |10      |\n",
      "|P483079   |Crescent Beach Perfume                                  |ABBOTT    |1.7 oz / 50 mL                     |1.7     |50      |\n",
      "|P483131   |Seqouia Eau de Parfum Travel Spray                      |ABBOTT    |0.34 oz / 10 mL eau de parfum spray|0.34    |10      |\n",
      "|P483130   |Sequoia Perfume                                         |ABBOTT    |1.7 oz / 50 mL                     |1.7     |50      |\n",
      "+----------+--------------------------------------------------------+----------+-----------------------------------+--------+--------+\n",
      "only showing top 20 rows\n",
      "\n"
     ]
    }
   ],
   "source": [
    "# Separating oz and mL values\n",
    "\n",
    "separated_sizes = spark.sql('''\n",
    "SELECT \n",
    "    product_id,\n",
    "    product_name,\n",
    "    brand_name,\n",
    "    size,\n",
    "    split(size, ' ')[0] AS oz_value,\n",
    "    CASE \n",
    "        WHEN split(size, ' ')[2] = 'mL' THEN split(size, ' ')[1]\n",
    "        WHEN split(size, ' ')[3] = 'mL' THEN split(size, ' ')[2]\n",
    "        WHEN split(size, ' ')[4] = 'mL' THEN split(size, ' ')[3]\n",
    "        WHEN split(size, ' ')[5] = 'mL' THEN split(size, ' ')[4]\n",
    "        WHEN split(size, ' ')[6] = 'mL' THEN split(size, ' ')[5]\n",
    "    END AS mL_value\n",
    "FROM product_df\n",
    "WHERE size RLIKE '(oz|mL)';\n",
    "''')\n",
    "separated_sizes.createOrReplaceTempView(\"separated_sizes\")\n",
    "separated_sizes.show(truncate=False)\n"
   ]
  },
  {
   "cell_type": "code",
   "execution_count": 113,
   "metadata": {},
   "outputs": [
    {
     "name": "stdout",
     "output_type": "stream",
     "text": [
      "+--------------------+------------------------+\n",
      "|          ingredient|standard_conc_percentage|\n",
      "+--------------------+------------------------+\n",
      "|        Aqua (Water)|                 0.65000|\n",
      "|          Zinc Oxide|                 0.15000|\n",
      "|Caprylic/Capric T...|                 0.06000|\n",
      "|Aloe Barbadensis ...|                 0.03000|\n",
      "|            Glycerin|                 0.06000|\n",
      "|Caprylyl Caprylat...|                 0.02000|\n",
      "|         Propanediol|                 0.03000|\n",
      "|   Arachidyl Alcohol|                 0.01750|\n",
      "|    Cetearyl Alcohol|                 0.03500|\n",
      "|      Coco-Glucoside|                 0.01500|\n",
      "+--------------------+------------------------+\n",
      "only showing top 10 rows\n",
      "\n"
     ]
    }
   ],
   "source": [
    "# Calculate concentration (size * standard_conc_percentage) of each ingredient in Product P442990\n",
    "\n",
    "ingredient_concentrations = spark.sql(\"\"\"\n",
    "    SELECT * FROM VALUES\n",
    "        ('Aqua (Water)', 0.65),\n",
    "        ('Zinc Oxide', 0.15),\n",
    "        ('Caprylic/Capric Triglyceride', 0.06),\n",
    "        ('Aloe Barbadensis Leaf Juice', 0.03),\n",
    "        ('Glycerin', 0.06),\n",
    "        ('Caprylyl Caprylate/Caprate', 0.02),\n",
    "        ('Propanediol', 0.03),\n",
    "        ('Arachidyl Alcohol', 0.0175),\n",
    "        ('Cetearyl Alcohol', 0.035),\n",
    "        ('Coco-Glucoside', 0.015),\n",
    "        ('Oryza Sativa Starch', 0.015),\n",
    "        ('Pongamia Glabra Seed Oil', 0.02),\n",
    "        ('Microcrystalline Cellulose', 0.0175),\n",
    "        ('Behenyl Alcohol', 0.03),\n",
    "        ('Phenoxyethanol', 0.0075),\n",
    "        ('Arachidyl Glucoside', 0.0125),\n",
    "        ('Isostearic Acid', 0.0175),\n",
    "        ('Lecithin', 0.0105),\n",
    "        ('Polyglyceryl-3 Polyricinoleate', 0.0125),\n",
    "        ('Polyhydroxystearic Acid', 0.0175),\n",
    "        ('Passiflora Edulis Fruit Extract', 0.0105),\n",
    "        ('Ethylhexylglycerin', 0.0065),\n",
    "        ('Glyceryl Oleate', 0.0125),\n",
    "        ('Vaccinium Macrocarpon (Cranberry) Seed Oil', 0.0055),\n",
    "        ('Xanthan Gum', 0.0055),\n",
    "        ('Cellulose Gum', 0.0055),\n",
    "        ('Sodium Chloride', 0.0105),\n",
    "        ('Hippophae Rhamnoides Oil', 0.0055),\n",
    "        ('Citrus Nobilis (Mandarin Orange) Peel Oil', 0.0055),\n",
    "        ('Anthemis Nobilis Flower Oil', 0.0055),\n",
    "        ('Cinnamomum Camphora Linalloliferum (Ho Wood) Leaf Oil', 0.0055),\n",
    "        ('Pelargonium Graveolens Flower Oil', 0.0055),\n",
    "        ('Glucose', 0.0055),\n",
    "        ('Parfum* (Fragrance)', 0.0055),\n",
    "        ('Helianthus Annuus (Sunflower) Seed Oil', 0.0125),\n",
    "        ('Tocopherol', 0.0055),\n",
    "        ('Rosmarinus Officinalis (Rosmary) Leaf Extract', 0.0055),\n",
    "        ('Hydrogenated Palm Glycerides Citrate', 0.0055),\n",
    "        ('Citric Acid', 0.0055),\n",
    "        ('Sodium Hydroxide', 0.0055),\n",
    "        ('Citronellol', 0.00255),\n",
    "        ('Geraniol', 0.00255),\n",
    "        ('Limonene', 0.00255),\n",
    "        ('Linalool', 0.00255)\n",
    "    AS ingredient(ingredient, standard_conc_percentage)\n",
    "\"\"\")\n",
    "ingredient_concentrations.createOrReplaceTempView(\"ingredient_concentrations\")\n",
    "ingredient_concentrations.show(10)"
   ]
  },
  {
   "cell_type": "code",
   "execution_count": 114,
   "metadata": {},
   "outputs": [
    {
     "name": "stdout",
     "output_type": "stream",
     "text": [
      "+----------+--------------------+----------+-------+-------+\n",
      "|product_id|        product_name|brand_name|size_oz|size_mL|\n",
      "+----------+--------------------+----------+-------+-------+\n",
      "|   P473668|La Habana Eau de ...|     19-69|    3.4|    100|\n",
      "|   P473662|Rainbow Bar Eau d...|     19-69|    3.4|    100|\n",
      "|   P473660|Kasbah Eau de Parfum|     19-69|    3.4|    100|\n",
      "|   P473658|Purple Haze Eau d...|     19-69|    3.4|    100|\n",
      "|   P473661|Kasbah Eau de Par...|     19-69|   0.25|    7.5|\n",
      "+----------+--------------------+----------+-------+-------+\n",
      "only showing top 5 rows\n",
      "\n"
     ]
    }
   ],
   "source": [
    "size_converted = spark.sql(\"\"\"\n",
    "    SELECT product_id, product_name, brand_name, oz_value AS size_oz, mL_value AS size_mL\n",
    "    FROM separated_sizes\n",
    "\"\"\")\n",
    "size_converted.createOrReplaceTempView(\"size_converted\")\n",
    "size_converted.show(5)"
   ]
  },
  {
   "cell_type": "code",
   "execution_count": 115,
   "metadata": {},
   "outputs": [
    {
     "name": "stdout",
     "output_type": "stream",
     "text": [
      "+----------+--------------------+-------+-------+\n",
      "|product_id|          ingredient|size_oz|size_mL|\n",
      "+----------+--------------------+-------+-------+\n",
      "|   P473668|         Linalool.']|    3.4|    100|\n",
      "|   P473668|Alpha-Isomethyl I...|    3.4|    100|\n",
      "|   P473668|             Eugenol|    3.4|    100|\n",
      "|   P473668|   Coumarin Limonene|    3.4|    100|\n",
      "|   P473668|              Citral|    3.4|    100|\n",
      "+----------+--------------------+-------+-------+\n",
      "only showing top 5 rows\n",
      "\n"
     ]
    }
   ],
   "source": [
    "product_ingredients = spark.sql(\"\"\"\n",
    "    SELECT \n",
    "        p.product_id,\n",
    "        TRIM(p.ingredient) AS ingredient,\n",
    "        s.size_oz,\n",
    "        s.size_mL\n",
    "    FROM (\n",
    "        SELECT \n",
    "            product_id, \n",
    "            EXPLODE(SPLIT(ingredients, ', ')) AS ingredient\n",
    "        FROM product_df\n",
    "    ) p\n",
    "    JOIN size_converted s ON p.product_id = s.product_id\n",
    "\"\"\")\n",
    "product_ingredients.createOrReplaceTempView(\"product_ingredients\")\n",
    "product_ingredients.show(5)"
   ]
  },
  {
   "cell_type": "code",
   "execution_count": 116,
   "metadata": {},
   "outputs": [
    {
     "name": "stdout",
     "output_type": "stream",
     "text": [
      "+----------+-------------------+\n",
      "|product_id|total_concentration|\n",
      "+----------+-------------------+\n",
      "|   P455325|            0.04185|\n",
      "|   P505023|0.36749999999999994|\n",
      "|   P474304| 0.6628179999999999|\n",
      "|   P471226|             0.1328|\n",
      "|   P126301|0.24889999999999998|\n",
      "|   P500098|             0.6175|\n",
      "|     P4489| 2.2633799999999997|\n",
      "|   P427731|0.07300000000000001|\n",
      "|   P464238|            0.35445|\n",
      "|   P503693|0.12336999999999998|\n",
      "+----------+-------------------+\n",
      "only showing top 10 rows\n",
      "\n"
     ]
    }
   ],
   "source": [
    "matching_products_conc = spark.sql(\"\"\"\n",
    "    SELECT \n",
    "        pi.product_id,\n",
    "        SUM(COALESCE(ic.standard_conc_percentage, 0) * pi.size_oz) AS total_concentration\n",
    "    FROM product_ingredients pi\n",
    "    LEFT JOIN ingredient_concentrations ic\n",
    "    ON TRIM(pi.ingredient) = TRIM(ic.ingredient)\n",
    "    GROUP BY pi.product_id\n",
    "\"\"\")\n",
    "\n",
    "matching_products_conc.createOrReplaceTempView(\"matching_products_conc\")\n",
    "matching_products_conc.show(10)"
   ]
  },
  {
   "cell_type": "code",
   "execution_count": 117,
   "metadata": {},
   "outputs": [
    {
     "name": "stdout",
     "output_type": "stream",
     "text": [
      "+-----------------+-----------------+\n",
      "|min_concentration|max_concentration|\n",
      "+-----------------+-----------------+\n",
      "|              0.0|             39.2|\n",
      "+-----------------+-----------------+\n",
      "\n"
     ]
    }
   ],
   "source": [
    "min_max_matching_conc = spark.sql(\"\"\"\n",
    "    SELECT \n",
    "        MIN(total_concentration) AS min_concentration,\n",
    "        MAX(total_concentration) AS max_concentration\n",
    "    FROM matching_products_conc\n",
    "\"\"\")\n",
    "\n",
    "min_max_matching_conc.show()"
   ]
  },
  {
   "cell_type": "code",
   "execution_count": 120,
   "metadata": {},
   "outputs": [
    {
     "name": "stdout",
     "output_type": "stream",
     "text": [
      "+--------------------+\n",
      "|median_concentration|\n",
      "+--------------------+\n",
      "|               0.075|\n",
      "+--------------------+\n",
      "\n"
     ]
    }
   ],
   "source": [
    "median_matching_conc = spark.sql(\"\"\"\n",
    "    SELECT \n",
    "        PERCENTILE_APPROX(total_concentration, 0.5) AS median_concentration\n",
    "    FROM matching_products_conc\n",
    "\"\"\")\n",
    "\n",
    "median_matching_conc.show()"
   ]
  },
  {
   "cell_type": "code",
   "execution_count": 143,
   "metadata": {},
   "outputs": [
    {
     "name": "stdout",
     "output_type": "stream",
     "text": [
      "+----------+-------------------+------+-----------+--------------------+----------+---------------+------+\n",
      "|product_id|total_concentration|target|  author_id|        product_name|brand_name|submission_time|rating|\n",
      "+----------+-------------------+------+-----------+--------------------+----------+---------------+------+\n",
      "|   P126301|0.24889999999999998|     1| 5798933243|Take The Day Off ...|  CLINIQUE|     2023-03-20|     5|\n",
      "|   P126301|0.24889999999999998|     1|25526458589|Take The Day Off ...|  CLINIQUE|     2023-03-10|     5|\n",
      "|   P126301|0.24889999999999998|     1|12958904843|Take The Day Off ...|  CLINIQUE|     2023-02-26|     1|\n",
      "|   P126301|0.24889999999999998|     1| 1316510353|Take The Day Off ...|  CLINIQUE|     2023-02-26|     4|\n",
      "|   P126301|0.24889999999999998|     1| 8389515459|Take The Day Off ...|  CLINIQUE|     2023-02-26|     5|\n",
      "|   P126301|0.24889999999999998|     1| 2427406909|Take The Day Off ...|  CLINIQUE|     2023-02-25|     5|\n",
      "|   P126301|0.24889999999999998|     1| 7604128862|Take The Day Off ...|  CLINIQUE|     2023-02-24|     5|\n",
      "|   P126301|0.24889999999999998|     1|39687587740|Take The Day Off ...|  CLINIQUE|     2023-02-23|     5|\n",
      "|   P126301|0.24889999999999998|     1|22303444455|Take The Day Off ...|  CLINIQUE|     2023-02-22|     5|\n",
      "|   P126301|0.24889999999999998|     1| 5473210775|Take The Day Off ...|  CLINIQUE|     2023-02-17|     5|\n",
      "+----------+-------------------+------+-----------+--------------------+----------+---------------+------+\n",
      "only showing top 10 rows\n",
      "\n"
     ]
    }
   ],
   "source": [
    "# Target definition: 0 being product_id below median matched concentration (<= 0.075), and 1 being product_id above matched concentration(> 0.075)\n",
    "\n",
    "target_definition = spark.sql(\"\"\"\n",
    "    SELECT \n",
    "        mpc.product_id,\n",
    "        mpc.total_concentration,\n",
    "        CASE \n",
    "            WHEN mpc.total_concentration <= 0.075 THEN 0\n",
    "            ELSE 1\n",
    "        END AS target,\n",
    "        tr.author_id,\n",
    "        tr.product_name,\n",
    "        tr.brand_name,\n",
    "        tr.submission_time,\n",
    "        tr.rating\n",
    "    FROM matching_products_conc mpc\n",
    "    LEFT JOIN total_reviews_df tr \n",
    "    ON mpc.product_id = tr.product_id\n",
    "\"\"\")\n",
    "\n",
    "target_definition.createOrReplaceTempView(\"target_definition\")\n",
    "target_definition.show(10)\n"
   ]
  },
  {
   "cell_type": "code",
   "execution_count": 144,
   "metadata": {},
   "outputs": [
    {
     "name": "stdout",
     "output_type": "stream",
     "text": [
      "+-------------------+\n",
      "|        correlation|\n",
      "+-------------------+\n",
      "|0.28259025116318814|\n",
      "+-------------------+\n",
      "\n"
     ]
    }
   ],
   "source": [
    "# Compute correlation matrix for total_concentration from matching_products_conc & target from target_definition\n",
    "correlation_matrix = spark.sql(\"\"\"\n",
    "    SELECT \n",
    "        corr(mpc.total_concentration, td.target) AS correlation\n",
    "    FROM matching_products_conc mpc\n",
    "    JOIN target_definition td \n",
    "    ON mpc.product_id = td.product_id\n",
    "\"\"\")\n",
    "correlation_matrix.show()"
   ]
  },
  {
   "cell_type": "markdown",
   "metadata": {},
   "source": [
    "**Model Design:**\n",
    "\n",
    " Using CatBoostClassifier (CatBoostAI’s GBDT framework), this model will classify and predict customers to target values of 0 or 1, with 1 being higher than median matching ingredient concentrations with P442990 and 0 being lower than median matching ingredient concentrations with P442990, and look into the likelihood of purchasing products with a higher than median matching ingredient concentration. The median temperature was taken as the boundary for high and low ingredient concentration match of P442990."
   ]
  },
  {
   "cell_type": "code",
   "execution_count": 146,
   "metadata": {},
   "outputs": [
    {
     "data": {
      "application/vnd.microsoft.datawrangler.viewer.v0+json": {
       "columns": [
        {
         "name": "index",
         "rawType": "int64",
         "type": "integer"
        },
        {
         "name": "product_id",
         "rawType": "object",
         "type": "string"
        },
        {
         "name": "total_concentration",
         "rawType": "float64",
         "type": "float"
        },
        {
         "name": "target",
         "rawType": "int32",
         "type": "integer"
        },
        {
         "name": "author_id",
         "rawType": "object",
         "type": "unknown"
        },
        {
         "name": "product_name",
         "rawType": "object",
         "type": "unknown"
        },
        {
         "name": "brand_name",
         "rawType": "object",
         "type": "unknown"
        },
        {
         "name": "submission_time",
         "rawType": "object",
         "type": "unknown"
        },
        {
         "name": "rating",
         "rawType": "object",
         "type": "unknown"
        }
       ],
       "conversionMethod": "pd.DataFrame",
       "ref": "9ce1cf58-efda-42bb-9151-ef9476b57046",
       "rows": [
        [
         "0",
         "P04546871",
         "0.0",
         "0",
         null,
         null,
         null,
         null,
         null
        ],
        [
         "1",
         "P05048798",
         "0.005180000000000001",
         "0",
         null,
         null,
         null,
         null,
         null
        ],
        [
         "2",
         "P122774",
         "0.03899999999999999",
         "0",
         "2485269199",
         "All About Eyes Eye Cream",
         "CLINIQUE",
         "2023-02-25",
         "1"
        ],
        [
         "3",
         "P122774",
         "0.03899999999999999",
         "0",
         "1324336586",
         "All About Eyes Eye Cream",
         "CLINIQUE",
         "2022-12-31",
         "3"
        ],
        [
         "4",
         "P122774",
         "0.03899999999999999",
         "0",
         "9418818951",
         "All About Eyes Eye Cream",
         "CLINIQUE",
         "2022-12-29",
         "1"
        ]
       ],
       "shape": {
        "columns": 8,
        "rows": 5
       }
      },
      "text/html": [
       "<div>\n",
       "<style scoped>\n",
       "    .dataframe tbody tr th:only-of-type {\n",
       "        vertical-align: middle;\n",
       "    }\n",
       "\n",
       "    .dataframe tbody tr th {\n",
       "        vertical-align: top;\n",
       "    }\n",
       "\n",
       "    .dataframe thead th {\n",
       "        text-align: right;\n",
       "    }\n",
       "</style>\n",
       "<table border=\"1\" class=\"dataframe\">\n",
       "  <thead>\n",
       "    <tr style=\"text-align: right;\">\n",
       "      <th></th>\n",
       "      <th>product_id</th>\n",
       "      <th>total_concentration</th>\n",
       "      <th>target</th>\n",
       "      <th>author_id</th>\n",
       "      <th>product_name</th>\n",
       "      <th>brand_name</th>\n",
       "      <th>submission_time</th>\n",
       "      <th>rating</th>\n",
       "    </tr>\n",
       "  </thead>\n",
       "  <tbody>\n",
       "    <tr>\n",
       "      <th>0</th>\n",
       "      <td>P04546871</td>\n",
       "      <td>0.00000</td>\n",
       "      <td>0</td>\n",
       "      <td>None</td>\n",
       "      <td>None</td>\n",
       "      <td>None</td>\n",
       "      <td>None</td>\n",
       "      <td>None</td>\n",
       "    </tr>\n",
       "    <tr>\n",
       "      <th>1</th>\n",
       "      <td>P05048798</td>\n",
       "      <td>0.00518</td>\n",
       "      <td>0</td>\n",
       "      <td>None</td>\n",
       "      <td>None</td>\n",
       "      <td>None</td>\n",
       "      <td>None</td>\n",
       "      <td>None</td>\n",
       "    </tr>\n",
       "    <tr>\n",
       "      <th>2</th>\n",
       "      <td>P122774</td>\n",
       "      <td>0.03900</td>\n",
       "      <td>0</td>\n",
       "      <td>2485269199</td>\n",
       "      <td>All About Eyes Eye Cream</td>\n",
       "      <td>CLINIQUE</td>\n",
       "      <td>2023-02-25</td>\n",
       "      <td>1</td>\n",
       "    </tr>\n",
       "    <tr>\n",
       "      <th>3</th>\n",
       "      <td>P122774</td>\n",
       "      <td>0.03900</td>\n",
       "      <td>0</td>\n",
       "      <td>1324336586</td>\n",
       "      <td>All About Eyes Eye Cream</td>\n",
       "      <td>CLINIQUE</td>\n",
       "      <td>2022-12-31</td>\n",
       "      <td>3</td>\n",
       "    </tr>\n",
       "    <tr>\n",
       "      <th>4</th>\n",
       "      <td>P122774</td>\n",
       "      <td>0.03900</td>\n",
       "      <td>0</td>\n",
       "      <td>9418818951</td>\n",
       "      <td>All About Eyes Eye Cream</td>\n",
       "      <td>CLINIQUE</td>\n",
       "      <td>2022-12-29</td>\n",
       "      <td>1</td>\n",
       "    </tr>\n",
       "  </tbody>\n",
       "</table>\n",
       "</div>"
      ],
      "text/plain": [
       "  product_id  total_concentration  target   author_id  \\\n",
       "0  P04546871              0.00000       0        None   \n",
       "1  P05048798              0.00518       0        None   \n",
       "2    P122774              0.03900       0  2485269199   \n",
       "3    P122774              0.03900       0  1324336586   \n",
       "4    P122774              0.03900       0  9418818951   \n",
       "\n",
       "               product_name brand_name submission_time rating  \n",
       "0                      None       None            None   None  \n",
       "1                      None       None            None   None  \n",
       "2  All About Eyes Eye Cream   CLINIQUE      2023-02-25      1  \n",
       "3  All About Eyes Eye Cream   CLINIQUE      2022-12-31      3  \n",
       "4  All About Eyes Eye Cream   CLINIQUE      2022-12-29      1  "
      ]
     },
     "execution_count": 146,
     "metadata": {},
     "output_type": "execute_result"
    }
   ],
   "source": [
    "# Target definition: 0 being product_id below median matched concentration (<= 0.075), and 1 being product_id above matched concentration(> 0.075)\n",
    "pdf_sabt = target_definition.toPandas()\n",
    "pdf_sabt.head()"
   ]
  },
  {
   "cell_type": "code",
   "execution_count": 147,
   "metadata": {},
   "outputs": [
    {
     "data": {
      "text/plain": [
       "Index(['product_id', 'total_concentration', 'target', 'author_id',\n",
       "       'product_name', 'brand_name', 'submission_time', 'rating'],\n",
       "      dtype='object')"
      ]
     },
     "execution_count": 147,
     "metadata": {},
     "output_type": "execute_result"
    }
   ],
   "source": [
    "# Check column names in data\n",
    "pdf_sabt.columns"
   ]
  },
  {
   "cell_type": "code",
   "execution_count": 148,
   "metadata": {},
   "outputs": [
    {
     "data": {
      "application/vnd.microsoft.datawrangler.viewer.v0+json": {
       "columns": [
        {
         "name": "index",
         "rawType": "object",
         "type": "string"
        },
        {
         "name": "count",
         "rawType": "float64",
         "type": "float"
        },
        {
         "name": "mean",
         "rawType": "float64",
         "type": "float"
        },
        {
         "name": "std",
         "rawType": "float64",
         "type": "float"
        },
        {
         "name": "min",
         "rawType": "float64",
         "type": "float"
        },
        {
         "name": "25%",
         "rawType": "float64",
         "type": "float"
        },
        {
         "name": "50%",
         "rawType": "float64",
         "type": "float"
        },
        {
         "name": "75%",
         "rawType": "float64",
         "type": "float"
        },
        {
         "name": "max",
         "rawType": "float64",
         "type": "float"
        }
       ],
       "conversionMethod": "pd.DataFrame",
       "ref": "f6d4e8f7-5ca7-4ac2-ad26-021ddeed3cbc",
       "rows": [
        [
         "total_concentration",
         "977389.0",
         "0.2417025056317904",
         "0.5060647344641181",
         "0.0",
         "0.06275",
         "0.151385",
         "0.2856",
         "39.2"
        ],
        [
         "target",
         "982317.0",
         "0.6899035647352127",
         "0.46253308410194605",
         "0.0",
         "0.0",
         "1.0",
         "1.0",
         "1.0"
        ]
       ],
       "shape": {
        "columns": 8,
        "rows": 2
       }
      },
      "text/html": [
       "<div>\n",
       "<style scoped>\n",
       "    .dataframe tbody tr th:only-of-type {\n",
       "        vertical-align: middle;\n",
       "    }\n",
       "\n",
       "    .dataframe tbody tr th {\n",
       "        vertical-align: top;\n",
       "    }\n",
       "\n",
       "    .dataframe thead th {\n",
       "        text-align: right;\n",
       "    }\n",
       "</style>\n",
       "<table border=\"1\" class=\"dataframe\">\n",
       "  <thead>\n",
       "    <tr style=\"text-align: right;\">\n",
       "      <th></th>\n",
       "      <th>count</th>\n",
       "      <th>mean</th>\n",
       "      <th>std</th>\n",
       "      <th>min</th>\n",
       "      <th>25%</th>\n",
       "      <th>50%</th>\n",
       "      <th>75%</th>\n",
       "      <th>max</th>\n",
       "    </tr>\n",
       "  </thead>\n",
       "  <tbody>\n",
       "    <tr>\n",
       "      <th>total_concentration</th>\n",
       "      <td>977389.0</td>\n",
       "      <td>0.241703</td>\n",
       "      <td>0.506065</td>\n",
       "      <td>0.0</td>\n",
       "      <td>0.06275</td>\n",
       "      <td>0.151385</td>\n",
       "      <td>0.2856</td>\n",
       "      <td>39.2</td>\n",
       "    </tr>\n",
       "    <tr>\n",
       "      <th>target</th>\n",
       "      <td>982317.0</td>\n",
       "      <td>0.689904</td>\n",
       "      <td>0.462533</td>\n",
       "      <td>0.0</td>\n",
       "      <td>0.00000</td>\n",
       "      <td>1.000000</td>\n",
       "      <td>1.0000</td>\n",
       "      <td>1.0</td>\n",
       "    </tr>\n",
       "  </tbody>\n",
       "</table>\n",
       "</div>"
      ],
      "text/plain": [
       "                        count      mean       std  min      25%       50%  \\\n",
       "total_concentration  977389.0  0.241703  0.506065  0.0  0.06275  0.151385   \n",
       "target               982317.0  0.689904  0.462533  0.0  0.00000  1.000000   \n",
       "\n",
       "                        75%   max  \n",
       "total_concentration  0.2856  39.2  \n",
       "target               1.0000   1.0  "
      ]
     },
     "execution_count": 148,
     "metadata": {},
     "output_type": "execute_result"
    }
   ],
   "source": [
    "# Check summary statistics\n",
    "pdf_sabt[['product_id', 'total_concentration', 'target', 'author_id',\n",
    "       'product_name', 'brand_name', 'submission_time', 'rating']].describe().T"
   ]
  },
  {
   "cell_type": "code",
   "execution_count": 149,
   "metadata": {},
   "outputs": [
    {
     "data": {
      "application/vnd.microsoft.datawrangler.viewer.v0+json": {
       "columns": [
        {
         "name": "(None, None)",
         "rawType": "object",
         "type": "unknown"
        },
        {
         "name": "0",
         "rawType": "float64",
         "type": "float"
        },
        {
         "name": "1",
         "rawType": "float64",
         "type": "float"
        }
       ],
       "conversionMethod": "pd.DataFrame",
       "ref": "60e41b66-c295-426e-9387-dbd658742112",
       "rows": [
        [
         "('total_concentration', 'count')",
         "304613.0",
         "672776.0"
        ],
        [
         "('total_concentration', 'mean')",
         "0.029170639401305917",
         "0.3379306251962021"
        ],
        [
         "('total_concentration', 'std')",
         "0.026689093946929646",
         "0.584827241921315"
        ],
        [
         "('total_concentration', 'min')",
         "0.0",
         "0.07515"
        ],
        [
         "('total_concentration', '25%')",
         "0.0",
         "0.14350000000000002"
        ],
        [
         "('total_concentration', '50%')",
         "0.02227",
         "0.2261"
        ],
        [
         "('total_concentration', '75%')",
         "0.05499999999999999",
         "0.372"
        ],
        [
         "('total_concentration', 'max')",
         "0.075",
         "39.2"
        ]
       ],
       "shape": {
        "columns": 2,
        "rows": 8
       }
      },
      "text/html": [
       "<div>\n",
       "<style scoped>\n",
       "    .dataframe tbody tr th:only-of-type {\n",
       "        vertical-align: middle;\n",
       "    }\n",
       "\n",
       "    .dataframe tbody tr th {\n",
       "        vertical-align: top;\n",
       "    }\n",
       "\n",
       "    .dataframe thead th {\n",
       "        text-align: right;\n",
       "    }\n",
       "</style>\n",
       "<table border=\"1\" class=\"dataframe\">\n",
       "  <thead>\n",
       "    <tr style=\"text-align: right;\">\n",
       "      <th></th>\n",
       "      <th>target</th>\n",
       "      <th>0</th>\n",
       "      <th>1</th>\n",
       "    </tr>\n",
       "  </thead>\n",
       "  <tbody>\n",
       "    <tr>\n",
       "      <th rowspan=\"8\" valign=\"top\">total_concentration</th>\n",
       "      <th>count</th>\n",
       "      <td>304613.000000</td>\n",
       "      <td>672776.000000</td>\n",
       "    </tr>\n",
       "    <tr>\n",
       "      <th>mean</th>\n",
       "      <td>0.029171</td>\n",
       "      <td>0.337931</td>\n",
       "    </tr>\n",
       "    <tr>\n",
       "      <th>std</th>\n",
       "      <td>0.026689</td>\n",
       "      <td>0.584827</td>\n",
       "    </tr>\n",
       "    <tr>\n",
       "      <th>min</th>\n",
       "      <td>0.000000</td>\n",
       "      <td>0.075150</td>\n",
       "    </tr>\n",
       "    <tr>\n",
       "      <th>25%</th>\n",
       "      <td>0.000000</td>\n",
       "      <td>0.143500</td>\n",
       "    </tr>\n",
       "    <tr>\n",
       "      <th>50%</th>\n",
       "      <td>0.022270</td>\n",
       "      <td>0.226100</td>\n",
       "    </tr>\n",
       "    <tr>\n",
       "      <th>75%</th>\n",
       "      <td>0.055000</td>\n",
       "      <td>0.372000</td>\n",
       "    </tr>\n",
       "    <tr>\n",
       "      <th>max</th>\n",
       "      <td>0.075000</td>\n",
       "      <td>39.200000</td>\n",
       "    </tr>\n",
       "  </tbody>\n",
       "</table>\n",
       "</div>"
      ],
      "text/plain": [
       "target                                 0              1\n",
       "total_concentration count  304613.000000  672776.000000\n",
       "                    mean        0.029171       0.337931\n",
       "                    std         0.026689       0.584827\n",
       "                    min         0.000000       0.075150\n",
       "                    25%         0.000000       0.143500\n",
       "                    50%         0.022270       0.226100\n",
       "                    75%         0.055000       0.372000\n",
       "                    max         0.075000      39.200000"
      ]
     },
     "execution_count": 149,
     "metadata": {},
     "output_type": "execute_result"
    }
   ],
   "source": [
    "pdf_sabt.groupby(['target'])[['total_concentration', 'rating']].describe().T"
   ]
  },
  {
   "cell_type": "code",
   "execution_count": 150,
   "metadata": {},
   "outputs": [],
   "source": [
    "data = pdf_sabt[['product_id', 'total_concentration', 'target', 'author_id',\n",
    "       'product_name', 'brand_name', 'submission_time', 'rating']].copy()"
   ]
  },
  {
   "cell_type": "code",
   "execution_count": 151,
   "metadata": {},
   "outputs": [
    {
     "name": "stdout",
     "output_type": "stream",
     "text": [
      "Training set size: 785853 samples\n",
      "Testing set size: 196464 samples\n"
     ]
    }
   ],
   "source": [
    "# Separate target variable and features\n",
    "from sklearn.model_selection import train_test_split\n",
    "\n",
    "target_col = 'target'\n",
    "\n",
    "X = data.loc[:, data.columns != target_col]\n",
    "y = data.loc[:, target_col]\n",
    "\n",
    "X_train, X_test, y_train, y_test = train_test_split(X, y, test_size=0.2, random_state=42)\n",
    "\n",
    "print(f'Training set size: {X_train.shape[0]} samples')\n",
    "print(f'Testing set size: {X_test.shape[0]} samples')"
   ]
  },
  {
   "cell_type": "code",
   "execution_count": 152,
   "metadata": {},
   "outputs": [
    {
     "data": {
      "application/vnd.microsoft.datawrangler.viewer.v0+json": {
       "columns": [
        {
         "name": "index",
         "rawType": "int64",
         "type": "integer"
        },
        {
         "name": "product_id",
         "rawType": "object",
         "type": "string"
        },
        {
         "name": "total_concentration",
         "rawType": "float64",
         "type": "float"
        },
        {
         "name": "author_id",
         "rawType": "object",
         "type": "string"
        },
        {
         "name": "product_name",
         "rawType": "object",
         "type": "string"
        },
        {
         "name": "brand_name",
         "rawType": "object",
         "type": "string"
        },
        {
         "name": "submission_time",
         "rawType": "object",
         "type": "string"
        },
        {
         "name": "rating",
         "rawType": "object",
         "type": "string"
        }
       ],
       "conversionMethod": "pd.DataFrame",
       "ref": "540b7d40-4608-4b90-ac2a-047237c8d15a",
       "rows": [
        [
         "3950",
         "P122900",
         "0.2835",
         "9295395115",
         "Dramatically Different Moisturizing Gel",
         "CLINIQUE",
         "2017-09-03",
         "4"
        ],
        [
         "335120",
         "P411540",
         "0.26180000000000003",
         "9794052125",
         "Cicapair Tiger Grass Color Correcting Treatment SPF 30",
         "Dr. Jart+",
         "2021-03-02",
         "5"
        ],
        [
         "557254",
         "P505346",
         "0.20884800000000003",
         "6274544266",
         "First Care Activating Serum 25th Anniversary Limited Edition",
         "Sulwhasoo",
         "2022-10-25",
         "5"
        ],
        [
         "490297",
         "P415771",
         "0.18614999999999998",
         "31759573925",
         "The Essence Skincare Boosting Treatment",
         "Tatcha",
         "2021-09-08",
         "4"
        ],
        [
         "111691",
         "P440504",
         "0.151875",
         "5064074590",
         "R + R Mask",
         "Summer Fridays",
         "2020-02-01",
         "3"
        ]
       ],
       "shape": {
        "columns": 7,
        "rows": 5
       }
      },
      "text/html": [
       "<div>\n",
       "<style scoped>\n",
       "    .dataframe tbody tr th:only-of-type {\n",
       "        vertical-align: middle;\n",
       "    }\n",
       "\n",
       "    .dataframe tbody tr th {\n",
       "        vertical-align: top;\n",
       "    }\n",
       "\n",
       "    .dataframe thead th {\n",
       "        text-align: right;\n",
       "    }\n",
       "</style>\n",
       "<table border=\"1\" class=\"dataframe\">\n",
       "  <thead>\n",
       "    <tr style=\"text-align: right;\">\n",
       "      <th></th>\n",
       "      <th>product_id</th>\n",
       "      <th>total_concentration</th>\n",
       "      <th>author_id</th>\n",
       "      <th>product_name</th>\n",
       "      <th>brand_name</th>\n",
       "      <th>submission_time</th>\n",
       "      <th>rating</th>\n",
       "    </tr>\n",
       "  </thead>\n",
       "  <tbody>\n",
       "    <tr>\n",
       "      <th>3950</th>\n",
       "      <td>P122900</td>\n",
       "      <td>0.283500</td>\n",
       "      <td>9295395115</td>\n",
       "      <td>Dramatically Different Moisturizing Gel</td>\n",
       "      <td>CLINIQUE</td>\n",
       "      <td>2017-09-03</td>\n",
       "      <td>4</td>\n",
       "    </tr>\n",
       "    <tr>\n",
       "      <th>335120</th>\n",
       "      <td>P411540</td>\n",
       "      <td>0.261800</td>\n",
       "      <td>9794052125</td>\n",
       "      <td>Cicapair Tiger Grass Color Correcting Treatmen...</td>\n",
       "      <td>Dr. Jart+</td>\n",
       "      <td>2021-03-02</td>\n",
       "      <td>5</td>\n",
       "    </tr>\n",
       "    <tr>\n",
       "      <th>557254</th>\n",
       "      <td>P505346</td>\n",
       "      <td>0.208848</td>\n",
       "      <td>6274544266</td>\n",
       "      <td>First Care Activating Serum 25th Anniversary L...</td>\n",
       "      <td>Sulwhasoo</td>\n",
       "      <td>2022-10-25</td>\n",
       "      <td>5</td>\n",
       "    </tr>\n",
       "    <tr>\n",
       "      <th>490297</th>\n",
       "      <td>P415771</td>\n",
       "      <td>0.186150</td>\n",
       "      <td>31759573925</td>\n",
       "      <td>The Essence Skincare Boosting Treatment</td>\n",
       "      <td>Tatcha</td>\n",
       "      <td>2021-09-08</td>\n",
       "      <td>4</td>\n",
       "    </tr>\n",
       "    <tr>\n",
       "      <th>111691</th>\n",
       "      <td>P440504</td>\n",
       "      <td>0.151875</td>\n",
       "      <td>5064074590</td>\n",
       "      <td>R + R Mask</td>\n",
       "      <td>Summer Fridays</td>\n",
       "      <td>2020-02-01</td>\n",
       "      <td>3</td>\n",
       "    </tr>\n",
       "  </tbody>\n",
       "</table>\n",
       "</div>"
      ],
      "text/plain": [
       "       product_id  total_concentration    author_id  \\\n",
       "3950      P122900             0.283500   9295395115   \n",
       "335120    P411540             0.261800   9794052125   \n",
       "557254    P505346             0.208848   6274544266   \n",
       "490297    P415771             0.186150  31759573925   \n",
       "111691    P440504             0.151875   5064074590   \n",
       "\n",
       "                                             product_name      brand_name  \\\n",
       "3950              Dramatically Different Moisturizing Gel        CLINIQUE   \n",
       "335120  Cicapair Tiger Grass Color Correcting Treatmen...       Dr. Jart+   \n",
       "557254  First Care Activating Serum 25th Anniversary L...       Sulwhasoo   \n",
       "490297            The Essence Skincare Boosting Treatment          Tatcha   \n",
       "111691                                         R + R Mask  Summer Fridays   \n",
       "\n",
       "       submission_time rating  \n",
       "3950        2017-09-03      4  \n",
       "335120      2021-03-02      5  \n",
       "557254      2022-10-25      5  \n",
       "490297      2021-09-08      4  \n",
       "111691      2020-02-01      3  "
      ]
     },
     "execution_count": 152,
     "metadata": {},
     "output_type": "execute_result"
    }
   ],
   "source": [
    "X_train.head()"
   ]
  },
  {
   "cell_type": "code",
   "execution_count": 153,
   "metadata": {},
   "outputs": [
    {
     "data": {
      "text/plain": [
       "3950      1\n",
       "335120    1\n",
       "557254    1\n",
       "490297    1\n",
       "111691    1\n",
       "Name: target, dtype: int32"
      ]
     },
     "execution_count": 153,
     "metadata": {},
     "output_type": "execute_result"
    }
   ],
   "source": [
    "y_train.head()"
   ]
  },
  {
   "cell_type": "code",
   "execution_count": 154,
   "metadata": {},
   "outputs": [
    {
     "name": "stdout",
     "output_type": "stream",
     "text": [
      "target\n",
      "1    542260\n",
      "0    243593\n",
      "Name: count, dtype: int64\n",
      "target\n",
      "1    135444\n",
      "0     61020\n",
      "Name: count, dtype: int64\n"
     ]
    }
   ],
   "source": [
    "print(y_train.value_counts())\n",
    "print(y_test.value_counts())"
   ]
  },
  {
   "cell_type": "code",
   "execution_count": 155,
   "metadata": {},
   "outputs": [
    {
     "data": {
      "application/vnd.jupyter.widget-view+json": {
       "model_id": "d21db68ac99d471a908755e0beadadcc",
       "version_major": 2,
       "version_minor": 0
      },
      "text/plain": [
       "MetricVisualizer(layout=Layout(align_self='stretch', height='500px'))"
      ]
     },
     "metadata": {},
     "output_type": "display_data"
    },
    {
     "name": "stdout",
     "output_type": "stream",
     "text": [
      "0:\tlearn: 0.9977056\ttest: 0.9981953\tbest: 0.9981953 (0)\ttotal: 868ms\tremaining: 7m 13s\n",
      "50:\tlearn: 0.9990033\ttest: 0.9994687\tbest: 0.9994687 (1)\ttotal: 15.4s\tremaining: 2m 15s\n",
      "100:\tlearn: 0.9990033\ttest: 0.9994687\tbest: 0.9994687 (1)\ttotal: 25.2s\tremaining: 1m 39s\n",
      "150:\tlearn: 0.9990033\ttest: 0.9994687\tbest: 0.9994687 (1)\ttotal: 34.4s\tremaining: 1m 19s\n",
      "200:\tlearn: 0.9990033\ttest: 0.9994687\tbest: 0.9994687 (1)\ttotal: 43.1s\tremaining: 1m 4s\n",
      "250:\tlearn: 0.9990033\ttest: 0.9994687\tbest: 0.9994687 (1)\ttotal: 51.6s\tremaining: 51.2s\n",
      "300:\tlearn: 0.9990033\ttest: 0.9994687\tbest: 0.9994687 (1)\ttotal: 1m\tremaining: 39.7s\n",
      "350:\tlearn: 0.9990033\ttest: 0.9994687\tbest: 0.9994687 (1)\ttotal: 1m 8s\tremaining: 29.1s\n",
      "400:\tlearn: 0.9990033\ttest: 0.9994687\tbest: 0.9994687 (1)\ttotal: 1m 17s\tremaining: 19s\n",
      "450:\tlearn: 0.9990033\ttest: 0.9994687\tbest: 0.9994687 (1)\ttotal: 1m 25s\tremaining: 9.31s\n",
      "499:\tlearn: 0.9990033\ttest: 0.9994687\tbest: 0.9994687 (1)\ttotal: 1m 34s\tremaining: 0us\n",
      "\n",
      "bestTest = 0.9994686974\n",
      "bestIteration = 1\n",
      "\n",
      "Shrink model to first 2 iterations.\n"
     ]
    },
    {
     "data": {
      "text/plain": [
       "<catboost.core.CatBoostClassifier at 0x13d416c3ad0>"
      ]
     },
     "execution_count": 155,
     "metadata": {},
     "output_type": "execute_result"
    }
   ],
   "source": [
    "from catboost import CatBoostClassifier\n",
    "\n",
    "X_train = X_train.astype(str)\n",
    "X_test = X_test.astype(str)\n",
    "\n",
    "cat_features = X_train.select_dtypes(include=['object']).columns.tolist()\n",
    "\n",
    "model = CatBoostClassifier(iterations=500, depth=6, learning_rate=0.1, verbose=50, eval_metric='F1')\n",
    "\n",
    "model.fit(X_train, y_train, cat_features=cat_features, eval_set=(X_test, y_test), plot=True)"
   ]
  },
  {
   "cell_type": "code",
   "execution_count": 156,
   "metadata": {},
   "outputs": [
    {
     "name": "stdout",
     "output_type": "stream",
     "text": [
      "Predictions: [1 1 1 0 1 0 0 0 1 1 1 1 1 1 0 1 1 1 1 1 1 1 1 0 1 0 0 1 1 1 1 0 0 0 1 1 0\n",
      " 0 1 1 0 1 1 1 0 0 1 1 1 1]\n"
     ]
    }
   ],
   "source": [
    "y_pred = model.predict(X_test)\n",
    "\n",
    "print(f'Predictions: {y_pred[:50]}')"
   ]
  },
  {
   "cell_type": "code",
   "execution_count": 157,
   "metadata": {},
   "outputs": [
    {
     "name": "stdout",
     "output_type": "stream",
     "text": [
      "Accuracy: 0.9993\n",
      "F1: 0.9995\n",
      "Precision: 0.9989\n",
      "Recall: 1.0000\n",
      "\n",
      "Classification Report:\n",
      "              precision    recall  f1-score   support\n",
      "\n",
      "           0       1.00      1.00      1.00     61020\n",
      "           1       1.00      1.00      1.00    135444\n",
      "\n",
      "    accuracy                           1.00    196464\n",
      "   macro avg       1.00      1.00      1.00    196464\n",
      "weighted avg       1.00      1.00      1.00    196464\n",
      "\n",
      "[[ 60876    144]\n",
      " [     0 135444]]\n"
     ]
    },
    {
     "data": {
      "text/plain": [
       "<sklearn.metrics._plot.confusion_matrix.ConfusionMatrixDisplay at 0x13d610f8680>"
      ]
     },
     "execution_count": 157,
     "metadata": {},
     "output_type": "execute_result"
    },
    {
     "data": {
      "image/png": "[encoded data removed]",
      "text/plain": [
       "<Figure size 640x480 with 2 Axes>"
      ]
     },
     "metadata": {},
     "output_type": "display_data"
    }
   ],
   "source": [
    "from sklearn.metrics import accuracy_score, precision_score, recall_score, classification_report, f1_score\n",
    "\n",
    "# Evaluate the model\n",
    "print(f'Accuracy: {accuracy_score(y_test, y_pred):.4f}')\n",
    "print(f'F1: {f1_score(y_test, y_pred):.4f}')\n",
    "print(f'Precision: {precision_score(y_test, y_pred):.4f}')\n",
    "print(f'Recall: {recall_score(y_test, y_pred):.4f}')\n",
    "\n",
    "# Print classification report\n",
    "print(\"\\nClassification Report:\")\n",
    "print(classification_report(y_test, y_pred))\n",
    "\n",
    "cm_train = confusion_matrix(y_test, y_pred)\n",
    "print(cm_train)\n",
    "\n",
    "cmd_train = ConfusionMatrixDisplay(cm_train)\n",
    "cmd_train.plot()"
   ]
  },
  {
   "cell_type": "code",
   "execution_count": 160,
   "metadata": {},
   "outputs": [
    {
     "name": "stdout",
     "output_type": "stream",
     "text": [
      "20250320_2034\n",
      "btl_model_20250320_2034_matched-conc_P442990_purchases\n"
     ]
    }
   ],
   "source": [
    "# Set model name\n",
    "\n",
    "prefix_name=\"matched-conc_P442990_purchases\"\n",
    "\n",
    "model_name = f\"btl_model_{get_datetime()}_{prefix_name}\"\n",
    "print(f\"{model_name}\")"
   ]
  },
  {
   "cell_type": "code",
   "execution_count": 161,
   "metadata": {},
   "outputs": [
    {
     "name": "stdout",
     "output_type": "stream",
     "text": [
      "Model saved as btl_model_20250320_2034_matched-conc_P442990_purchases.pkl\n"
     ]
    }
   ],
   "source": [
    "# Save model\n",
    "\n",
    "import pickle\n",
    "\n",
    "with open(f\"{model_name}.pkl\", \"wb\") as file:\n",
    "    pickle.dump(model, file)\n",
    "\n",
    "print(f\"Model saved as {model_name}.pkl\")"
   ]
  }
 ],
 "metadata": {
  "kernelspec": {
   "display_name": "Python 3",
   "language": "python",
   "name": "python3"
  },
  "language_info": {
   "codemirror_mode": {
    "name": "ipython",
    "version": 3
   },
   "file_extension": ".py",
   "mimetype": "text/x-python",
   "name": "python",
   "nbconvert_exporter": "python",
   "pygments_lexer": "ipython3",
   "version": "3.12.2"
  }
 },
 "nbformat": 4,
 "nbformat_minor": 2
}
